{
 "cells": [
  {
   "cell_type": "markdown",
   "id": "3621988f",
   "metadata": {
    "papermill": {
     "duration": 0.00867,
     "end_time": "2022-08-26T06:02:47.410420",
     "exception": false,
     "start_time": "2022-08-26T06:02:47.401750",
     "status": "completed"
    },
    "tags": []
   },
   "source": [
    "Dataset URL : https://www.kaggle.com/datasets/bobbyscience/league-of-legends-diamond-ranked-games-10-min"
   ]
  },
  {
   "cell_type": "markdown",
   "id": "2c179a38",
   "metadata": {
    "papermill": {
     "duration": 0.007523,
     "end_time": "2022-08-26T06:02:47.425712",
     "exception": false,
     "start_time": "2022-08-26T06:02:47.418189",
     "status": "completed"
    },
    "tags": []
   },
   "source": [
    "# Imports"
   ]
  },
  {
   "cell_type": "code",
   "execution_count": 1,
   "id": "91d7c8a6",
   "metadata": {
    "_cell_guid": "b1076dfc-b9ad-4769-8c92-a6c4dae69d19",
    "_uuid": "8f2839f25d086af736a60e9eeb907d3b93b6e0e5",
    "execution": {
     "iopub.execute_input": "2022-08-26T06:02:47.442619Z",
     "iopub.status.busy": "2022-08-26T06:02:47.442172Z",
     "iopub.status.idle": "2022-08-26T06:02:48.789935Z",
     "shell.execute_reply": "2022-08-26T06:02:48.788552Z"
    },
    "papermill": {
     "duration": 1.360068,
     "end_time": "2022-08-26T06:02:48.793155",
     "exception": false,
     "start_time": "2022-08-26T06:02:47.433087",
     "status": "completed"
    },
    "tags": []
   },
   "outputs": [],
   "source": [
    "import numpy as np\n",
    "import pandas as pd\n",
    "import seaborn as sns\n",
    "from statsmodels.stats.outliers_influence import variance_inflation_factor  "
   ]
  },
  {
   "cell_type": "markdown",
   "id": "63529222",
   "metadata": {
    "papermill": {
     "duration": 0.007119,
     "end_time": "2022-08-26T06:02:48.807772",
     "exception": false,
     "start_time": "2022-08-26T06:02:48.800653",
     "status": "completed"
    },
    "tags": []
   },
   "source": [
    "# Loading Data"
   ]
  },
  {
   "cell_type": "code",
   "execution_count": 2,
   "id": "a2624e78",
   "metadata": {
    "execution": {
     "iopub.execute_input": "2022-08-26T06:02:48.824757Z",
     "iopub.status.busy": "2022-08-26T06:02:48.824144Z",
     "iopub.status.idle": "2022-08-26T06:02:48.902772Z",
     "shell.execute_reply": "2022-08-26T06:02:48.901757Z"
    },
    "papermill": {
     "duration": 0.090261,
     "end_time": "2022-08-26T06:02:48.905448",
     "exception": false,
     "start_time": "2022-08-26T06:02:48.815187",
     "status": "completed"
    },
    "tags": []
   },
   "outputs": [],
   "source": [
    "df = pd.read_csv(\"../input/league-of-legends-diamond-ranked-games-10-min/high_diamond_ranked_10min.csv\")"
   ]
  },
  {
   "cell_type": "code",
   "execution_count": 3,
   "id": "75c5ce37",
   "metadata": {
    "execution": {
     "iopub.execute_input": "2022-08-26T06:02:48.922596Z",
     "iopub.status.busy": "2022-08-26T06:02:48.921641Z",
     "iopub.status.idle": "2022-08-26T06:02:48.952086Z",
     "shell.execute_reply": "2022-08-26T06:02:48.951152Z"
    },
    "papermill": {
     "duration": 0.043351,
     "end_time": "2022-08-26T06:02:48.956257",
     "exception": false,
     "start_time": "2022-08-26T06:02:48.912906",
     "status": "completed"
    },
    "tags": []
   },
   "outputs": [
    {
     "name": "stdout",
     "output_type": "stream",
     "text": [
      "<class 'pandas.core.frame.DataFrame'>\n",
      "RangeIndex: 9879 entries, 0 to 9878\n",
      "Data columns (total 40 columns):\n",
      " #   Column                        Non-Null Count  Dtype  \n",
      "---  ------                        --------------  -----  \n",
      " 0   gameId                        9879 non-null   int64  \n",
      " 1   blueWins                      9879 non-null   int64  \n",
      " 2   blueWardsPlaced               9879 non-null   int64  \n",
      " 3   blueWardsDestroyed            9879 non-null   int64  \n",
      " 4   blueFirstBlood                9879 non-null   int64  \n",
      " 5   blueKills                     9879 non-null   int64  \n",
      " 6   blueDeaths                    9879 non-null   int64  \n",
      " 7   blueAssists                   9879 non-null   int64  \n",
      " 8   blueEliteMonsters             9879 non-null   int64  \n",
      " 9   blueDragons                   9879 non-null   int64  \n",
      " 10  blueHeralds                   9879 non-null   int64  \n",
      " 11  blueTowersDestroyed           9879 non-null   int64  \n",
      " 12  blueTotalGold                 9879 non-null   int64  \n",
      " 13  blueAvgLevel                  9879 non-null   float64\n",
      " 14  blueTotalExperience           9879 non-null   int64  \n",
      " 15  blueTotalMinionsKilled        9879 non-null   int64  \n",
      " 16  blueTotalJungleMinionsKilled  9879 non-null   int64  \n",
      " 17  blueGoldDiff                  9879 non-null   int64  \n",
      " 18  blueExperienceDiff            9879 non-null   int64  \n",
      " 19  blueCSPerMin                  9879 non-null   float64\n",
      " 20  blueGoldPerMin                9879 non-null   float64\n",
      " 21  redWardsPlaced                9879 non-null   int64  \n",
      " 22  redWardsDestroyed             9879 non-null   int64  \n",
      " 23  redFirstBlood                 9879 non-null   int64  \n",
      " 24  redKills                      9879 non-null   int64  \n",
      " 25  redDeaths                     9879 non-null   int64  \n",
      " 26  redAssists                    9879 non-null   int64  \n",
      " 27  redEliteMonsters              9879 non-null   int64  \n",
      " 28  redDragons                    9879 non-null   int64  \n",
      " 29  redHeralds                    9879 non-null   int64  \n",
      " 30  redTowersDestroyed            9879 non-null   int64  \n",
      " 31  redTotalGold                  9879 non-null   int64  \n",
      " 32  redAvgLevel                   9879 non-null   float64\n",
      " 33  redTotalExperience            9879 non-null   int64  \n",
      " 34  redTotalMinionsKilled         9879 non-null   int64  \n",
      " 35  redTotalJungleMinionsKilled   9879 non-null   int64  \n",
      " 36  redGoldDiff                   9879 non-null   int64  \n",
      " 37  redExperienceDiff             9879 non-null   int64  \n",
      " 38  redCSPerMin                   9879 non-null   float64\n",
      " 39  redGoldPerMin                 9879 non-null   float64\n",
      "dtypes: float64(6), int64(34)\n",
      "memory usage: 3.0 MB\n"
     ]
    }
   ],
   "source": [
    "df.info()"
   ]
  },
  {
   "cell_type": "code",
   "execution_count": 4,
   "id": "98c80cd7",
   "metadata": {
    "execution": {
     "iopub.execute_input": "2022-08-26T06:02:48.975147Z",
     "iopub.status.busy": "2022-08-26T06:02:48.974390Z",
     "iopub.status.idle": "2022-08-26T06:02:48.982746Z",
     "shell.execute_reply": "2022-08-26T06:02:48.981513Z"
    },
    "papermill": {
     "duration": 0.02032,
     "end_time": "2022-08-26T06:02:48.985492",
     "exception": false,
     "start_time": "2022-08-26T06:02:48.965172",
     "status": "completed"
    },
    "tags": []
   },
   "outputs": [],
   "source": [
    "df = df.drop(\"gameId\", axis=1)"
   ]
  },
  {
   "cell_type": "code",
   "execution_count": 5,
   "id": "82d33831",
   "metadata": {
    "execution": {
     "iopub.execute_input": "2022-08-26T06:02:49.002295Z",
     "iopub.status.busy": "2022-08-26T06:02:49.001854Z",
     "iopub.status.idle": "2022-08-26T06:02:49.011867Z",
     "shell.execute_reply": "2022-08-26T06:02:49.010706Z"
    },
    "papermill": {
     "duration": 0.02117,
     "end_time": "2022-08-26T06:02:49.014227",
     "exception": false,
     "start_time": "2022-08-26T06:02:48.993057",
     "status": "completed"
    },
    "tags": []
   },
   "outputs": [
    {
     "data": {
      "text/plain": [
       "Index(['blueWins', 'blueWardsPlaced', 'blueWardsDestroyed', 'blueFirstBlood',\n",
       "       'blueKills', 'blueDeaths', 'blueAssists', 'blueEliteMonsters',\n",
       "       'blueDragons', 'blueHeralds', 'blueTowersDestroyed', 'blueTotalGold',\n",
       "       'blueAvgLevel', 'blueTotalExperience', 'blueTotalMinionsKilled',\n",
       "       'blueTotalJungleMinionsKilled', 'blueGoldDiff', 'blueExperienceDiff',\n",
       "       'blueCSPerMin', 'blueGoldPerMin', 'redWardsPlaced', 'redWardsDestroyed',\n",
       "       'redFirstBlood', 'redKills', 'redDeaths', 'redAssists',\n",
       "       'redEliteMonsters', 'redDragons', 'redHeralds', 'redTowersDestroyed',\n",
       "       'redTotalGold', 'redAvgLevel', 'redTotalExperience',\n",
       "       'redTotalMinionsKilled', 'redTotalJungleMinionsKilled', 'redGoldDiff',\n",
       "       'redExperienceDiff', 'redCSPerMin', 'redGoldPerMin'],\n",
       "      dtype='object')"
      ]
     },
     "execution_count": 5,
     "metadata": {},
     "output_type": "execute_result"
    }
   ],
   "source": [
    "df.columns"
   ]
  },
  {
   "cell_type": "markdown",
   "id": "b2de3a3c",
   "metadata": {
    "papermill": {
     "duration": 0.007406,
     "end_time": "2022-08-26T06:02:49.029947",
     "exception": false,
     "start_time": "2022-08-26T06:02:49.022541",
     "status": "completed"
    },
    "tags": []
   },
   "source": [
    "# Data Cleaning"
   ]
  },
  {
   "cell_type": "code",
   "execution_count": 6,
   "id": "3215df45",
   "metadata": {
    "execution": {
     "iopub.execute_input": "2022-08-26T06:02:49.048772Z",
     "iopub.status.busy": "2022-08-26T06:02:49.047568Z",
     "iopub.status.idle": "2022-08-26T06:02:49.054159Z",
     "shell.execute_reply": "2022-08-26T06:02:49.052944Z"
    },
    "papermill": {
     "duration": 0.018361,
     "end_time": "2022-08-26T06:02:49.056899",
     "exception": false,
     "start_time": "2022-08-26T06:02:49.038538",
     "status": "completed"
    },
    "tags": []
   },
   "outputs": [],
   "source": [
    "df2 = df.copy()"
   ]
  },
  {
   "cell_type": "code",
   "execution_count": 7,
   "id": "9ec58db7",
   "metadata": {
    "execution": {
     "iopub.execute_input": "2022-08-26T06:02:49.074469Z",
     "iopub.status.busy": "2022-08-26T06:02:49.074010Z",
     "iopub.status.idle": "2022-08-26T06:02:49.131279Z",
     "shell.execute_reply": "2022-08-26T06:02:49.129828Z"
    },
    "papermill": {
     "duration": 0.069212,
     "end_time": "2022-08-26T06:02:49.134040",
     "exception": false,
     "start_time": "2022-08-26T06:02:49.064828",
     "status": "completed"
    },
    "tags": []
   },
   "outputs": [
    {
     "data": {
      "text/plain": [
       "blueWins                        1.000000\n",
       "redGoldDiff                     0.511119\n",
       "blueGoldDiff                    0.511119\n",
       "redExperienceDiff               0.489558\n",
       "blueExperienceDiff              0.489558\n",
       "blueTotalGold                   0.417213\n",
       "blueGoldPerMin                  0.417213\n",
       "redTotalGold                    0.411396\n",
       "redGoldPerMin                   0.411396\n",
       "blueTotalExperience             0.396141\n",
       "redTotalExperience              0.387588\n",
       "blueAvgLevel                    0.357820\n",
       "redAvgLevel                     0.352127\n",
       "blueDeaths                      0.339297\n",
       "redKills                        0.339297\n",
       "blueKills                       0.337358\n",
       "redDeaths                       0.337358\n",
       "blueAssists                     0.276685\n",
       "redAssists                      0.271047\n",
       "blueCSPerMin                    0.224909\n",
       "blueTotalMinionsKilled          0.224909\n",
       "blueEliteMonsters               0.221944\n",
       "redEliteMonsters                0.221551\n",
       "blueDragons                     0.213768\n",
       "redTotalMinionsKilled           0.212171\n",
       "redCSPerMin                     0.212171\n",
       "redDragons                      0.209516\n",
       "redFirstBlood                   0.201769\n",
       "blueFirstBlood                  0.201769\n",
       "blueTotalJungleMinionsKilled    0.131445\n",
       "blueTowersDestroyed             0.115566\n",
       "redTotalJungleMinionsKilled     0.110994\n",
       "redTowersDestroyed              0.103696\n",
       "redHeralds                      0.097172\n",
       "blueHeralds                     0.092385\n",
       "redWardsDestroyed               0.055400\n",
       "blueWardsDestroyed              0.044247\n",
       "redWardsPlaced                  0.023671\n",
       "blueWardsPlaced                 0.000087\n",
       "Name: blueWins, dtype: float64"
      ]
     },
     "execution_count": 7,
     "metadata": {},
     "output_type": "execute_result"
    }
   ],
   "source": [
    "df2.corr()[\"blueWins\"].abs().sort_values(ascending=False)"
   ]
  },
  {
   "cell_type": "markdown",
   "id": "f49ef6f3",
   "metadata": {
    "papermill": {
     "duration": 0.007659,
     "end_time": "2022-08-26T06:02:49.149605",
     "exception": false,
     "start_time": "2022-08-26T06:02:49.141946",
     "status": "completed"
    },
    "tags": []
   },
   "source": [
    "1. Blue Deaths = Red Kills.\n",
    "2. Red Deaths = Blue Kills.\n",
    "3. All \"diff\" columns are redundant. We can keep just one of each pair. (We can observe same correlation value).\n",
    "4. \"perMin\" based features can be paired to create a single \"diff\" column.\n",
    "5. We can observe that correlation of perMin of features is same as correlation total of item (Gold, CS (minion kill)). So we drop the perMin parts.\n",
    "6. One team has first blood, so the other can't have it."
   ]
  },
  {
   "cell_type": "code",
   "execution_count": 8,
   "id": "c4e4cb11",
   "metadata": {
    "execution": {
     "iopub.execute_input": "2022-08-26T06:02:49.167614Z",
     "iopub.status.busy": "2022-08-26T06:02:49.166876Z",
     "iopub.status.idle": "2022-08-26T06:02:49.174095Z",
     "shell.execute_reply": "2022-08-26T06:02:49.173093Z"
    },
    "papermill": {
     "duration": 0.019054,
     "end_time": "2022-08-26T06:02:49.176615",
     "exception": false,
     "start_time": "2022-08-26T06:02:49.157561",
     "status": "completed"
    },
    "tags": []
   },
   "outputs": [],
   "source": [
    "to_drop = [\n",
    "    \"redGoldDiff\",\n",
    "    \"blueGoldDiff\",\n",
    "    \"redExperienceDiff\",\n",
    "    \"blueExperienceDiff\",\n",
    "    \"redFirstBlood\", \n",
    "    \"redGoldPerMin\", \n",
    "    \"blueGoldPerMin\", \n",
    "    \"blueCSPerMin\", \n",
    "    \"redCSPerMin\", \n",
    "    \"redDeaths\", \n",
    "    \"redKills\",\n",
    "    \"redAssists\",\n",
    "    \"blueAssists\"\n",
    "]\n",
    "df2 = df.drop(to_drop, axis = 1)"
   ]
  },
  {
   "cell_type": "markdown",
   "id": "1f613ee6",
   "metadata": {
    "papermill": {
     "duration": 0.008819,
     "end_time": "2022-08-26T06:02:49.193436",
     "exception": false,
     "start_time": "2022-08-26T06:02:49.184617",
     "status": "completed"
    },
    "tags": []
   },
   "source": [
    "Converting the rest of the stats to maybe a good way to reduce dimensionality, because the essence of the game is to perform better than the other team. So \"diff\" based features should be more meaningful."
   ]
  },
  {
   "cell_type": "code",
   "execution_count": 9,
   "id": "5e27afd4",
   "metadata": {
    "execution": {
     "iopub.execute_input": "2022-08-26T06:02:49.211996Z",
     "iopub.status.busy": "2022-08-26T06:02:49.211184Z",
     "iopub.status.idle": "2022-08-26T06:02:49.225511Z",
     "shell.execute_reply": "2022-08-26T06:02:49.224426Z"
    },
    "papermill": {
     "duration": 0.026793,
     "end_time": "2022-08-26T06:02:49.228154",
     "exception": false,
     "start_time": "2022-08-26T06:02:49.201361",
     "status": "completed"
    },
    "tags": []
   },
   "outputs": [],
   "source": [
    "diffFeatures = [\n",
    "    \"TotalGold\", \n",
    "    \"TotalExperience\", \n",
    "    \"AvgLevel\",\n",
    "    \"TotalMinionsKilled\",\n",
    "    \"EliteMonsters\",\n",
    "    \"Dragons\",\n",
    "    \"TotalJungleMinionsKilled\",\n",
    "    \"TowersDestroyed\",\n",
    "    \"Heralds\",\n",
    "    \"WardsDestroyed\",\n",
    "    \"WardsPlaced\"\n",
    "]\n",
    "\n",
    "for i in diffFeatures :\n",
    "    df2[i+\"Diff\"] = df[\"blue\"+i] - df[\"red\"+i]"
   ]
  },
  {
   "cell_type": "markdown",
   "id": "ddf3d74a",
   "metadata": {
    "papermill": {
     "duration": 0.007484,
     "end_time": "2022-08-26T06:02:49.243641",
     "exception": false,
     "start_time": "2022-08-26T06:02:49.236157",
     "status": "completed"
    },
    "tags": []
   },
   "source": [
    "Let's verify if it actually worked"
   ]
  },
  {
   "cell_type": "code",
   "execution_count": 10,
   "id": "04c0979c",
   "metadata": {
    "execution": {
     "iopub.execute_input": "2022-08-26T06:02:49.261263Z",
     "iopub.status.busy": "2022-08-26T06:02:49.260857Z",
     "iopub.status.idle": "2022-08-26T06:02:49.329582Z",
     "shell.execute_reply": "2022-08-26T06:02:49.328340Z"
    },
    "papermill": {
     "duration": 0.080648,
     "end_time": "2022-08-26T06:02:49.332049",
     "exception": false,
     "start_time": "2022-08-26T06:02:49.251401",
     "status": "completed"
    },
    "tags": []
   },
   "outputs": [
    {
     "data": {
      "text/html": [
       "<div>\n",
       "<style scoped>\n",
       "    .dataframe tbody tr th:only-of-type {\n",
       "        vertical-align: middle;\n",
       "    }\n",
       "\n",
       "    .dataframe tbody tr th {\n",
       "        vertical-align: top;\n",
       "    }\n",
       "\n",
       "    .dataframe thead th {\n",
       "        text-align: right;\n",
       "    }\n",
       "</style>\n",
       "<table border=\"1\" class=\"dataframe\">\n",
       "  <thead>\n",
       "    <tr style=\"text-align: right;\">\n",
       "      <th></th>\n",
       "      <th>feature</th>\n",
       "      <th>blue corr</th>\n",
       "      <th>red corr</th>\n",
       "      <th>diff corr</th>\n",
       "      <th>better?</th>\n",
       "    </tr>\n",
       "  </thead>\n",
       "  <tbody>\n",
       "    <tr>\n",
       "      <th>0</th>\n",
       "      <td>TotalGold</td>\n",
       "      <td>0.417213</td>\n",
       "      <td>-0.411396</td>\n",
       "      <td>0.511119</td>\n",
       "      <td>True</td>\n",
       "    </tr>\n",
       "    <tr>\n",
       "      <th>1</th>\n",
       "      <td>TotalExperience</td>\n",
       "      <td>0.396141</td>\n",
       "      <td>-0.387588</td>\n",
       "      <td>0.489558</td>\n",
       "      <td>True</td>\n",
       "    </tr>\n",
       "    <tr>\n",
       "      <th>2</th>\n",
       "      <td>AvgLevel</td>\n",
       "      <td>0.357820</td>\n",
       "      <td>-0.352127</td>\n",
       "      <td>0.452927</td>\n",
       "      <td>True</td>\n",
       "    </tr>\n",
       "    <tr>\n",
       "      <th>3</th>\n",
       "      <td>TotalMinionsKilled</td>\n",
       "      <td>0.224909</td>\n",
       "      <td>-0.212171</td>\n",
       "      <td>0.309126</td>\n",
       "      <td>True</td>\n",
       "    </tr>\n",
       "    <tr>\n",
       "      <th>4</th>\n",
       "      <td>EliteMonsters</td>\n",
       "      <td>0.221944</td>\n",
       "      <td>-0.221551</td>\n",
       "      <td>0.259969</td>\n",
       "      <td>True</td>\n",
       "    </tr>\n",
       "    <tr>\n",
       "      <th>5</th>\n",
       "      <td>Dragons</td>\n",
       "      <td>0.213768</td>\n",
       "      <td>-0.209516</td>\n",
       "      <td>0.234264</td>\n",
       "      <td>True</td>\n",
       "    </tr>\n",
       "    <tr>\n",
       "      <th>6</th>\n",
       "      <td>TotalJungleMinionsKilled</td>\n",
       "      <td>0.131445</td>\n",
       "      <td>-0.110994</td>\n",
       "      <td>0.169118</td>\n",
       "      <td>True</td>\n",
       "    </tr>\n",
       "    <tr>\n",
       "      <th>7</th>\n",
       "      <td>TowersDestroyed</td>\n",
       "      <td>0.115566</td>\n",
       "      <td>-0.103696</td>\n",
       "      <td>0.156179</td>\n",
       "      <td>True</td>\n",
       "    </tr>\n",
       "    <tr>\n",
       "      <th>8</th>\n",
       "      <td>Heralds</td>\n",
       "      <td>0.092385</td>\n",
       "      <td>-0.097172</td>\n",
       "      <td>0.121713</td>\n",
       "      <td>True</td>\n",
       "    </tr>\n",
       "    <tr>\n",
       "      <th>9</th>\n",
       "      <td>WardsDestroyed</td>\n",
       "      <td>0.044247</td>\n",
       "      <td>-0.055400</td>\n",
       "      <td>0.075205</td>\n",
       "      <td>True</td>\n",
       "    </tr>\n",
       "    <tr>\n",
       "      <th>10</th>\n",
       "      <td>WardsPlaced</td>\n",
       "      <td>0.000087</td>\n",
       "      <td>-0.023671</td>\n",
       "      <td>0.016890</td>\n",
       "      <td>False</td>\n",
       "    </tr>\n",
       "  </tbody>\n",
       "</table>\n",
       "</div>"
      ],
      "text/plain": [
       "                     feature  blue corr  red corr  diff corr  better?\n",
       "0                  TotalGold   0.417213 -0.411396   0.511119     True\n",
       "1            TotalExperience   0.396141 -0.387588   0.489558     True\n",
       "2                   AvgLevel   0.357820 -0.352127   0.452927     True\n",
       "3         TotalMinionsKilled   0.224909 -0.212171   0.309126     True\n",
       "4              EliteMonsters   0.221944 -0.221551   0.259969     True\n",
       "5                    Dragons   0.213768 -0.209516   0.234264     True\n",
       "6   TotalJungleMinionsKilled   0.131445 -0.110994   0.169118     True\n",
       "7            TowersDestroyed   0.115566 -0.103696   0.156179     True\n",
       "8                    Heralds   0.092385 -0.097172   0.121713     True\n",
       "9             WardsDestroyed   0.044247 -0.055400   0.075205     True\n",
       "10               WardsPlaced   0.000087 -0.023671   0.016890    False"
      ]
     },
     "execution_count": 10,
     "metadata": {},
     "output_type": "execute_result"
    }
   ],
   "source": [
    "temp = []\n",
    "c = df2.corr()[\"blueWins\"]\n",
    "for i in diffFeatures : \n",
    "    temp.append((i, c[\"blue\"+i], c[\"red\"+i], c[i+\"Diff\"], c[i+\"Diff\"] > max(abs(c[\"blue\"+i]), abs(c[\"red\"+i]))))\n",
    "\n",
    "temp = pd.DataFrame(temp, columns = [\"feature\", \"blue corr\", \"red corr\", \"diff corr\", \"better?\"])\n",
    "temp"
   ]
  },
  {
   "cell_type": "markdown",
   "id": "8a8f71d7",
   "metadata": {
    "papermill": {
     "duration": 0.007989,
     "end_time": "2022-08-26T06:02:49.348409",
     "exception": false,
     "start_time": "2022-08-26T06:02:49.340420",
     "status": "completed"
    },
    "tags": []
   },
   "source": [
    "Looks promising, in 10/11 cases, the diff worked better than the individual data. As an approximation, I'll consider all diffs and drop the original columns. This will reduce 11 columns (22 removed, 11 added)."
   ]
  },
  {
   "cell_type": "code",
   "execution_count": 11,
   "id": "8a79ec45",
   "metadata": {
    "execution": {
     "iopub.execute_input": "2022-08-26T06:02:49.367769Z",
     "iopub.status.busy": "2022-08-26T06:02:49.367364Z",
     "iopub.status.idle": "2022-08-26T06:02:49.380087Z",
     "shell.execute_reply": "2022-08-26T06:02:49.379054Z"
    },
    "papermill": {
     "duration": 0.02569,
     "end_time": "2022-08-26T06:02:49.382795",
     "exception": false,
     "start_time": "2022-08-26T06:02:49.357105",
     "status": "completed"
    },
    "tags": []
   },
   "outputs": [],
   "source": [
    "to_drop = []\n",
    "for i in diffFeatures : \n",
    "    to_drop.append(\"blue\"+i)\n",
    "    to_drop.append(\"red\"+i)\n",
    "\n",
    "df2 = df2.drop(to_drop, axis=1)"
   ]
  },
  {
   "cell_type": "code",
   "execution_count": 12,
   "id": "6a654d06",
   "metadata": {
    "execution": {
     "iopub.execute_input": "2022-08-26T06:02:49.401406Z",
     "iopub.status.busy": "2022-08-26T06:02:49.400790Z",
     "iopub.status.idle": "2022-08-26T06:02:49.416856Z",
     "shell.execute_reply": "2022-08-26T06:02:49.416097Z"
    },
    "papermill": {
     "duration": 0.028288,
     "end_time": "2022-08-26T06:02:49.419275",
     "exception": false,
     "start_time": "2022-08-26T06:02:49.390987",
     "status": "completed"
    },
    "tags": []
   },
   "outputs": [
    {
     "data": {
      "text/plain": [
       "blueWins                        1.000000\n",
       "TotalGoldDiff                   0.511119\n",
       "TotalExperienceDiff             0.489558\n",
       "AvgLevelDiff                    0.452927\n",
       "blueDeaths                      0.339297\n",
       "blueKills                       0.337358\n",
       "TotalMinionsKilledDiff          0.309126\n",
       "EliteMonstersDiff               0.259969\n",
       "DragonsDiff                     0.234264\n",
       "blueFirstBlood                  0.201769\n",
       "TotalJungleMinionsKilledDiff    0.169118\n",
       "TowersDestroyedDiff             0.156179\n",
       "HeraldsDiff                     0.121713\n",
       "WardsDestroyedDiff              0.075205\n",
       "WardsPlacedDiff                 0.016890\n",
       "Name: blueWins, dtype: float64"
      ]
     },
     "execution_count": 12,
     "metadata": {},
     "output_type": "execute_result"
    }
   ],
   "source": [
    "df2.corr()[\"blueWins\"].abs().sort_values(ascending=False)"
   ]
  },
  {
   "cell_type": "markdown",
   "id": "f94f1d12",
   "metadata": {
    "papermill": {
     "duration": 0.008099,
     "end_time": "2022-08-26T06:02:49.435806",
     "exception": false,
     "start_time": "2022-08-26T06:02:49.427707",
     "status": "completed"
    },
    "tags": []
   },
   "source": [
    "Let's check for correlation between features."
   ]
  },
  {
   "cell_type": "code",
   "execution_count": 13,
   "id": "a802ec16",
   "metadata": {
    "execution": {
     "iopub.execute_input": "2022-08-26T06:02:49.454718Z",
     "iopub.status.busy": "2022-08-26T06:02:49.454130Z",
     "iopub.status.idle": "2022-08-26T06:02:49.919891Z",
     "shell.execute_reply": "2022-08-26T06:02:49.918684Z"
    },
    "papermill": {
     "duration": 0.478124,
     "end_time": "2022-08-26T06:02:49.922378",
     "exception": false,
     "start_time": "2022-08-26T06:02:49.444254",
     "status": "completed"
    },
    "tags": []
   },
   "outputs": [
    {
     "data": {
      "text/plain": [
       "<AxesSubplot:>"
      ]
     },
     "execution_count": 13,
     "metadata": {},
     "output_type": "execute_result"
    },
    {
     "data": {
      "image/png": "[encoded data removed]",
      "text/plain": [
       "<Figure size 432x288 with 2 Axes>"
      ]
     },
     "metadata": {
      "needs_background": "light"
     },
     "output_type": "display_data"
    }
   ],
   "source": [
    "sns.heatmap(df2.corr().abs())"
   ]
  },
  {
   "cell_type": "markdown",
   "id": "0ca281ad",
   "metadata": {
    "papermill": {
     "duration": 0.009129,
     "end_time": "2022-08-26T06:02:49.940506",
     "exception": false,
     "start_time": "2022-08-26T06:02:49.931377",
     "status": "completed"
    },
    "tags": []
   },
   "source": [
    "There seem to be some features that are highly correlated among each other : \n",
    "1. a 3x3 highlight (TotalGoldDiff, TotalExperienceDiff, AvgLevelDiff)\n",
    "2. a 2x2 highlight (EliteMonstersDiff, DragonsDiff)\n",
    "\n",
    "We can try eliminating them using Variance Inflation Factor (VIF)."
   ]
  },
  {
   "cell_type": "code",
   "execution_count": 14,
   "id": "2231eb69",
   "metadata": {
    "execution": {
     "iopub.execute_input": "2022-08-26T06:02:49.960648Z",
     "iopub.status.busy": "2022-08-26T06:02:49.960057Z",
     "iopub.status.idle": "2022-08-26T06:02:50.221968Z",
     "shell.execute_reply": "2022-08-26T06:02:50.220414Z"
    },
    "papermill": {
     "duration": 0.28332,
     "end_time": "2022-08-26T06:02:50.232873",
     "exception": false,
     "start_time": "2022-08-26T06:02:49.949553",
     "status": "completed"
    },
    "tags": []
   },
   "outputs": [
    {
     "name": "stderr",
     "output_type": "stream",
     "text": [
      "/opt/conda/lib/python3.7/site-packages/statsmodels/stats/outliers_influence.py:195: RuntimeWarning: divide by zero encountered in double_scalars\n",
      "  vif = 1. / (1. - r_squared_i)\n"
     ]
    },
    {
     "data": {
      "text/html": [
       "<div>\n",
       "<style scoped>\n",
       "    .dataframe tbody tr th:only-of-type {\n",
       "        vertical-align: middle;\n",
       "    }\n",
       "\n",
       "    .dataframe tbody tr th {\n",
       "        vertical-align: top;\n",
       "    }\n",
       "\n",
       "    .dataframe thead th {\n",
       "        text-align: right;\n",
       "    }\n",
       "</style>\n",
       "<table border=\"1\" class=\"dataframe\">\n",
       "  <thead>\n",
       "    <tr style=\"text-align: right;\">\n",
       "      <th></th>\n",
       "      <th>VIF</th>\n",
       "      <th>Column</th>\n",
       "    </tr>\n",
       "  </thead>\n",
       "  <tbody>\n",
       "    <tr>\n",
       "      <th>8</th>\n",
       "      <td>inf</td>\n",
       "      <td>EliteMonstersDiff</td>\n",
       "    </tr>\n",
       "    <tr>\n",
       "      <th>9</th>\n",
       "      <td>inf</td>\n",
       "      <td>DragonsDiff</td>\n",
       "    </tr>\n",
       "    <tr>\n",
       "      <th>12</th>\n",
       "      <td>inf</td>\n",
       "      <td>HeraldsDiff</td>\n",
       "    </tr>\n",
       "    <tr>\n",
       "      <th>2</th>\n",
       "      <td>36.057716</td>\n",
       "      <td>blueKills</td>\n",
       "    </tr>\n",
       "    <tr>\n",
       "      <th>3</th>\n",
       "      <td>35.350816</td>\n",
       "      <td>blueDeaths</td>\n",
       "    </tr>\n",
       "    <tr>\n",
       "      <th>4</th>\n",
       "      <td>20.701543</td>\n",
       "      <td>TotalGoldDiff</td>\n",
       "    </tr>\n",
       "    <tr>\n",
       "      <th>5</th>\n",
       "      <td>12.273297</td>\n",
       "      <td>TotalExperienceDiff</td>\n",
       "    </tr>\n",
       "    <tr>\n",
       "      <th>6</th>\n",
       "      <td>6.499939</td>\n",
       "      <td>AvgLevelDiff</td>\n",
       "    </tr>\n",
       "    <tr>\n",
       "      <th>7</th>\n",
       "      <td>2.951523</td>\n",
       "      <td>TotalMinionsKilledDiff</td>\n",
       "    </tr>\n",
       "    <tr>\n",
       "      <th>0</th>\n",
       "      <td>2.454974</td>\n",
       "      <td>blueWins</td>\n",
       "    </tr>\n",
       "    <tr>\n",
       "      <th>1</th>\n",
       "      <td>2.300345</td>\n",
       "      <td>blueFirstBlood</td>\n",
       "    </tr>\n",
       "    <tr>\n",
       "      <th>10</th>\n",
       "      <td>1.773969</td>\n",
       "      <td>TotalJungleMinionsKilledDiff</td>\n",
       "    </tr>\n",
       "    <tr>\n",
       "      <th>11</th>\n",
       "      <td>1.533042</td>\n",
       "      <td>TowersDestroyedDiff</td>\n",
       "    </tr>\n",
       "    <tr>\n",
       "      <th>13</th>\n",
       "      <td>1.035640</td>\n",
       "      <td>WardsDestroyedDiff</td>\n",
       "    </tr>\n",
       "    <tr>\n",
       "      <th>14</th>\n",
       "      <td>1.022001</td>\n",
       "      <td>WardsPlacedDiff</td>\n",
       "    </tr>\n",
       "  </tbody>\n",
       "</table>\n",
       "</div>"
      ],
      "text/plain": [
       "          VIF                        Column\n",
       "8         inf             EliteMonstersDiff\n",
       "9         inf                   DragonsDiff\n",
       "12        inf                   HeraldsDiff\n",
       "2   36.057716                     blueKills\n",
       "3   35.350816                    blueDeaths\n",
       "4   20.701543                 TotalGoldDiff\n",
       "5   12.273297           TotalExperienceDiff\n",
       "6    6.499939                  AvgLevelDiff\n",
       "7    2.951523        TotalMinionsKilledDiff\n",
       "0    2.454974                      blueWins\n",
       "1    2.300345                blueFirstBlood\n",
       "10   1.773969  TotalJungleMinionsKilledDiff\n",
       "11   1.533042           TowersDestroyedDiff\n",
       "13   1.035640            WardsDestroyedDiff\n",
       "14   1.022001               WardsPlacedDiff"
      ]
     },
     "execution_count": 14,
     "metadata": {},
     "output_type": "execute_result"
    }
   ],
   "source": [
    "def get_vif_info(df) :\n",
    "    df2 = df.copy()\n",
    "    vif_info = pd.DataFrame()\n",
    "    vif_info['VIF'] = [variance_inflation_factor(df2.values, i) for i in range(df2.shape[1])]\n",
    "    vif_info['Column'] = df2.columns\n",
    "    return vif_info.sort_values('VIF', ascending=False)\n",
    "\n",
    "get_vif_info(df2)"
   ]
  },
  {
   "cell_type": "markdown",
   "id": "226bf2b3",
   "metadata": {
    "papermill": {
     "duration": 0.028058,
     "end_time": "2022-08-26T06:02:50.286615",
     "exception": false,
     "start_time": "2022-08-26T06:02:50.258557",
     "status": "completed"
    },
    "tags": []
   },
   "source": [
    "We can see a huge (infinite) correlation between Dragon, Herald and Elite Monsters. On further inspection, we see that \n",
    "\n",
    "Elite monster = Dragons and Heralds.\n",
    "\n",
    "So we drop the Elite monsters column."
   ]
  },
  {
   "cell_type": "code",
   "execution_count": 15,
   "id": "b4b07255",
   "metadata": {
    "execution": {
     "iopub.execute_input": "2022-08-26T06:02:50.328917Z",
     "iopub.status.busy": "2022-08-26T06:02:50.328539Z",
     "iopub.status.idle": "2022-08-26T06:02:50.546077Z",
     "shell.execute_reply": "2022-08-26T06:02:50.544430Z"
    },
    "papermill": {
     "duration": 0.238539,
     "end_time": "2022-08-26T06:02:50.550528",
     "exception": false,
     "start_time": "2022-08-26T06:02:50.311989",
     "status": "completed"
    },
    "tags": []
   },
   "outputs": [
    {
     "data": {
      "text/html": [
       "<div>\n",
       "<style scoped>\n",
       "    .dataframe tbody tr th:only-of-type {\n",
       "        vertical-align: middle;\n",
       "    }\n",
       "\n",
       "    .dataframe tbody tr th {\n",
       "        vertical-align: top;\n",
       "    }\n",
       "\n",
       "    .dataframe thead th {\n",
       "        text-align: right;\n",
       "    }\n",
       "</style>\n",
       "<table border=\"1\" class=\"dataframe\">\n",
       "  <thead>\n",
       "    <tr style=\"text-align: right;\">\n",
       "      <th></th>\n",
       "      <th>VIF</th>\n",
       "      <th>Column</th>\n",
       "    </tr>\n",
       "  </thead>\n",
       "  <tbody>\n",
       "    <tr>\n",
       "      <th>2</th>\n",
       "      <td>36.057716</td>\n",
       "      <td>blueKills</td>\n",
       "    </tr>\n",
       "    <tr>\n",
       "      <th>3</th>\n",
       "      <td>35.350816</td>\n",
       "      <td>blueDeaths</td>\n",
       "    </tr>\n",
       "    <tr>\n",
       "      <th>4</th>\n",
       "      <td>20.701543</td>\n",
       "      <td>TotalGoldDiff</td>\n",
       "    </tr>\n",
       "    <tr>\n",
       "      <th>5</th>\n",
       "      <td>12.273297</td>\n",
       "      <td>TotalExperienceDiff</td>\n",
       "    </tr>\n",
       "    <tr>\n",
       "      <th>6</th>\n",
       "      <td>6.499939</td>\n",
       "      <td>AvgLevelDiff</td>\n",
       "    </tr>\n",
       "    <tr>\n",
       "      <th>7</th>\n",
       "      <td>2.951523</td>\n",
       "      <td>TotalMinionsKilledDiff</td>\n",
       "    </tr>\n",
       "    <tr>\n",
       "      <th>0</th>\n",
       "      <td>2.454974</td>\n",
       "      <td>blueWins</td>\n",
       "    </tr>\n",
       "    <tr>\n",
       "      <th>1</th>\n",
       "      <td>2.300345</td>\n",
       "      <td>blueFirstBlood</td>\n",
       "    </tr>\n",
       "    <tr>\n",
       "      <th>9</th>\n",
       "      <td>1.773969</td>\n",
       "      <td>TotalJungleMinionsKilledDiff</td>\n",
       "    </tr>\n",
       "    <tr>\n",
       "      <th>10</th>\n",
       "      <td>1.533042</td>\n",
       "      <td>TowersDestroyedDiff</td>\n",
       "    </tr>\n",
       "    <tr>\n",
       "      <th>8</th>\n",
       "      <td>1.158734</td>\n",
       "      <td>DragonsDiff</td>\n",
       "    </tr>\n",
       "    <tr>\n",
       "      <th>11</th>\n",
       "      <td>1.100997</td>\n",
       "      <td>HeraldsDiff</td>\n",
       "    </tr>\n",
       "    <tr>\n",
       "      <th>12</th>\n",
       "      <td>1.035640</td>\n",
       "      <td>WardsDestroyedDiff</td>\n",
       "    </tr>\n",
       "    <tr>\n",
       "      <th>13</th>\n",
       "      <td>1.022001</td>\n",
       "      <td>WardsPlacedDiff</td>\n",
       "    </tr>\n",
       "  </tbody>\n",
       "</table>\n",
       "</div>"
      ],
      "text/plain": [
       "          VIF                        Column\n",
       "2   36.057716                     blueKills\n",
       "3   35.350816                    blueDeaths\n",
       "4   20.701543                 TotalGoldDiff\n",
       "5   12.273297           TotalExperienceDiff\n",
       "6    6.499939                  AvgLevelDiff\n",
       "7    2.951523        TotalMinionsKilledDiff\n",
       "0    2.454974                      blueWins\n",
       "1    2.300345                blueFirstBlood\n",
       "9    1.773969  TotalJungleMinionsKilledDiff\n",
       "10   1.533042           TowersDestroyedDiff\n",
       "8    1.158734                   DragonsDiff\n",
       "11   1.100997                   HeraldsDiff\n",
       "12   1.035640            WardsDestroyedDiff\n",
       "13   1.022001               WardsPlacedDiff"
      ]
     },
     "execution_count": 15,
     "metadata": {},
     "output_type": "execute_result"
    }
   ],
   "source": [
    "get_vif_info(df2.drop([\"EliteMonstersDiff\"], axis=1))"
   ]
  },
  {
   "cell_type": "markdown",
   "id": "1fe460fb",
   "metadata": {
    "papermill": {
     "duration": 0.025073,
     "end_time": "2022-08-26T06:02:50.599848",
     "exception": false,
     "start_time": "2022-08-26T06:02:50.574775",
     "status": "completed"
    },
    "tags": []
   },
   "source": [
    "With the abnomalities gone, we can proceed with modelling."
   ]
  },
  {
   "cell_type": "markdown",
   "id": "c43ff7be",
   "metadata": {
    "papermill": {
     "duration": 0.023697,
     "end_time": "2022-08-26T06:02:50.647910",
     "exception": false,
     "start_time": "2022-08-26T06:02:50.624213",
     "status": "completed"
    },
    "tags": []
   },
   "source": [
    "# Prediction"
   ]
  },
  {
   "cell_type": "code",
   "execution_count": 16,
   "id": "4743557d",
   "metadata": {
    "execution": {
     "iopub.execute_input": "2022-08-26T06:02:50.669206Z",
     "iopub.status.busy": "2022-08-26T06:02:50.668787Z",
     "iopub.status.idle": "2022-08-26T06:02:50.977654Z",
     "shell.execute_reply": "2022-08-26T06:02:50.976327Z"
    },
    "papermill": {
     "duration": 0.322897,
     "end_time": "2022-08-26T06:02:50.980557",
     "exception": false,
     "start_time": "2022-08-26T06:02:50.657660",
     "status": "completed"
    },
    "tags": []
   },
   "outputs": [],
   "source": [
    "from sklearn.linear_model import LogisticRegression\n",
    "from sklearn.model_selection import train_test_split\n",
    "from sklearn.preprocessing import StandardScaler\n",
    "from matplotlib import pyplot"
   ]
  },
  {
   "cell_type": "code",
   "execution_count": 17,
   "id": "b9df8fd4",
   "metadata": {
    "execution": {
     "iopub.execute_input": "2022-08-26T06:02:51.001416Z",
     "iopub.status.busy": "2022-08-26T06:02:51.000983Z",
     "iopub.status.idle": "2022-08-26T06:02:51.018662Z",
     "shell.execute_reply": "2022-08-26T06:02:51.017523Z"
    },
    "papermill": {
     "duration": 0.031231,
     "end_time": "2022-08-26T06:02:51.021486",
     "exception": false,
     "start_time": "2022-08-26T06:02:50.990255",
     "status": "completed"
    },
    "tags": []
   },
   "outputs": [],
   "source": [
    "sc = StandardScaler()\n",
    "X, y = df2.drop([\"blueWins\"], axis=1), df2[\"blueWins\"]\n",
    "X = sc.fit_transform(X)\n",
    "X_train, X_test, y_train, y_test = train_test_split(X, y, test_size = 0.1)"
   ]
  },
  {
   "cell_type": "code",
   "execution_count": 18,
   "id": "63f2efe4",
   "metadata": {
    "execution": {
     "iopub.execute_input": "2022-08-26T06:02:51.043459Z",
     "iopub.status.busy": "2022-08-26T06:02:51.043071Z",
     "iopub.status.idle": "2022-08-26T06:02:51.098881Z",
     "shell.execute_reply": "2022-08-26T06:02:51.097613Z"
    },
    "papermill": {
     "duration": 0.072317,
     "end_time": "2022-08-26T06:02:51.103888",
     "exception": false,
     "start_time": "2022-08-26T06:02:51.031571",
     "status": "completed"
    },
    "tags": []
   },
   "outputs": [
    {
     "name": "stdout",
     "output_type": "stream",
     "text": [
      "Training accurcay : 0.7320886289506242\n",
      "Testing accurcay : 0.728744939271255\n"
     ]
    }
   ],
   "source": [
    "LRmodel = LogisticRegression()\n",
    "LRmodel.fit(X_train, y_train)\n",
    "print(f\"Training accurcay : {LRmodel.score(X_train, y_train)}\")\n",
    "print(f\"Testing accurcay : {LRmodel.score(X_test, y_test)}\")"
   ]
  },
  {
   "cell_type": "markdown",
   "id": "89cc0b80",
   "metadata": {
    "papermill": {
     "duration": 0.023626,
     "end_time": "2022-08-26T06:02:51.152364",
     "exception": false,
     "start_time": "2022-08-26T06:02:51.128738",
     "status": "completed"
    },
    "tags": []
   },
   "source": [
    "Checking importance of features"
   ]
  },
  {
   "cell_type": "code",
   "execution_count": 19,
   "id": "809b19c1",
   "metadata": {
    "execution": {
     "iopub.execute_input": "2022-08-26T06:02:51.202916Z",
     "iopub.status.busy": "2022-08-26T06:02:51.202146Z",
     "iopub.status.idle": "2022-08-26T06:02:51.433975Z",
     "shell.execute_reply": "2022-08-26T06:02:51.432662Z"
    },
    "papermill": {
     "duration": 0.260071,
     "end_time": "2022-08-26T06:02:51.436431",
     "exception": false,
     "start_time": "2022-08-26T06:02:51.176360",
     "status": "completed"
    },
    "tags": []
   },
   "outputs": [
    {
     "name": "stdout",
     "output_type": "stream",
     "text": [
      "Feature: blueFirstBlood, Score: 0.049\n",
      "Feature: blueKills, Score: -0.151\n",
      "Feature: blueDeaths, Score: 0.119\n",
      "Feature: TotalGoldDiff, Score: 1.235\n",
      "Feature: TotalExperienceDiff, Score: 0.456\n",
      "Feature: AvgLevelDiff, Score: 0.029\n",
      "Feature: TotalMinionsKilledDiff, Score: -0.137\n",
      "Feature: EliteMonstersDiff, Score: 0.131\n",
      "Feature: DragonsDiff, Score: 0.173\n",
      "Feature: TotalJungleMinionsKilledDiff, Score: -0.016\n",
      "Feature: TowersDestroyedDiff, Score: -0.094\n",
      "Feature: HeraldsDiff, Score: -0.020\n",
      "Feature: WardsDestroyedDiff, Score: 0.010\n",
      "Feature: WardsPlacedDiff, Score: -0.008\n"
     ]
    },
    {
     "data": {
      "image/png": "[encoded data removed]",
      "text/plain": [
       "<Figure size 432x288 with 1 Axes>"
      ]
     },
     "metadata": {
      "needs_background": "light"
     },
     "output_type": "display_data"
    }
   ],
   "source": [
    "fi_data = []\n",
    "importance = LRmodel.coef_[0]\n",
    "for i,v in enumerate(importance):\n",
    "    print('Feature: %0s, Score: %.3f' % (df2.columns[i+1],v))\n",
    "    fi_data.append((df2.columns[i+1],v))\n",
    "pyplot.bar([x for x in range(len(importance))], importance)\n",
    "pyplot.show()"
   ]
  },
  {
   "cell_type": "code",
   "execution_count": 20,
   "id": "559e1436",
   "metadata": {
    "execution": {
     "iopub.execute_input": "2022-08-26T06:02:51.457744Z",
     "iopub.status.busy": "2022-08-26T06:02:51.457353Z",
     "iopub.status.idle": "2022-08-26T06:02:51.464905Z",
     "shell.execute_reply": "2022-08-26T06:02:51.463989Z"
    },
    "papermill": {
     "duration": 0.020648,
     "end_time": "2022-08-26T06:02:51.466989",
     "exception": false,
     "start_time": "2022-08-26T06:02:51.446341",
     "status": "completed"
    },
    "tags": []
   },
   "outputs": [
    {
     "data": {
      "text/plain": [
       "[('TotalGoldDiff', 1.2348403359931959),\n",
       " ('TotalExperienceDiff', 0.45595299560202734),\n",
       " ('DragonsDiff', 0.17327780232174747),\n",
       " ('EliteMonstersDiff', 0.13136495295170766),\n",
       " ('blueDeaths', 0.11851854735725),\n",
       " ('blueFirstBlood', 0.04877656137932309),\n",
       " ('AvgLevelDiff', 0.029177654536421935),\n",
       " ('WardsDestroyedDiff', 0.009779392894476593),\n",
       " ('WardsPlacedDiff', -0.008213074976627325),\n",
       " ('TotalJungleMinionsKilledDiff', -0.015927097257048294),\n",
       " ('HeraldsDiff', -0.02038458389223137),\n",
       " ('TowersDestroyedDiff', -0.093888178757483),\n",
       " ('TotalMinionsKilledDiff', -0.13746289865032357),\n",
       " ('blueKills', -0.15107177105190006)]"
      ]
     },
     "execution_count": 20,
     "metadata": {},
     "output_type": "execute_result"
    }
   ],
   "source": [
    "fi_data = sorted(fi_data, key=lambda x : -x[1])\n",
    "fi_data"
   ]
  },
  {
   "cell_type": "markdown",
   "id": "fdb54d0e",
   "metadata": {
    "papermill": {
     "duration": 0.00975,
     "end_time": "2022-08-26T06:02:51.486497",
     "exception": false,
     "start_time": "2022-08-26T06:02:51.476747",
     "status": "completed"
    },
    "tags": []
   },
   "source": [
    "Based on the experiments, this is the order of importance to give to the game in the first 10 minutes to have a ~70% chance of winning."
   ]
  }
 ],
 "metadata": {
  "kernelspec": {
   "display_name": "Python 3",
   "language": "python",
   "name": "python3"
  },
  "language_info": {
   "codemirror_mode": {
    "name": "ipython",
    "version": 3
   },
   "file_extension": ".py",
   "mimetype": "text/x-python",
   "name": "python",
   "nbconvert_exporter": "python",
   "pygments_lexer": "ipython3",
   "version": "3.7.12"
  },
  "papermill": {
   "default_parameters": {},
   "duration": 14.523879,
   "end_time": "2022-08-26T06:02:52.320378",
   "environment_variables": {},
   "exception": null,
   "input_path": "__notebook__.ipynb",
   "output_path": "__notebook__.ipynb",
   "parameters": {},
   "start_time": "2022-08-26T06:02:37.796499",
   "version": "2.3.4"
  }
 },
 "nbformat": 4,
 "nbformat_minor": 5
}
