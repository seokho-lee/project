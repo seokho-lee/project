{
 "cells": [
  {
   "cell_type": "markdown",
   "id": "eb6d855b",
   "metadata": {
    "papermill": {
     "duration": 0.112242,
     "end_time": "2022-01-12T14:11:26.606434",
     "exception": false,
     "start_time": "2022-01-12T14:11:26.494192",
     "status": "completed"
    },
    "tags": []
   },
   "source": [
    "<img src=\"https://i.postimg.cc/1R2d17XR/logo-800-47024e2aeaaa8651c172ba883264dd43.png\" alt=\"Italian Trulli\">"
   ]
  },
  {
   "cell_type": "markdown",
   "id": "db1e6cd6",
   "metadata": {
    "papermill": {
     "duration": 0.109411,
     "end_time": "2022-01-12T14:11:26.828774",
     "exception": false,
     "start_time": "2022-01-12T14:11:26.719363",
     "status": "completed"
    },
    "tags": []
   },
   "source": [
    "**WHAT IS LEAGUE OF LEGENDS?**\n",
    "\n",
    "League of Legends is a team-based strategy game where two teams of five powerful champions face off to destroy the other’s base. Choose from over 150 champions to make epic plays, secure kills, and take down towers as you battle your way to victory.\n",
    "\n",
    "**DESTROY THE BASE**\n",
    "\n",
    "The Nexus is the heart of both teams’ bases. Destroy the enemy’s Nexus first to win the game.\n",
    "\n",
    "**THE MAP**\n",
    "\n",
    "<img src=\"https://www.researchgate.net/profile/Patrick-Shih-2/publication/319839481/figure/fig1/AS:539281729228800@1505586191613/A-Map-of-the-League-of-Legends-game-play-in-the-classic-mode.png\" align=\"right\" width=\"400\" height=\"300\">\n",
    "\n",
    "\n",
    "Blue and Red team fight on the same map every game. Blue side is on the bottom-left corner, and Red side is on the upper-right corner. The map is symmetrical to its center. It is composed of 3 lanes (toplane, midlane, botlane) and jungle between them. Players pick position in accordance with the role they have decided in the champion select, and has to move from their respective Nexus to the correct position. Each time a player dies or decides to back, he spawns at his respective Nexus.\n",
    "\n",
    "**CLEAR THE PATH**\n",
    "\n",
    "Your team needs to clear at least one lane to get to the enemy Nexus. Blocking your path are defense structures called turrets and inhibitors. Each lane has three turrets and one inhibitor, and each Nexus is guarded by two turrets.\n",
    "\n",
    "**TAKE ON THE JUNGLE**\n",
    "\n",
    "In between the lanes is the jungle, where neutral monsters and jungle plants reside. The two most important monsters are Baron Nashor, the Heralds and the Drakes. Killing these units grants unique buffs for your team and can also turn the tide of the game.\n",
    "\n",
    "**CHOOSE THE LANE**\n",
    "\n",
    "There are five positions that make up the recommended team comp for the game. Each lane lends itself to certain kinds of champions and roles—try them all or lock in to the lane that calls you.\n",
    "\n",
    "**POWER THE CHAMP**\n",
    "\n",
    "Champions get stronger by earning experience to level up and gold to buy more powerful items as the game progresses. Staying on top of these two factors is crucial to overpowering the enemy team and destroying their base.\n",
    "\n",
    "**UNLOCK ABILITIES**\n",
    "\n",
    "Champions have five core abilities, two special spells, and up to seven items at a time. Figuring out the optimal ability order, summoner spells, and item build for your champion will help you succeed as a team.\n",
    "\n",
    "<a href=\"https://na.leagueoflegends.com/en-us/how-to-play/\">League of Legends Official Website</a>\n",
    "\n",
    "<a href=\"https://www.youtube.com/embed/BGtROJeMPeE\">What is League of Legends (Youtube)</a>\n"
   ]
  },
  {
   "cell_type": "markdown",
   "id": "ab32f39f",
   "metadata": {
    "papermill": {
     "duration": 0.109811,
     "end_time": "2022-01-12T14:11:27.048908",
     "exception": false,
     "start_time": "2022-01-12T14:11:26.939097",
     "status": "completed"
    },
    "tags": []
   },
   "source": [
    "**DATASET**\n",
    "\n",
    "This dataset contains the first 10min. stats of approx. 10k ranked games (SOLO QUEUE) from a high ELO (DIAMOND I to MASTER). Players have roughly the same level.\n",
    "\n",
    "Each game is unique. The gameId can help you to fetch more attributes from the Riot API.\n",
    "\n",
    "There are 19 features per team (38 in total) collected after 10min in-game. This includes kills, deaths, gold, experience, level…\n",
    "\n",
    "The column blueWins is the target value. A value of 1 means the blue team has won. 0 otherwise.\n",
    "\n",
    "There is no missing value.\n",
    "\n",
    "<a href=\"https://www.kaggle.com/bobbyscience/league-of-legends-diamond-ranked-games-10-min\">Download Here</a>"
   ]
  },
  {
   "cell_type": "markdown",
   "id": "4ccbc358",
   "metadata": {
    "papermill": {
     "duration": 0.112511,
     "end_time": "2022-01-12T14:11:27.273256",
     "exception": false,
     "start_time": "2022-01-12T14:11:27.160745",
     "status": "completed"
    },
    "tags": []
   },
   "source": [
    "In this notebook, we will focus on the following question : \n",
    "\n",
    "*Which in-game decisions before 10 min are the most relevant to win the game ?*\n",
    "\n",
    "To do so :\n",
    "\n",
    "* We focus on Blue side only, at first.\n",
    "* We explore the dataset to see some patterns and correlations between features.\n",
    "* In order to expose the influence of features on the win, we develop a logistic regression and estimate the weight of each relevant feature.\n",
    "    * To do so, we calculate the correlation coefficient for each pair.\n",
    "    * We remove or adapt features to avoid correlation for the logistic regression.\n",
    "    * We remove outliers from remaining features.\n",
    "    * We estimate weights and do some observations.\n",
    "* Then, we calculate the % of victory considering each feature.\n",
    "* We do the same for Red side.\n",
    "* We conclude on this project."
   ]
  },
  {
   "cell_type": "markdown",
   "id": "fe294063",
   "metadata": {
    "papermill": {
     "duration": 0.111168,
     "end_time": "2022-01-12T14:11:27.518464",
     "exception": false,
     "start_time": "2022-01-12T14:11:27.407296",
     "status": "completed"
    },
    "tags": []
   },
   "source": [
    "# Contents\n",
    "\n",
    "* [<font size=4>1. Libraries</font>](#1)\n",
    "* [<font size=4>2. First exploratory of the dataset</font>](#2)\n",
    "* [<font size=4>3. Preparation for the Regression Analysis</font>](#3)\n",
    "* [<font size=4>4. Logistic Regression analysis</font>](#4)\n",
    "* [<font size=4>5. Deeper analysis</font>](#5)\n",
    "* [<font size=4>6. Red side</font>](#6)\n",
    "* [<font size=4>7. Comparaison between Red and Blue side](#7)\n",
    "* [<font size=4>8. General conclusions</font>](#8)\n",
    "* [<font size=4>9. Personnal note</font>](#9)\n",
    "* [<font size=4>10. Aknowledgment</font>](#10)"
   ]
  },
  {
   "cell_type": "markdown",
   "id": "571ee3e0",
   "metadata": {
    "papermill": {
     "duration": 0.109566,
     "end_time": "2022-01-12T14:11:27.738133",
     "exception": false,
     "start_time": "2022-01-12T14:11:27.628567",
     "status": "completed"
    },
    "tags": []
   },
   "source": [
    "# Libraries <a id=\"1\"></a>"
   ]
  },
  {
   "cell_type": "code",
   "execution_count": 1,
   "id": "1687a59b",
   "metadata": {
    "execution": {
     "iopub.execute_input": "2022-01-12T14:11:27.970409Z",
     "iopub.status.busy": "2022-01-12T14:11:27.967461Z",
     "iopub.status.idle": "2022-01-12T14:11:29.243436Z",
     "shell.execute_reply": "2022-01-12T14:11:29.242691Z",
     "shell.execute_reply.started": "2022-01-12T14:08:37.514124Z"
    },
    "papermill": {
     "duration": 1.395639,
     "end_time": "2022-01-12T14:11:29.243615",
     "exception": false,
     "start_time": "2022-01-12T14:11:27.847976",
     "status": "completed"
    },
    "tags": []
   },
   "outputs": [],
   "source": [
    "import pandas as pd\n",
    "import matplotlib.pyplot as plt\n",
    "import numpy as np\n",
    "import seaborn as sns\n",
    "from sklearn.preprocessing import StandardScaler\n",
    "from sklearn.linear_model import LogisticRegression\n",
    "from sklearn.model_selection import train_test_split"
   ]
  },
  {
   "cell_type": "markdown",
   "id": "5cd98269",
   "metadata": {
    "papermill": {
     "duration": 0.109622,
     "end_time": "2022-01-12T14:11:29.465774",
     "exception": false,
     "start_time": "2022-01-12T14:11:29.356152",
     "status": "completed"
    },
    "tags": []
   },
   "source": [
    "# First exploratory of the dataset <a id=\"2\"></a>"
   ]
  },
  {
   "cell_type": "code",
   "execution_count": 2,
   "id": "4bcddda7",
   "metadata": {
    "execution": {
     "iopub.execute_input": "2022-01-12T14:11:29.691327Z",
     "iopub.status.busy": "2022-01-12T14:11:29.690629Z",
     "iopub.status.idle": "2022-01-12T14:11:29.815248Z",
     "shell.execute_reply": "2022-01-12T14:11:29.815742Z",
     "shell.execute_reply.started": "2022-01-12T14:08:37.521217Z"
    },
    "papermill": {
     "duration": 0.239601,
     "end_time": "2022-01-12T14:11:29.815920",
     "exception": false,
     "start_time": "2022-01-12T14:11:29.576319",
     "status": "completed"
    },
    "tags": []
   },
   "outputs": [
    {
     "data": {
      "text/html": [
       "<div>\n",
       "<style scoped>\n",
       "    .dataframe tbody tr th:only-of-type {\n",
       "        vertical-align: middle;\n",
       "    }\n",
       "\n",
       "    .dataframe tbody tr th {\n",
       "        vertical-align: top;\n",
       "    }\n",
       "\n",
       "    .dataframe thead th {\n",
       "        text-align: right;\n",
       "    }\n",
       "</style>\n",
       "<table border=\"1\" class=\"dataframe\">\n",
       "  <thead>\n",
       "    <tr style=\"text-align: right;\">\n",
       "      <th></th>\n",
       "      <th>gameId</th>\n",
       "      <th>blueWins</th>\n",
       "      <th>blueWardsPlaced</th>\n",
       "      <th>blueWardsDestroyed</th>\n",
       "      <th>blueFirstBlood</th>\n",
       "      <th>blueKills</th>\n",
       "      <th>blueDeaths</th>\n",
       "      <th>blueAssists</th>\n",
       "      <th>blueEliteMonsters</th>\n",
       "      <th>blueDragons</th>\n",
       "      <th>...</th>\n",
       "      <th>redTowersDestroyed</th>\n",
       "      <th>redTotalGold</th>\n",
       "      <th>redAvgLevel</th>\n",
       "      <th>redTotalExperience</th>\n",
       "      <th>redTotalMinionsKilled</th>\n",
       "      <th>redTotalJungleMinionsKilled</th>\n",
       "      <th>redGoldDiff</th>\n",
       "      <th>redExperienceDiff</th>\n",
       "      <th>redCSPerMin</th>\n",
       "      <th>redGoldPerMin</th>\n",
       "    </tr>\n",
       "  </thead>\n",
       "  <tbody>\n",
       "    <tr>\n",
       "      <th>0</th>\n",
       "      <td>4519157822</td>\n",
       "      <td>0</td>\n",
       "      <td>28</td>\n",
       "      <td>2</td>\n",
       "      <td>1</td>\n",
       "      <td>9</td>\n",
       "      <td>6</td>\n",
       "      <td>11</td>\n",
       "      <td>0</td>\n",
       "      <td>0</td>\n",
       "      <td>...</td>\n",
       "      <td>0</td>\n",
       "      <td>16567</td>\n",
       "      <td>6.8</td>\n",
       "      <td>17047</td>\n",
       "      <td>197</td>\n",
       "      <td>55</td>\n",
       "      <td>-643</td>\n",
       "      <td>8</td>\n",
       "      <td>19.7</td>\n",
       "      <td>1656.7</td>\n",
       "    </tr>\n",
       "    <tr>\n",
       "      <th>1</th>\n",
       "      <td>4523371949</td>\n",
       "      <td>0</td>\n",
       "      <td>12</td>\n",
       "      <td>1</td>\n",
       "      <td>0</td>\n",
       "      <td>5</td>\n",
       "      <td>5</td>\n",
       "      <td>5</td>\n",
       "      <td>0</td>\n",
       "      <td>0</td>\n",
       "      <td>...</td>\n",
       "      <td>1</td>\n",
       "      <td>17620</td>\n",
       "      <td>6.8</td>\n",
       "      <td>17438</td>\n",
       "      <td>240</td>\n",
       "      <td>52</td>\n",
       "      <td>2908</td>\n",
       "      <td>1173</td>\n",
       "      <td>24.0</td>\n",
       "      <td>1762.0</td>\n",
       "    </tr>\n",
       "    <tr>\n",
       "      <th>2</th>\n",
       "      <td>4521474530</td>\n",
       "      <td>0</td>\n",
       "      <td>15</td>\n",
       "      <td>0</td>\n",
       "      <td>0</td>\n",
       "      <td>7</td>\n",
       "      <td>11</td>\n",
       "      <td>4</td>\n",
       "      <td>1</td>\n",
       "      <td>1</td>\n",
       "      <td>...</td>\n",
       "      <td>0</td>\n",
       "      <td>17285</td>\n",
       "      <td>6.8</td>\n",
       "      <td>17254</td>\n",
       "      <td>203</td>\n",
       "      <td>28</td>\n",
       "      <td>1172</td>\n",
       "      <td>1033</td>\n",
       "      <td>20.3</td>\n",
       "      <td>1728.5</td>\n",
       "    </tr>\n",
       "    <tr>\n",
       "      <th>3</th>\n",
       "      <td>4524384067</td>\n",
       "      <td>0</td>\n",
       "      <td>43</td>\n",
       "      <td>1</td>\n",
       "      <td>0</td>\n",
       "      <td>4</td>\n",
       "      <td>5</td>\n",
       "      <td>5</td>\n",
       "      <td>1</td>\n",
       "      <td>0</td>\n",
       "      <td>...</td>\n",
       "      <td>0</td>\n",
       "      <td>16478</td>\n",
       "      <td>7.0</td>\n",
       "      <td>17961</td>\n",
       "      <td>235</td>\n",
       "      <td>47</td>\n",
       "      <td>1321</td>\n",
       "      <td>7</td>\n",
       "      <td>23.5</td>\n",
       "      <td>1647.8</td>\n",
       "    </tr>\n",
       "    <tr>\n",
       "      <th>4</th>\n",
       "      <td>4436033771</td>\n",
       "      <td>0</td>\n",
       "      <td>75</td>\n",
       "      <td>4</td>\n",
       "      <td>0</td>\n",
       "      <td>6</td>\n",
       "      <td>6</td>\n",
       "      <td>6</td>\n",
       "      <td>0</td>\n",
       "      <td>0</td>\n",
       "      <td>...</td>\n",
       "      <td>0</td>\n",
       "      <td>17404</td>\n",
       "      <td>7.0</td>\n",
       "      <td>18313</td>\n",
       "      <td>225</td>\n",
       "      <td>67</td>\n",
       "      <td>1004</td>\n",
       "      <td>-230</td>\n",
       "      <td>22.5</td>\n",
       "      <td>1740.4</td>\n",
       "    </tr>\n",
       "  </tbody>\n",
       "</table>\n",
       "<p>5 rows × 40 columns</p>\n",
       "</div>"
      ],
      "text/plain": [
       "       gameId  blueWins  blueWardsPlaced  blueWardsDestroyed  blueFirstBlood  \\\n",
       "0  4519157822         0               28                   2               1   \n",
       "1  4523371949         0               12                   1               0   \n",
       "2  4521474530         0               15                   0               0   \n",
       "3  4524384067         0               43                   1               0   \n",
       "4  4436033771         0               75                   4               0   \n",
       "\n",
       "   blueKills  blueDeaths  blueAssists  blueEliteMonsters  blueDragons  ...  \\\n",
       "0          9           6           11                  0            0  ...   \n",
       "1          5           5            5                  0            0  ...   \n",
       "2          7          11            4                  1            1  ...   \n",
       "3          4           5            5                  1            0  ...   \n",
       "4          6           6            6                  0            0  ...   \n",
       "\n",
       "   redTowersDestroyed  redTotalGold  redAvgLevel  redTotalExperience  \\\n",
       "0                   0         16567          6.8               17047   \n",
       "1                   1         17620          6.8               17438   \n",
       "2                   0         17285          6.8               17254   \n",
       "3                   0         16478          7.0               17961   \n",
       "4                   0         17404          7.0               18313   \n",
       "\n",
       "   redTotalMinionsKilled  redTotalJungleMinionsKilled  redGoldDiff  \\\n",
       "0                    197                           55         -643   \n",
       "1                    240                           52         2908   \n",
       "2                    203                           28         1172   \n",
       "3                    235                           47         1321   \n",
       "4                    225                           67         1004   \n",
       "\n",
       "   redExperienceDiff  redCSPerMin  redGoldPerMin  \n",
       "0                  8         19.7         1656.7  \n",
       "1               1173         24.0         1762.0  \n",
       "2               1033         20.3         1728.5  \n",
       "3                  7         23.5         1647.8  \n",
       "4               -230         22.5         1740.4  \n",
       "\n",
       "[5 rows x 40 columns]"
      ]
     },
     "execution_count": 2,
     "metadata": {},
     "output_type": "execute_result"
    }
   ],
   "source": [
    "#Download dataset\n",
    "raw_data = pd.read_csv('../input/league-of-legends-diamond-ranked-games-10-min/high_diamond_ranked_10min.csv')\n",
    "raw_data.head()"
   ]
  },
  {
   "cell_type": "code",
   "execution_count": 3,
   "id": "56068f0b",
   "metadata": {
    "execution": {
     "iopub.execute_input": "2022-01-12T14:11:30.045149Z",
     "iopub.status.busy": "2022-01-12T14:11:30.044424Z",
     "iopub.status.idle": "2022-01-12T14:11:30.047028Z",
     "shell.execute_reply": "2022-01-12T14:11:30.047562Z",
     "shell.execute_reply.started": "2022-01-12T14:08:37.595058Z"
    },
    "papermill": {
     "duration": 0.120043,
     "end_time": "2022-01-12T14:11:30.047747",
     "exception": false,
     "start_time": "2022-01-12T14:11:29.927704",
     "status": "completed"
    },
    "tags": []
   },
   "outputs": [
    {
     "data": {
      "text/plain": [
       "Index(['gameId', 'blueWins', 'blueWardsPlaced', 'blueWardsDestroyed',\n",
       "       'blueFirstBlood', 'blueKills', 'blueDeaths', 'blueAssists',\n",
       "       'blueEliteMonsters', 'blueDragons', 'blueHeralds',\n",
       "       'blueTowersDestroyed', 'blueTotalGold', 'blueAvgLevel',\n",
       "       'blueTotalExperience', 'blueTotalMinionsKilled',\n",
       "       'blueTotalJungleMinionsKilled', 'blueGoldDiff', 'blueExperienceDiff',\n",
       "       'blueCSPerMin', 'blueGoldPerMin', 'redWardsPlaced', 'redWardsDestroyed',\n",
       "       'redFirstBlood', 'redKills', 'redDeaths', 'redAssists',\n",
       "       'redEliteMonsters', 'redDragons', 'redHeralds', 'redTowersDestroyed',\n",
       "       'redTotalGold', 'redAvgLevel', 'redTotalExperience',\n",
       "       'redTotalMinionsKilled', 'redTotalJungleMinionsKilled', 'redGoldDiff',\n",
       "       'redExperienceDiff', 'redCSPerMin', 'redGoldPerMin'],\n",
       "      dtype='object')"
      ]
     },
     "execution_count": 3,
     "metadata": {},
     "output_type": "execute_result"
    }
   ],
   "source": [
    "raw_data.columns"
   ]
  },
  {
   "cell_type": "markdown",
   "id": "1fd79a6c",
   "metadata": {
    "papermill": {
     "duration": 0.110064,
     "end_time": "2022-01-12T14:11:30.269089",
     "exception": false,
     "start_time": "2022-01-12T14:11:30.159025",
     "status": "completed"
    },
    "tags": []
   },
   "source": [
    "The dataset is divided into two sections : Blue & Red"
   ]
  },
  {
   "cell_type": "code",
   "execution_count": 4,
   "id": "9d6c61be",
   "metadata": {
    "execution": {
     "iopub.execute_input": "2022-01-12T14:11:30.495694Z",
     "iopub.status.busy": "2022-01-12T14:11:30.495024Z",
     "iopub.status.idle": "2022-01-12T14:11:30.519506Z",
     "shell.execute_reply": "2022-01-12T14:11:30.520301Z",
     "shell.execute_reply.started": "2022-01-12T14:08:37.604245Z"
    },
    "papermill": {
     "duration": 0.13906,
     "end_time": "2022-01-12T14:11:30.520543",
     "exception": false,
     "start_time": "2022-01-12T14:11:30.381483",
     "status": "completed"
    },
    "tags": []
   },
   "outputs": [
    {
     "name": "stdout",
     "output_type": "stream",
     "text": [
      "<class 'pandas.core.frame.DataFrame'>\n",
      "RangeIndex: 9879 entries, 0 to 9878\n",
      "Data columns (total 40 columns):\n",
      " #   Column                        Non-Null Count  Dtype  \n",
      "---  ------                        --------------  -----  \n",
      " 0   gameId                        9879 non-null   int64  \n",
      " 1   blueWins                      9879 non-null   int64  \n",
      " 2   blueWardsPlaced               9879 non-null   int64  \n",
      " 3   blueWardsDestroyed            9879 non-null   int64  \n",
      " 4   blueFirstBlood                9879 non-null   int64  \n",
      " 5   blueKills                     9879 non-null   int64  \n",
      " 6   blueDeaths                    9879 non-null   int64  \n",
      " 7   blueAssists                   9879 non-null   int64  \n",
      " 8   blueEliteMonsters             9879 non-null   int64  \n",
      " 9   blueDragons                   9879 non-null   int64  \n",
      " 10  blueHeralds                   9879 non-null   int64  \n",
      " 11  blueTowersDestroyed           9879 non-null   int64  \n",
      " 12  blueTotalGold                 9879 non-null   int64  \n",
      " 13  blueAvgLevel                  9879 non-null   float64\n",
      " 14  blueTotalExperience           9879 non-null   int64  \n",
      " 15  blueTotalMinionsKilled        9879 non-null   int64  \n",
      " 16  blueTotalJungleMinionsKilled  9879 non-null   int64  \n",
      " 17  blueGoldDiff                  9879 non-null   int64  \n",
      " 18  blueExperienceDiff            9879 non-null   int64  \n",
      " 19  blueCSPerMin                  9879 non-null   float64\n",
      " 20  blueGoldPerMin                9879 non-null   float64\n",
      " 21  redWardsPlaced                9879 non-null   int64  \n",
      " 22  redWardsDestroyed             9879 non-null   int64  \n",
      " 23  redFirstBlood                 9879 non-null   int64  \n",
      " 24  redKills                      9879 non-null   int64  \n",
      " 25  redDeaths                     9879 non-null   int64  \n",
      " 26  redAssists                    9879 non-null   int64  \n",
      " 27  redEliteMonsters              9879 non-null   int64  \n",
      " 28  redDragons                    9879 non-null   int64  \n",
      " 29  redHeralds                    9879 non-null   int64  \n",
      " 30  redTowersDestroyed            9879 non-null   int64  \n",
      " 31  redTotalGold                  9879 non-null   int64  \n",
      " 32  redAvgLevel                   9879 non-null   float64\n",
      " 33  redTotalExperience            9879 non-null   int64  \n",
      " 34  redTotalMinionsKilled         9879 non-null   int64  \n",
      " 35  redTotalJungleMinionsKilled   9879 non-null   int64  \n",
      " 36  redGoldDiff                   9879 non-null   int64  \n",
      " 37  redExperienceDiff             9879 non-null   int64  \n",
      " 38  redCSPerMin                   9879 non-null   float64\n",
      " 39  redGoldPerMin                 9879 non-null   float64\n",
      "dtypes: float64(6), int64(34)\n",
      "memory usage: 3.0 MB\n"
     ]
    }
   ],
   "source": [
    "raw_data.info()"
   ]
  },
  {
   "cell_type": "code",
   "execution_count": 5,
   "id": "2b9745e9",
   "metadata": {
    "execution": {
     "iopub.execute_input": "2022-01-12T14:11:30.748307Z",
     "iopub.status.busy": "2022-01-12T14:11:30.747684Z",
     "iopub.status.idle": "2022-01-12T14:11:30.751903Z",
     "shell.execute_reply": "2022-01-12T14:11:30.752348Z",
     "shell.execute_reply.started": "2022-01-12T14:08:37.636486Z"
    },
    "papermill": {
     "duration": 0.119102,
     "end_time": "2022-01-12T14:11:30.752527",
     "exception": false,
     "start_time": "2022-01-12T14:11:30.633425",
     "status": "completed"
    },
    "tags": []
   },
   "outputs": [],
   "source": [
    "#Let's display all the distributions for the blue side only\n",
    "blue_side_columns = []\n",
    "for col in raw_data.columns:\n",
    "       if \"blue\" in col:\n",
    "              blue_side_columns.append(col)"
   ]
  },
  {
   "cell_type": "code",
   "execution_count": 6,
   "id": "d18d167e",
   "metadata": {
    "execution": {
     "iopub.execute_input": "2022-01-12T14:11:30.981875Z",
     "iopub.status.busy": "2022-01-12T14:11:30.980937Z",
     "iopub.status.idle": "2022-01-12T14:11:30.983191Z",
     "shell.execute_reply": "2022-01-12T14:11:30.983686Z",
     "shell.execute_reply.started": "2022-01-12T14:08:37.643338Z"
    },
    "papermill": {
     "duration": 0.120116,
     "end_time": "2022-01-12T14:11:30.983877",
     "exception": false,
     "start_time": "2022-01-12T14:11:30.863761",
     "status": "completed"
    },
    "tags": []
   },
   "outputs": [],
   "source": [
    "#Let's create the dataset for blue side only\n",
    "blue_data = raw_data[blue_side_columns]"
   ]
  },
  {
   "cell_type": "code",
   "execution_count": 7,
   "id": "9a97772d",
   "metadata": {
    "execution": {
     "iopub.execute_input": "2022-01-12T14:11:31.218062Z",
     "iopub.status.busy": "2022-01-12T14:11:31.217377Z",
     "iopub.status.idle": "2022-01-12T14:11:31.227566Z",
     "shell.execute_reply": "2022-01-12T14:11:31.228174Z",
     "shell.execute_reply.started": "2022-01-12T14:08:37.655757Z"
    },
    "papermill": {
     "duration": 0.132546,
     "end_time": "2022-01-12T14:11:31.228347",
     "exception": false,
     "start_time": "2022-01-12T14:11:31.095801",
     "status": "completed"
    },
    "tags": []
   },
   "outputs": [
    {
     "data": {
      "text/html": [
       "<div>\n",
       "<style scoped>\n",
       "    .dataframe tbody tr th:only-of-type {\n",
       "        vertical-align: middle;\n",
       "    }\n",
       "\n",
       "    .dataframe tbody tr th {\n",
       "        vertical-align: top;\n",
       "    }\n",
       "\n",
       "    .dataframe thead th {\n",
       "        text-align: right;\n",
       "    }\n",
       "</style>\n",
       "<table border=\"1\" class=\"dataframe\">\n",
       "  <thead>\n",
       "    <tr style=\"text-align: right;\">\n",
       "      <th></th>\n",
       "      <th>blueWins</th>\n",
       "      <th>blueWardsPlaced</th>\n",
       "      <th>blueWardsDestroyed</th>\n",
       "      <th>blueFirstBlood</th>\n",
       "      <th>blueKills</th>\n",
       "      <th>blueDeaths</th>\n",
       "      <th>blueAssists</th>\n",
       "      <th>blueEliteMonsters</th>\n",
       "      <th>blueDragons</th>\n",
       "      <th>blueHeralds</th>\n",
       "      <th>blueTowersDestroyed</th>\n",
       "      <th>blueTotalGold</th>\n",
       "      <th>blueAvgLevel</th>\n",
       "      <th>blueTotalExperience</th>\n",
       "      <th>blueTotalMinionsKilled</th>\n",
       "      <th>blueTotalJungleMinionsKilled</th>\n",
       "      <th>blueGoldDiff</th>\n",
       "      <th>blueExperienceDiff</th>\n",
       "      <th>blueCSPerMin</th>\n",
       "      <th>blueGoldPerMin</th>\n",
       "    </tr>\n",
       "  </thead>\n",
       "  <tbody>\n",
       "    <tr>\n",
       "      <th>0</th>\n",
       "      <td>0</td>\n",
       "      <td>28</td>\n",
       "      <td>2</td>\n",
       "      <td>1</td>\n",
       "      <td>9</td>\n",
       "      <td>6</td>\n",
       "      <td>11</td>\n",
       "      <td>0</td>\n",
       "      <td>0</td>\n",
       "      <td>0</td>\n",
       "      <td>0</td>\n",
       "      <td>17210</td>\n",
       "      <td>6.6</td>\n",
       "      <td>17039</td>\n",
       "      <td>195</td>\n",
       "      <td>36</td>\n",
       "      <td>643</td>\n",
       "      <td>-8</td>\n",
       "      <td>19.5</td>\n",
       "      <td>1721.0</td>\n",
       "    </tr>\n",
       "    <tr>\n",
       "      <th>1</th>\n",
       "      <td>0</td>\n",
       "      <td>12</td>\n",
       "      <td>1</td>\n",
       "      <td>0</td>\n",
       "      <td>5</td>\n",
       "      <td>5</td>\n",
       "      <td>5</td>\n",
       "      <td>0</td>\n",
       "      <td>0</td>\n",
       "      <td>0</td>\n",
       "      <td>0</td>\n",
       "      <td>14712</td>\n",
       "      <td>6.6</td>\n",
       "      <td>16265</td>\n",
       "      <td>174</td>\n",
       "      <td>43</td>\n",
       "      <td>-2908</td>\n",
       "      <td>-1173</td>\n",
       "      <td>17.4</td>\n",
       "      <td>1471.2</td>\n",
       "    </tr>\n",
       "    <tr>\n",
       "      <th>2</th>\n",
       "      <td>0</td>\n",
       "      <td>15</td>\n",
       "      <td>0</td>\n",
       "      <td>0</td>\n",
       "      <td>7</td>\n",
       "      <td>11</td>\n",
       "      <td>4</td>\n",
       "      <td>1</td>\n",
       "      <td>1</td>\n",
       "      <td>0</td>\n",
       "      <td>0</td>\n",
       "      <td>16113</td>\n",
       "      <td>6.4</td>\n",
       "      <td>16221</td>\n",
       "      <td>186</td>\n",
       "      <td>46</td>\n",
       "      <td>-1172</td>\n",
       "      <td>-1033</td>\n",
       "      <td>18.6</td>\n",
       "      <td>1611.3</td>\n",
       "    </tr>\n",
       "    <tr>\n",
       "      <th>3</th>\n",
       "      <td>0</td>\n",
       "      <td>43</td>\n",
       "      <td>1</td>\n",
       "      <td>0</td>\n",
       "      <td>4</td>\n",
       "      <td>5</td>\n",
       "      <td>5</td>\n",
       "      <td>1</td>\n",
       "      <td>0</td>\n",
       "      <td>1</td>\n",
       "      <td>0</td>\n",
       "      <td>15157</td>\n",
       "      <td>7.0</td>\n",
       "      <td>17954</td>\n",
       "      <td>201</td>\n",
       "      <td>55</td>\n",
       "      <td>-1321</td>\n",
       "      <td>-7</td>\n",
       "      <td>20.1</td>\n",
       "      <td>1515.7</td>\n",
       "    </tr>\n",
       "    <tr>\n",
       "      <th>4</th>\n",
       "      <td>0</td>\n",
       "      <td>75</td>\n",
       "      <td>4</td>\n",
       "      <td>0</td>\n",
       "      <td>6</td>\n",
       "      <td>6</td>\n",
       "      <td>6</td>\n",
       "      <td>0</td>\n",
       "      <td>0</td>\n",
       "      <td>0</td>\n",
       "      <td>0</td>\n",
       "      <td>16400</td>\n",
       "      <td>7.0</td>\n",
       "      <td>18543</td>\n",
       "      <td>210</td>\n",
       "      <td>57</td>\n",
       "      <td>-1004</td>\n",
       "      <td>230</td>\n",
       "      <td>21.0</td>\n",
       "      <td>1640.0</td>\n",
       "    </tr>\n",
       "  </tbody>\n",
       "</table>\n",
       "</div>"
      ],
      "text/plain": [
       "   blueWins  blueWardsPlaced  blueWardsDestroyed  blueFirstBlood  blueKills  \\\n",
       "0         0               28                   2               1          9   \n",
       "1         0               12                   1               0          5   \n",
       "2         0               15                   0               0          7   \n",
       "3         0               43                   1               0          4   \n",
       "4         0               75                   4               0          6   \n",
       "\n",
       "   blueDeaths  blueAssists  blueEliteMonsters  blueDragons  blueHeralds  \\\n",
       "0           6           11                  0            0            0   \n",
       "1           5            5                  0            0            0   \n",
       "2          11            4                  1            1            0   \n",
       "3           5            5                  1            0            1   \n",
       "4           6            6                  0            0            0   \n",
       "\n",
       "   blueTowersDestroyed  blueTotalGold  blueAvgLevel  blueTotalExperience  \\\n",
       "0                    0          17210           6.6                17039   \n",
       "1                    0          14712           6.6                16265   \n",
       "2                    0          16113           6.4                16221   \n",
       "3                    0          15157           7.0                17954   \n",
       "4                    0          16400           7.0                18543   \n",
       "\n",
       "   blueTotalMinionsKilled  blueTotalJungleMinionsKilled  blueGoldDiff  \\\n",
       "0                     195                            36           643   \n",
       "1                     174                            43         -2908   \n",
       "2                     186                            46         -1172   \n",
       "3                     201                            55         -1321   \n",
       "4                     210                            57         -1004   \n",
       "\n",
       "   blueExperienceDiff  blueCSPerMin  blueGoldPerMin  \n",
       "0                  -8          19.5          1721.0  \n",
       "1               -1173          17.4          1471.2  \n",
       "2               -1033          18.6          1611.3  \n",
       "3                  -7          20.1          1515.7  \n",
       "4                 230          21.0          1640.0  "
      ]
     },
     "execution_count": 7,
     "metadata": {},
     "output_type": "execute_result"
    }
   ],
   "source": [
    "blue_data.head()"
   ]
  },
  {
   "cell_type": "code",
   "execution_count": 8,
   "id": "4a409720",
   "metadata": {
    "execution": {
     "iopub.execute_input": "2022-01-12T14:11:31.457967Z",
     "iopub.status.busy": "2022-01-12T14:11:31.457297Z",
     "iopub.status.idle": "2022-01-12T14:11:31.507184Z",
     "shell.execute_reply": "2022-01-12T14:11:31.506602Z",
     "shell.execute_reply.started": "2022-01-12T14:08:37.682198Z"
    },
    "papermill": {
     "duration": 0.167333,
     "end_time": "2022-01-12T14:11:31.507331",
     "exception": false,
     "start_time": "2022-01-12T14:11:31.339998",
     "status": "completed"
    },
    "tags": []
   },
   "outputs": [],
   "source": [
    "#describe as a df to visualize all the data\n",
    "describe_blue = blue_data.describe()"
   ]
  },
  {
   "cell_type": "markdown",
   "id": "127f1875",
   "metadata": {
    "papermill": {
     "duration": 0.11136,
     "end_time": "2022-01-12T14:11:31.730272",
     "exception": false,
     "start_time": "2022-01-12T14:11:31.618912",
     "status": "completed"
    },
    "tags": []
   },
   "source": [
    "We note an outlier for \"blueWardsPlaced\" : max=250, which is theoricaly impossible"
   ]
  },
  {
   "cell_type": "code",
   "execution_count": 9,
   "id": "4449ed99",
   "metadata": {
    "execution": {
     "iopub.execute_input": "2022-01-12T14:11:31.956914Z",
     "iopub.status.busy": "2022-01-12T14:11:31.955950Z",
     "iopub.status.idle": "2022-01-12T14:11:31.959625Z",
     "shell.execute_reply": "2022-01-12T14:11:31.960171Z",
     "shell.execute_reply.started": "2022-01-12T14:08:37.736763Z"
    },
    "papermill": {
     "duration": 0.118816,
     "end_time": "2022-01-12T14:11:31.960339",
     "exception": false,
     "start_time": "2022-01-12T14:11:31.841523",
     "status": "completed"
    },
    "tags": []
   },
   "outputs": [],
   "source": [
    "### PAS UTILE\n",
    "# #Target\n",
    "# Target = blue_data['blueWins']\n",
    "# #Numerical and Categorical data are separated\n",
    "# Numerical_blue = ['blueWardsPlaced', 'blueWardsDestroyed','blueKills','blueDeaths','blueDeaths','blueAssists','blueEliteMonsters','blueTowersDestroyed','blueTotalGold', 'blueAvgLevel','blueTotalExperience', 'blueTotalMinionsKilled', 'blueTotalJungleMinionsKilled', 'blueGoldDiff', 'blueExperienceDiff', 'blueCSPerMin', 'blueGoldPerMin']\n",
    "# Categorical_blue = ['blueFirstBlood', 'blueDragons', 'blueHeralds']"
   ]
  },
  {
   "cell_type": "markdown",
   "id": "41df6308",
   "metadata": {
    "papermill": {
     "duration": 0.112079,
     "end_time": "2022-01-12T14:11:32.183759",
     "exception": false,
     "start_time": "2022-01-12T14:11:32.071680",
     "status": "completed"
    },
    "tags": []
   },
   "source": [
    "# Preparation for the regression analysis <a id=\"3\"></a>"
   ]
  },
  {
   "cell_type": "markdown",
   "id": "62e00520",
   "metadata": {
    "papermill": {
     "duration": 0.113387,
     "end_time": "2022-01-12T14:11:32.409208",
     "exception": false,
     "start_time": "2022-01-12T14:11:32.295821",
     "status": "completed"
    },
    "tags": []
   },
   "source": [
    "## Correlations <a id=\"31\"></a>"
   ]
  },
  {
   "cell_type": "code",
   "execution_count": 10,
   "id": "38fd3c15",
   "metadata": {
    "execution": {
     "iopub.execute_input": "2022-01-12T14:11:32.638689Z",
     "iopub.status.busy": "2022-01-12T14:11:32.637670Z",
     "iopub.status.idle": "2022-01-12T14:11:34.975354Z",
     "shell.execute_reply": "2022-01-12T14:11:34.975855Z",
     "shell.execute_reply.started": "2022-01-12T14:08:37.741757Z"
    },
    "papermill": {
     "duration": 2.453313,
     "end_time": "2022-01-12T14:11:34.976022",
     "exception": false,
     "start_time": "2022-01-12T14:11:32.522709",
     "status": "completed"
    },
    "tags": []
   },
   "outputs": [
    {
     "data": {
      "text/plain": [
       "<AxesSubplot:>"
      ]
     },
     "execution_count": 10,
     "metadata": {},
     "output_type": "execute_result"
    },
    {
     "data": {
      "image/png": "[encoded data removed]",
      "text/plain": [
       "<Figure size 864x720 with 2 Axes>"
      ]
     },
     "metadata": {
      "needs_background": "light"
     },
     "output_type": "display_data"
    }
   ],
   "source": [
    "#Correlations\n",
    "plt.figure(figsize=(12, 10))\n",
    "sns.heatmap(blue_data.drop(\"blueWins\",axis=1).corr(),cmap='vlag', annot=True, fmt='.2f', vmin=-1)"
   ]
  },
  {
   "cell_type": "markdown",
   "id": "6adc9c0c",
   "metadata": {
    "papermill": {
     "duration": 0.117798,
     "end_time": "2022-01-12T14:11:35.213409",
     "exception": false,
     "start_time": "2022-01-12T14:11:35.095611",
     "status": "completed"
    },
    "tags": []
   },
   "source": [
    "We note a lot of correlations between features.  \n",
    "We'll consider a |correlation coefficient| > 0.5 as representative of a high correlation.  \n",
    "* blueAssists / blueKills : when a team do a kill before 10 min, it could be due to roaming, ganking, or kill at the botlane, leading to assists\n",
    "* blueDragon / blueEpicMonsters : Dragon are considered as an Epic Monster in the dataset\n",
    "* blueHerald / blueEpicMonsters : same  => blueDragon + blueHerald = blueEpicMonsters\n",
    "* blueTotalGolds / blueKills : killing a champion give at least 300g before 10 min, whereas it takes ~15cs to get the same amount\n",
    "* blueTotalGolds / blueAssists : because blueAssists / blueKills\n",
    "* blueAvgLevel / blueTotalGold : at 10min, the more gold you have, the more exp you have (killing minions or champions gives also lvl, in addition of giving gold)\n",
    "* blueTotalExperience / blueTotalGold : same\n",
    "* blueTotalExperience / blueaverageLevel : having experience leads to levels\n",
    "* blueTotalMinionsKilled / blueAvgLevel : killing minions gives experience, therefore gives level\n",
    "* blueTotalExperience / blueTotalMinionsKilled : same\n",
    "* blueGoldDiff / blueKills : killing enemy champions gives a lot of gold, increasing the difference of gold between teams\n",
    "* blueGoldDiff / blueDeath : on the opposite, being killed results in being late in term of gold\n",
    "* blueGoldDiff / blueAssits : Assist & kills are highly correlated\n",
    "* blueGoldDiff / blueTotalGold : the more gold you have, the more it is likely to have a gold diff\n",
    "* blueGoldDiff / blueAvgLevel : the more gold you have, the more you killed minions or champions, and so the more experience you'll get\n",
    "* blueGoldDiff / blueTotalExperience : same\n",
    "* blueExperienceDiff / blueKills : killing an enemy gives experience, but also deny the opponent getting experience because he has to wait for respawn and has to come in lane after.\n",
    "* blueExperienceDiff / blueDeath : same idea on the opposite\n",
    "* blueExperienceDiff / blueTotalGold : if you kill, you get a lot of gold and denying enemy gold and experience (from minions principaly)\n",
    "* blueExperienceDiff / blueAvgLevel : the higher the average level of the team, the likelier it is that blue Team leads the game in term of exp\n",
    "* blueExperienceDiff / blueTotalExperience : same\n",
    "* blueExperienceDiff / blueGoldDiff : same\n",
    "* blueCsPerMin / blueAvgLevel : killing minions (Creeps Score : CS) gives experience\n",
    "* blueCsPerMin / blueTotalExperience : same\n",
    "* blueCsPerMin / blueTotalMinionsKilled : correlation of 1 => logic\n",
    "* blueGoldPerMin / blueKills\n",
    "* blueGoldPerMin / blueAssits \n",
    "* blueGoldPerMin / blueTotalGold\n",
    "* blueGoldPerMin / blueAvgLevel\n",
    "* blueGoldPerMin / blueTotalExperience\n",
    "* blueGoldPerMin / blueTotalGold\n",
    "* blueGoldPerMin / blueGoldDiff\n",
    "* blueGoldPerMin / blueTotalExperience\n",
    "* blueGoldPerMin / blueExperienceDiff"
   ]
  },
  {
   "cell_type": "markdown",
   "id": "d4d4056b",
   "metadata": {
    "papermill": {
     "duration": 0.118438,
     "end_time": "2022-01-12T14:11:35.469268",
     "exception": false,
     "start_time": "2022-01-12T14:11:35.350830",
     "status": "completed"
    },
    "tags": []
   },
   "source": [
    "In regards of these informations, we modify or drop some features :\n",
    "* Assits & Kills are added together\n",
    "* EliteMonsters is dropped : we already have this information with Dragon & Helder\n",
    "* Everything relative to gold is dropped, because a lot of actions in game allow player to earn gold. We will focus on which decisions has to be taken to result in a potential win. We could study the influence of gold later\n",
    "* Everything relative to experience will be dropped for the same reason\n",
    "* CsPerMin is dropped : before 10 min, it is not relevant. We keep TotalCS instead\n",
    "* We keep AvgLevel because of the relative low correlation with others features except gold we have removed"
   ]
  },
  {
   "cell_type": "markdown",
   "id": "6237ff25",
   "metadata": {
    "papermill": {
     "duration": 0.117305,
     "end_time": "2022-01-12T14:11:35.704984",
     "exception": false,
     "start_time": "2022-01-12T14:11:35.587679",
     "status": "completed"
    },
    "tags": []
   },
   "source": [
    "## Cleaning for the logistic regression <a id=\"32\"></a>"
   ]
  },
  {
   "cell_type": "code",
   "execution_count": 11,
   "id": "2319a5da",
   "metadata": {
    "execution": {
     "iopub.execute_input": "2022-01-12T14:11:35.945228Z",
     "iopub.status.busy": "2022-01-12T14:11:35.943611Z",
     "iopub.status.idle": "2022-01-12T14:11:35.948697Z",
     "shell.execute_reply": "2022-01-12T14:11:35.948091Z",
     "shell.execute_reply.started": "2022-01-12T14:08:40.075251Z"
    },
    "papermill": {
     "duration": 0.125691,
     "end_time": "2022-01-12T14:11:35.948834",
     "exception": false,
     "start_time": "2022-01-12T14:11:35.823143",
     "status": "completed"
    },
    "tags": []
   },
   "outputs": [],
   "source": [
    "#The new Dataframe\n",
    "blue_data_cleaned = blue_data.copy()"
   ]
  },
  {
   "cell_type": "markdown",
   "id": "4642b6a8",
   "metadata": {
    "papermill": {
     "duration": 0.117692,
     "end_time": "2022-01-12T14:11:36.184286",
     "exception": false,
     "start_time": "2022-01-12T14:11:36.066594",
     "status": "completed"
    },
    "tags": []
   },
   "source": [
    "### Assists & Kills"
   ]
  },
  {
   "cell_type": "code",
   "execution_count": 12,
   "id": "4d95033d",
   "metadata": {
    "execution": {
     "iopub.execute_input": "2022-01-12T14:11:36.422235Z",
     "iopub.status.busy": "2022-01-12T14:11:36.421614Z",
     "iopub.status.idle": "2022-01-12T14:11:36.428990Z",
     "shell.execute_reply": "2022-01-12T14:11:36.429540Z",
     "shell.execute_reply.started": "2022-01-12T14:08:40.081201Z"
    },
    "papermill": {
     "duration": 0.128154,
     "end_time": "2022-01-12T14:11:36.429710",
     "exception": false,
     "start_time": "2022-01-12T14:11:36.301556",
     "status": "completed"
    },
    "tags": []
   },
   "outputs": [],
   "source": [
    "#Assists & Kills\n",
    "blue_data_cleaned['KA'] = blue_data_cleaned['blueAssists'] + blue_data_cleaned['blueKills']\n",
    "blue_data_cleaned = blue_data_cleaned.drop(['blueAssists','blueKills'],axis=1)"
   ]
  },
  {
   "cell_type": "code",
   "execution_count": 13,
   "id": "e3da59b6",
   "metadata": {
    "execution": {
     "iopub.execute_input": "2022-01-12T14:11:36.669187Z",
     "iopub.status.busy": "2022-01-12T14:11:36.668484Z",
     "iopub.status.idle": "2022-01-12T14:11:36.685332Z",
     "shell.execute_reply": "2022-01-12T14:11:36.685841Z",
     "shell.execute_reply.started": "2022-01-12T14:08:40.097125Z"
    },
    "papermill": {
     "duration": 0.137849,
     "end_time": "2022-01-12T14:11:36.686009",
     "exception": false,
     "start_time": "2022-01-12T14:11:36.548160",
     "status": "completed"
    },
    "tags": []
   },
   "outputs": [
    {
     "data": {
      "text/html": [
       "<div>\n",
       "<style scoped>\n",
       "    .dataframe tbody tr th:only-of-type {\n",
       "        vertical-align: middle;\n",
       "    }\n",
       "\n",
       "    .dataframe tbody tr th {\n",
       "        vertical-align: top;\n",
       "    }\n",
       "\n",
       "    .dataframe thead th {\n",
       "        text-align: right;\n",
       "    }\n",
       "</style>\n",
       "<table border=\"1\" class=\"dataframe\">\n",
       "  <thead>\n",
       "    <tr style=\"text-align: right;\">\n",
       "      <th></th>\n",
       "      <th>blueWins</th>\n",
       "      <th>blueWardsPlaced</th>\n",
       "      <th>blueWardsDestroyed</th>\n",
       "      <th>blueFirstBlood</th>\n",
       "      <th>blueDeaths</th>\n",
       "      <th>blueEliteMonsters</th>\n",
       "      <th>blueDragons</th>\n",
       "      <th>blueHeralds</th>\n",
       "      <th>blueTowersDestroyed</th>\n",
       "      <th>blueTotalGold</th>\n",
       "      <th>blueAvgLevel</th>\n",
       "      <th>blueTotalExperience</th>\n",
       "      <th>blueTotalMinionsKilled</th>\n",
       "      <th>blueTotalJungleMinionsKilled</th>\n",
       "      <th>blueGoldDiff</th>\n",
       "      <th>blueExperienceDiff</th>\n",
       "      <th>blueCSPerMin</th>\n",
       "      <th>blueGoldPerMin</th>\n",
       "      <th>KA</th>\n",
       "    </tr>\n",
       "  </thead>\n",
       "  <tbody>\n",
       "    <tr>\n",
       "      <th>0</th>\n",
       "      <td>0</td>\n",
       "      <td>28</td>\n",
       "      <td>2</td>\n",
       "      <td>1</td>\n",
       "      <td>6</td>\n",
       "      <td>0</td>\n",
       "      <td>0</td>\n",
       "      <td>0</td>\n",
       "      <td>0</td>\n",
       "      <td>17210</td>\n",
       "      <td>6.6</td>\n",
       "      <td>17039</td>\n",
       "      <td>195</td>\n",
       "      <td>36</td>\n",
       "      <td>643</td>\n",
       "      <td>-8</td>\n",
       "      <td>19.5</td>\n",
       "      <td>1721.0</td>\n",
       "      <td>20</td>\n",
       "    </tr>\n",
       "    <tr>\n",
       "      <th>1</th>\n",
       "      <td>0</td>\n",
       "      <td>12</td>\n",
       "      <td>1</td>\n",
       "      <td>0</td>\n",
       "      <td>5</td>\n",
       "      <td>0</td>\n",
       "      <td>0</td>\n",
       "      <td>0</td>\n",
       "      <td>0</td>\n",
       "      <td>14712</td>\n",
       "      <td>6.6</td>\n",
       "      <td>16265</td>\n",
       "      <td>174</td>\n",
       "      <td>43</td>\n",
       "      <td>-2908</td>\n",
       "      <td>-1173</td>\n",
       "      <td>17.4</td>\n",
       "      <td>1471.2</td>\n",
       "      <td>10</td>\n",
       "    </tr>\n",
       "    <tr>\n",
       "      <th>2</th>\n",
       "      <td>0</td>\n",
       "      <td>15</td>\n",
       "      <td>0</td>\n",
       "      <td>0</td>\n",
       "      <td>11</td>\n",
       "      <td>1</td>\n",
       "      <td>1</td>\n",
       "      <td>0</td>\n",
       "      <td>0</td>\n",
       "      <td>16113</td>\n",
       "      <td>6.4</td>\n",
       "      <td>16221</td>\n",
       "      <td>186</td>\n",
       "      <td>46</td>\n",
       "      <td>-1172</td>\n",
       "      <td>-1033</td>\n",
       "      <td>18.6</td>\n",
       "      <td>1611.3</td>\n",
       "      <td>11</td>\n",
       "    </tr>\n",
       "    <tr>\n",
       "      <th>3</th>\n",
       "      <td>0</td>\n",
       "      <td>43</td>\n",
       "      <td>1</td>\n",
       "      <td>0</td>\n",
       "      <td>5</td>\n",
       "      <td>1</td>\n",
       "      <td>0</td>\n",
       "      <td>1</td>\n",
       "      <td>0</td>\n",
       "      <td>15157</td>\n",
       "      <td>7.0</td>\n",
       "      <td>17954</td>\n",
       "      <td>201</td>\n",
       "      <td>55</td>\n",
       "      <td>-1321</td>\n",
       "      <td>-7</td>\n",
       "      <td>20.1</td>\n",
       "      <td>1515.7</td>\n",
       "      <td>9</td>\n",
       "    </tr>\n",
       "    <tr>\n",
       "      <th>4</th>\n",
       "      <td>0</td>\n",
       "      <td>75</td>\n",
       "      <td>4</td>\n",
       "      <td>0</td>\n",
       "      <td>6</td>\n",
       "      <td>0</td>\n",
       "      <td>0</td>\n",
       "      <td>0</td>\n",
       "      <td>0</td>\n",
       "      <td>16400</td>\n",
       "      <td>7.0</td>\n",
       "      <td>18543</td>\n",
       "      <td>210</td>\n",
       "      <td>57</td>\n",
       "      <td>-1004</td>\n",
       "      <td>230</td>\n",
       "      <td>21.0</td>\n",
       "      <td>1640.0</td>\n",
       "      <td>12</td>\n",
       "    </tr>\n",
       "  </tbody>\n",
       "</table>\n",
       "</div>"
      ],
      "text/plain": [
       "   blueWins  blueWardsPlaced  blueWardsDestroyed  blueFirstBlood  blueDeaths  \\\n",
       "0         0               28                   2               1           6   \n",
       "1         0               12                   1               0           5   \n",
       "2         0               15                   0               0          11   \n",
       "3         0               43                   1               0           5   \n",
       "4         0               75                   4               0           6   \n",
       "\n",
       "   blueEliteMonsters  blueDragons  blueHeralds  blueTowersDestroyed  \\\n",
       "0                  0            0            0                    0   \n",
       "1                  0            0            0                    0   \n",
       "2                  1            1            0                    0   \n",
       "3                  1            0            1                    0   \n",
       "4                  0            0            0                    0   \n",
       "\n",
       "   blueTotalGold  blueAvgLevel  blueTotalExperience  blueTotalMinionsKilled  \\\n",
       "0          17210           6.6                17039                     195   \n",
       "1          14712           6.6                16265                     174   \n",
       "2          16113           6.4                16221                     186   \n",
       "3          15157           7.0                17954                     201   \n",
       "4          16400           7.0                18543                     210   \n",
       "\n",
       "   blueTotalJungleMinionsKilled  blueGoldDiff  blueExperienceDiff  \\\n",
       "0                            36           643                  -8   \n",
       "1                            43         -2908               -1173   \n",
       "2                            46         -1172               -1033   \n",
       "3                            55         -1321                  -7   \n",
       "4                            57         -1004                 230   \n",
       "\n",
       "   blueCSPerMin  blueGoldPerMin  KA  \n",
       "0          19.5          1721.0  20  \n",
       "1          17.4          1471.2  10  \n",
       "2          18.6          1611.3  11  \n",
       "3          20.1          1515.7   9  \n",
       "4          21.0          1640.0  12  "
      ]
     },
     "execution_count": 13,
     "metadata": {},
     "output_type": "execute_result"
    }
   ],
   "source": [
    "blue_data_cleaned.head()"
   ]
  },
  {
   "cell_type": "markdown",
   "id": "386bb425",
   "metadata": {
    "papermill": {
     "duration": 0.119461,
     "end_time": "2022-01-12T14:11:36.924078",
     "exception": false,
     "start_time": "2022-01-12T14:11:36.804617",
     "status": "completed"
    },
    "tags": []
   },
   "source": [
    "### Gold columns dropped\n"
   ]
  },
  {
   "cell_type": "code",
   "execution_count": 14,
   "id": "220b711d",
   "metadata": {
    "execution": {
     "iopub.execute_input": "2022-01-12T14:11:37.176912Z",
     "iopub.status.busy": "2022-01-12T14:11:37.176273Z",
     "iopub.status.idle": "2022-01-12T14:11:37.178773Z",
     "shell.execute_reply": "2022-01-12T14:11:37.179313Z",
     "shell.execute_reply.started": "2022-01-12T14:08:40.120393Z"
    },
    "papermill": {
     "duration": 0.136317,
     "end_time": "2022-01-12T14:11:37.179487",
     "exception": false,
     "start_time": "2022-01-12T14:11:37.043170",
     "status": "completed"
    },
    "tags": []
   },
   "outputs": [
    {
     "data": {
      "text/plain": [
       "['blueTotalGold', 'blueGoldDiff', 'blueGoldPerMin']"
      ]
     },
     "execution_count": 14,
     "metadata": {},
     "output_type": "execute_result"
    }
   ],
   "source": [
    "#Extraction of Gold columns\n",
    "Gold = []\n",
    "for column in list(blue_data_cleaned.columns):\n",
    "    if 'Gold' in column:\n",
    "        Gold.append(column)\n",
    "Gold"
   ]
  },
  {
   "cell_type": "code",
   "execution_count": 15,
   "id": "65e24bbd",
   "metadata": {
    "execution": {
     "iopub.execute_input": "2022-01-12T14:11:37.420743Z",
     "iopub.status.busy": "2022-01-12T14:11:37.420078Z",
     "iopub.status.idle": "2022-01-12T14:11:37.425010Z",
     "shell.execute_reply": "2022-01-12T14:11:37.425586Z",
     "shell.execute_reply.started": "2022-01-12T14:08:40.134252Z"
    },
    "papermill": {
     "duration": 0.127358,
     "end_time": "2022-01-12T14:11:37.425759",
     "exception": false,
     "start_time": "2022-01-12T14:11:37.298401",
     "status": "completed"
    },
    "tags": []
   },
   "outputs": [],
   "source": [
    "blue_data_cleaned = blue_data_cleaned.drop(Gold,axis=1)"
   ]
  },
  {
   "cell_type": "code",
   "execution_count": 16,
   "id": "d8952a4c",
   "metadata": {
    "execution": {
     "iopub.execute_input": "2022-01-12T14:11:37.673170Z",
     "iopub.status.busy": "2022-01-12T14:11:37.672490Z",
     "iopub.status.idle": "2022-01-12T14:11:37.676132Z",
     "shell.execute_reply": "2022-01-12T14:11:37.675471Z",
     "shell.execute_reply.started": "2022-01-12T14:08:40.146200Z"
    },
    "papermill": {
     "duration": 0.130103,
     "end_time": "2022-01-12T14:11:37.676278",
     "exception": false,
     "start_time": "2022-01-12T14:11:37.546175",
     "status": "completed"
    },
    "tags": []
   },
   "outputs": [
    {
     "data": {
      "text/plain": [
       "Index(['blueWins', 'blueWardsPlaced', 'blueWardsDestroyed', 'blueFirstBlood',\n",
       "       'blueDeaths', 'blueEliteMonsters', 'blueDragons', 'blueHeralds',\n",
       "       'blueTowersDestroyed', 'blueAvgLevel', 'blueTotalExperience',\n",
       "       'blueTotalMinionsKilled', 'blueTotalJungleMinionsKilled',\n",
       "       'blueExperienceDiff', 'blueCSPerMin', 'KA'],\n",
       "      dtype='object')"
      ]
     },
     "execution_count": 16,
     "metadata": {},
     "output_type": "execute_result"
    }
   ],
   "source": [
    "blue_data_cleaned.columns"
   ]
  },
  {
   "cell_type": "markdown",
   "id": "b8255ead",
   "metadata": {
    "papermill": {
     "duration": 0.117755,
     "end_time": "2022-01-12T14:11:37.912575",
     "exception": false,
     "start_time": "2022-01-12T14:11:37.794820",
     "status": "completed"
    },
    "tags": []
   },
   "source": [
    "### EliteMonsters drop"
   ]
  },
  {
   "cell_type": "code",
   "execution_count": 17,
   "id": "3c79c6ab",
   "metadata": {
    "execution": {
     "iopub.execute_input": "2022-01-12T14:11:38.154698Z",
     "iopub.status.busy": "2022-01-12T14:11:38.154088Z",
     "iopub.status.idle": "2022-01-12T14:11:38.159094Z",
     "shell.execute_reply": "2022-01-12T14:11:38.159648Z",
     "shell.execute_reply.started": "2022-01-12T14:08:40.159527Z"
    },
    "papermill": {
     "duration": 0.128826,
     "end_time": "2022-01-12T14:11:38.159828",
     "exception": false,
     "start_time": "2022-01-12T14:11:38.031002",
     "status": "completed"
    },
    "tags": []
   },
   "outputs": [],
   "source": [
    "blue_data_cleaned = blue_data_cleaned.drop(['blueEliteMonsters'],axis=1)"
   ]
  },
  {
   "cell_type": "markdown",
   "id": "1cca59da",
   "metadata": {
    "papermill": {
     "duration": 0.138922,
     "end_time": "2022-01-12T14:11:38.423008",
     "exception": false,
     "start_time": "2022-01-12T14:11:38.284086",
     "status": "completed"
    },
    "tags": []
   },
   "source": [
    "### Experience"
   ]
  },
  {
   "cell_type": "code",
   "execution_count": 18,
   "id": "141eb9c0",
   "metadata": {
    "execution": {
     "iopub.execute_input": "2022-01-12T14:11:38.669371Z",
     "iopub.status.busy": "2022-01-12T14:11:38.668668Z",
     "iopub.status.idle": "2022-01-12T14:11:38.671367Z",
     "shell.execute_reply": "2022-01-12T14:11:38.671887Z",
     "shell.execute_reply.started": "2022-01-12T14:08:40.173243Z"
    },
    "papermill": {
     "duration": 0.128879,
     "end_time": "2022-01-12T14:11:38.672079",
     "exception": false,
     "start_time": "2022-01-12T14:11:38.543200",
     "status": "completed"
    },
    "tags": []
   },
   "outputs": [
    {
     "data": {
      "text/plain": [
       "['blueTotalExperience', 'blueExperienceDiff']"
      ]
     },
     "execution_count": 18,
     "metadata": {},
     "output_type": "execute_result"
    }
   ],
   "source": [
    "Experience = []\n",
    "for column in list(blue_data_cleaned.columns):\n",
    "    if 'Experience' in column:\n",
    "        Experience.append(column)\n",
    "Experience"
   ]
  },
  {
   "cell_type": "code",
   "execution_count": 19,
   "id": "bd20537f",
   "metadata": {
    "execution": {
     "iopub.execute_input": "2022-01-12T14:11:38.916758Z",
     "iopub.status.busy": "2022-01-12T14:11:38.916102Z",
     "iopub.status.idle": "2022-01-12T14:11:38.918982Z",
     "shell.execute_reply": "2022-01-12T14:11:38.918461Z",
     "shell.execute_reply.started": "2022-01-12T14:08:40.186975Z"
    },
    "papermill": {
     "duration": 0.12771,
     "end_time": "2022-01-12T14:11:38.919152",
     "exception": false,
     "start_time": "2022-01-12T14:11:38.791442",
     "status": "completed"
    },
    "tags": []
   },
   "outputs": [],
   "source": [
    "blue_data_cleaned = blue_data_cleaned.drop(Experience,axis=1)"
   ]
  },
  {
   "cell_type": "markdown",
   "id": "e39f45fc",
   "metadata": {
    "papermill": {
     "duration": 0.120077,
     "end_time": "2022-01-12T14:11:39.159173",
     "exception": false,
     "start_time": "2022-01-12T14:11:39.039096",
     "status": "completed"
    },
    "tags": []
   },
   "source": [
    "### CS per minute"
   ]
  },
  {
   "cell_type": "code",
   "execution_count": 20,
   "id": "aacec58f",
   "metadata": {
    "execution": {
     "iopub.execute_input": "2022-01-12T14:11:39.406206Z",
     "iopub.status.busy": "2022-01-12T14:11:39.405485Z",
     "iopub.status.idle": "2022-01-12T14:11:39.408526Z",
     "shell.execute_reply": "2022-01-12T14:11:39.408973Z",
     "shell.execute_reply.started": "2022-01-12T14:08:40.199375Z"
    },
    "papermill": {
     "duration": 0.130577,
     "end_time": "2022-01-12T14:11:39.409160",
     "exception": false,
     "start_time": "2022-01-12T14:11:39.278583",
     "status": "completed"
    },
    "tags": []
   },
   "outputs": [],
   "source": [
    "blue_data_cleaned = blue_data_cleaned.drop(['blueCSPerMin'],axis=1)"
   ]
  },
  {
   "cell_type": "markdown",
   "id": "9db421a3",
   "metadata": {
    "papermill": {
     "duration": 0.119477,
     "end_time": "2022-01-12T14:11:39.648505",
     "exception": false,
     "start_time": "2022-01-12T14:11:39.529028",
     "status": "completed"
    },
    "tags": []
   },
   "source": [
    "### Check the correlation in the cleaned Data"
   ]
  },
  {
   "cell_type": "code",
   "execution_count": 21,
   "id": "7843b2bc",
   "metadata": {
    "execution": {
     "iopub.execute_input": "2022-01-12T14:11:39.896570Z",
     "iopub.status.busy": "2022-01-12T14:11:39.895877Z",
     "iopub.status.idle": "2022-01-12T14:11:40.907970Z",
     "shell.execute_reply": "2022-01-12T14:11:40.908493Z",
     "shell.execute_reply.started": "2022-01-12T14:08:40.211506Z"
    },
    "papermill": {
     "duration": 1.139783,
     "end_time": "2022-01-12T14:11:40.908663",
     "exception": false,
     "start_time": "2022-01-12T14:11:39.768880",
     "status": "completed"
    },
    "tags": []
   },
   "outputs": [
    {
     "data": {
      "text/plain": [
       "<AxesSubplot:>"
      ]
     },
     "execution_count": 21,
     "metadata": {},
     "output_type": "execute_result"
    },
    {
     "data": {
      "image/png": "[encoded data removed]",
      "text/plain": [
       "<Figure size 864x720 with 2 Axes>"
      ]
     },
     "metadata": {
      "needs_background": "light"
     },
     "output_type": "display_data"
    }
   ],
   "source": [
    "plt.figure(figsize=(12, 10))\n",
    "sns.heatmap(blue_data_cleaned.drop(\"blueWins\",axis=1).corr(),cmap='vlag', annot=True, fmt='.2f', vmin=-1)"
   ]
  },
  {
   "cell_type": "markdown",
   "id": "4ebffcbe",
   "metadata": {
    "papermill": {
     "duration": 0.123976,
     "end_time": "2022-01-12T14:11:41.154877",
     "exception": false,
     "start_time": "2022-01-12T14:11:41.030901",
     "status": "completed"
    },
    "tags": []
   },
   "source": [
    "## Outliers <a id=\"33\"></a>"
   ]
  },
  {
   "cell_type": "markdown",
   "id": "ee7c6c1e",
   "metadata": {
    "papermill": {
     "duration": 0.1222,
     "end_time": "2022-01-12T14:11:41.399813",
     "exception": false,
     "start_time": "2022-01-12T14:11:41.277613",
     "status": "completed"
    },
    "tags": []
   },
   "source": [
    "We note some outliers. \n",
    "We will remove them if judged not relevant.\n",
    "* blueWardsPlaced\n",
    "* blueWardsDestroyed\n",
    "* blueDeath\n",
    "* blueTowerDestroyed\n",
    "* KA"
   ]
  },
  {
   "cell_type": "code",
   "execution_count": 22,
   "id": "bddf78d8",
   "metadata": {
    "execution": {
     "iopub.execute_input": "2022-01-12T14:11:41.650603Z",
     "iopub.status.busy": "2022-01-12T14:11:41.649882Z",
     "iopub.status.idle": "2022-01-12T14:11:41.652859Z",
     "shell.execute_reply": "2022-01-12T14:11:41.653355Z",
     "shell.execute_reply.started": "2022-01-12T14:08:41.229854Z"
    },
    "papermill": {
     "duration": 0.131199,
     "end_time": "2022-01-12T14:11:41.653545",
     "exception": false,
     "start_time": "2022-01-12T14:11:41.522346",
     "status": "completed"
    },
    "tags": []
   },
   "outputs": [],
   "source": [
    "#Copy\n",
    "blue_no_outliers = blue_data_cleaned.copy()"
   ]
  },
  {
   "cell_type": "markdown",
   "id": "c7ca0c09",
   "metadata": {
    "papermill": {
     "duration": 0.125568,
     "end_time": "2022-01-12T14:11:41.902561",
     "exception": false,
     "start_time": "2022-01-12T14:11:41.776993",
     "status": "completed"
    },
    "tags": []
   },
   "source": [
    "### WardsPlaced"
   ]
  },
  {
   "cell_type": "code",
   "execution_count": 23,
   "id": "acc0b79e",
   "metadata": {
    "execution": {
     "iopub.execute_input": "2022-01-12T14:11:42.153379Z",
     "iopub.status.busy": "2022-01-12T14:11:42.152750Z",
     "iopub.status.idle": "2022-01-12T14:11:42.378065Z",
     "shell.execute_reply": "2022-01-12T14:11:42.378581Z",
     "shell.execute_reply.started": "2022-01-12T14:08:41.236458Z"
    },
    "papermill": {
     "duration": 0.353557,
     "end_time": "2022-01-12T14:11:42.378775",
     "exception": false,
     "start_time": "2022-01-12T14:11:42.025218",
     "status": "completed"
    },
    "tags": []
   },
   "outputs": [
    {
     "data": {
      "text/plain": [
       "<seaborn.axisgrid.FacetGrid at 0x7f349c873d50>"
      ]
     },
     "execution_count": 23,
     "metadata": {},
     "output_type": "execute_result"
    },
    {
     "data": {
      "image/png": "[encoded data removed]",
      "text/plain": [
       "<Figure size 360x360 with 1 Axes>"
      ]
     },
     "metadata": {
      "needs_background": "light"
     },
     "output_type": "display_data"
    }
   ],
   "source": [
    "sns.displot(blue_no_outliers['blueWardsPlaced'],kind=\"ecdf\")"
   ]
  },
  {
   "cell_type": "markdown",
   "id": "79bb1069",
   "metadata": {
    "papermill": {
     "duration": 0.125592,
     "end_time": "2022-01-12T14:11:42.629846",
     "exception": false,
     "start_time": "2022-01-12T14:11:42.504254",
     "status": "completed"
    },
    "tags": []
   },
   "source": [
    "We see that in some games, blue players has placed a lot of wards (more than 100 below 10min, which is not usual in a normal game).  \n",
    "Sometimes, players decide to not play anymore because they judge the game as already lost. So it is likely they place wards in base or whatever waiting for the game to end.  \n",
    "\n",
    "For this reason, let's remove everything above 99% "
   ]
  },
  {
   "cell_type": "code",
   "execution_count": 24,
   "id": "ff148dae",
   "metadata": {
    "execution": {
     "iopub.execute_input": "2022-01-12T14:11:42.883562Z",
     "iopub.status.busy": "2022-01-12T14:11:42.882816Z",
     "iopub.status.idle": "2022-01-12T14:11:42.888358Z",
     "shell.execute_reply": "2022-01-12T14:11:42.889079Z",
     "shell.execute_reply.started": "2022-01-12T14:08:41.467519Z"
    },
    "papermill": {
     "duration": 0.132775,
     "end_time": "2022-01-12T14:11:42.889306",
     "exception": false,
     "start_time": "2022-01-12T14:11:42.756531",
     "status": "completed"
    },
    "tags": []
   },
   "outputs": [],
   "source": [
    "#Remove everything above 99%\n",
    "blue_no_outliers = blue_no_outliers.loc[blue_no_outliers['blueWardsPlaced'] <= np.quantile(blue_no_outliers['blueWardsPlaced'],q=0.99)]"
   ]
  },
  {
   "cell_type": "code",
   "execution_count": 25,
   "id": "6326c505",
   "metadata": {
    "execution": {
     "iopub.execute_input": "2022-01-12T14:11:43.141925Z",
     "iopub.status.busy": "2022-01-12T14:11:43.141293Z",
     "iopub.status.idle": "2022-01-12T14:11:43.145959Z",
     "shell.execute_reply": "2022-01-12T14:11:43.146686Z",
     "shell.execute_reply.started": "2022-01-12T14:08:41.474847Z"
    },
    "papermill": {
     "duration": 0.133254,
     "end_time": "2022-01-12T14:11:43.146927",
     "exception": false,
     "start_time": "2022-01-12T14:11:43.013673",
     "status": "completed"
    },
    "tags": []
   },
   "outputs": [
    {
     "name": "stdout",
     "output_type": "stream",
     "text": [
      "We've just removed 93 games considering Wards Placed outliers\n"
     ]
    }
   ],
   "source": [
    "print(\"We've just removed {} games considering Wards Placed outliers\".format(raw_data.shape[0] - blue_no_outliers.shape[0]))"
   ]
  },
  {
   "cell_type": "markdown",
   "id": "e58addbf",
   "metadata": {
    "papermill": {
     "duration": 0.123508,
     "end_time": "2022-01-12T14:11:43.395510",
     "exception": false,
     "start_time": "2022-01-12T14:11:43.272002",
     "status": "completed"
    },
    "tags": []
   },
   "source": [
    "### blueWardsDestroyed"
   ]
  },
  {
   "cell_type": "code",
   "execution_count": 26,
   "id": "51d7ca78",
   "metadata": {
    "execution": {
     "iopub.execute_input": "2022-01-12T14:11:43.649032Z",
     "iopub.status.busy": "2022-01-12T14:11:43.648376Z",
     "iopub.status.idle": "2022-01-12T14:11:43.897335Z",
     "shell.execute_reply": "2022-01-12T14:11:43.896761Z",
     "shell.execute_reply.started": "2022-01-12T14:08:41.489647Z"
    },
    "papermill": {
     "duration": 0.378163,
     "end_time": "2022-01-12T14:11:43.897489",
     "exception": false,
     "start_time": "2022-01-12T14:11:43.519326",
     "status": "completed"
    },
    "tags": []
   },
   "outputs": [
    {
     "data": {
      "text/plain": [
       "<seaborn.axisgrid.FacetGrid at 0x7f3492751d90>"
      ]
     },
     "execution_count": 26,
     "metadata": {},
     "output_type": "execute_result"
    },
    {
     "data": {
      "image/png": "[encoded data removed]",
      "text/plain": [
       "<Figure size 360x360 with 1 Axes>"
      ]
     },
     "metadata": {
      "needs_background": "light"
     },
     "output_type": "display_data"
    }
   ],
   "source": [
    "sns.displot(blue_no_outliers['blueWardsDestroyed'],kind=\"ecdf\")"
   ]
  },
  {
   "cell_type": "code",
   "execution_count": 27,
   "id": "5d643f05",
   "metadata": {
    "execution": {
     "iopub.execute_input": "2022-01-12T14:11:44.154896Z",
     "iopub.status.busy": "2022-01-12T14:11:44.154209Z",
     "iopub.status.idle": "2022-01-12T14:11:44.157748Z",
     "shell.execute_reply": "2022-01-12T14:11:44.158284Z",
     "shell.execute_reply.started": "2022-01-12T14:08:41.718205Z"
    },
    "papermill": {
     "duration": 0.134006,
     "end_time": "2022-01-12T14:11:44.158457",
     "exception": false,
     "start_time": "2022-01-12T14:11:44.024451",
     "status": "completed"
    },
    "tags": []
   },
   "outputs": [],
   "source": [
    "#Remove everything above 99%\n",
    "blue_no_outliers = blue_no_outliers.loc[blue_no_outliers['blueWardsDestroyed'] <= np.quantile(blue_no_outliers['blueWardsDestroyed'],q=0.99)]"
   ]
  },
  {
   "cell_type": "markdown",
   "id": "c929c11c",
   "metadata": {
    "papermill": {
     "duration": 0.12487,
     "end_time": "2022-01-12T14:11:44.409392",
     "exception": false,
     "start_time": "2022-01-12T14:11:44.284522",
     "status": "completed"
    },
    "tags": []
   },
   "source": [
    "### blue Deaths"
   ]
  },
  {
   "cell_type": "code",
   "execution_count": 28,
   "id": "5b5e758a",
   "metadata": {
    "execution": {
     "iopub.execute_input": "2022-01-12T14:11:44.688333Z",
     "iopub.status.busy": "2022-01-12T14:11:44.674441Z",
     "iopub.status.idle": "2022-01-12T14:11:44.947355Z",
     "shell.execute_reply": "2022-01-12T14:11:44.947815Z",
     "shell.execute_reply.started": "2022-01-12T14:08:41.726419Z"
    },
    "papermill": {
     "duration": 0.413347,
     "end_time": "2022-01-12T14:11:44.947989",
     "exception": false,
     "start_time": "2022-01-12T14:11:44.534642",
     "status": "completed"
    },
    "tags": []
   },
   "outputs": [
    {
     "data": {
      "text/plain": [
       "<seaborn.axisgrid.FacetGrid at 0x7f3492736810>"
      ]
     },
     "execution_count": 28,
     "metadata": {},
     "output_type": "execute_result"
    },
    {
     "data": {
      "image/png": "[encoded data removed]",
      "text/plain": [
       "<Figure size 360x360 with 1 Axes>"
      ]
     },
     "metadata": {
      "needs_background": "light"
     },
     "output_type": "display_data"
    }
   ],
   "source": [
    "sns.displot(blue_no_outliers['blueDeaths'],kind=\"ecdf\")"
   ]
  },
  {
   "cell_type": "markdown",
   "id": "e3760aaf",
   "metadata": {
    "papermill": {
     "duration": 0.126392,
     "end_time": "2022-01-12T14:11:45.201109",
     "exception": false,
     "start_time": "2022-01-12T14:11:45.074717",
     "status": "completed"
    },
    "tags": []
   },
   "source": [
    "We will remove these outliers too because generally, when a team decides to give up, they're giving kills, leading to their defeat.  \n",
    "We will remove these outliers to consider more fair games only."
   ]
  },
  {
   "cell_type": "code",
   "execution_count": 29,
   "id": "1f839384",
   "metadata": {
    "execution": {
     "iopub.execute_input": "2022-01-12T14:11:45.465474Z",
     "iopub.status.busy": "2022-01-12T14:11:45.464329Z",
     "iopub.status.idle": "2022-01-12T14:11:45.468355Z",
     "shell.execute_reply": "2022-01-12T14:11:45.468818Z",
     "shell.execute_reply.started": "2022-01-12T14:08:41.951653Z"
    },
    "papermill": {
     "duration": 0.1362,
     "end_time": "2022-01-12T14:11:45.469004",
     "exception": false,
     "start_time": "2022-01-12T14:11:45.332804",
     "status": "completed"
    },
    "tags": []
   },
   "outputs": [],
   "source": [
    "#Remove everything above 99%\n",
    "blue_no_outliers = blue_no_outliers.loc[blue_no_outliers['blueDeaths'] <= np.quantile(blue_no_outliers['blueDeaths'],q=0.99)]"
   ]
  },
  {
   "cell_type": "markdown",
   "id": "2ce59d73",
   "metadata": {
    "papermill": {
     "duration": 0.12602,
     "end_time": "2022-01-12T14:11:45.722841",
     "exception": false,
     "start_time": "2022-01-12T14:11:45.596821",
     "status": "completed"
    },
    "tags": []
   },
   "source": [
    "### blue Tower Destroyed"
   ]
  },
  {
   "cell_type": "code",
   "execution_count": 30,
   "id": "a74c789d",
   "metadata": {
    "execution": {
     "iopub.execute_input": "2022-01-12T14:11:45.980278Z",
     "iopub.status.busy": "2022-01-12T14:11:45.979248Z",
     "iopub.status.idle": "2022-01-12T14:11:46.278112Z",
     "shell.execute_reply": "2022-01-12T14:11:46.278572Z",
     "shell.execute_reply.started": "2022-01-12T14:08:41.960257Z"
    },
    "papermill": {
     "duration": 0.429216,
     "end_time": "2022-01-12T14:11:46.278747",
     "exception": false,
     "start_time": "2022-01-12T14:11:45.849531",
     "status": "completed"
    },
    "tags": []
   },
   "outputs": [
    {
     "data": {
      "text/plain": [
       "<seaborn.axisgrid.FacetGrid at 0x7f3492632fd0>"
      ]
     },
     "execution_count": 30,
     "metadata": {},
     "output_type": "execute_result"
    },
    {
     "data": {
      "image/png": "[encoded data removed]",
      "text/plain": [
       "<Figure size 360x360 with 1 Axes>"
      ]
     },
     "metadata": {
      "needs_background": "light"
     },
     "output_type": "display_data"
    }
   ],
   "source": [
    "sns.displot(blue_no_outliers['blueTowersDestroyed'],kind=\"ecdf\")"
   ]
  },
  {
   "cell_type": "markdown",
   "id": "ddf31982",
   "metadata": {
    "papermill": {
     "duration": 0.126543,
     "end_time": "2022-01-12T14:11:46.532932",
     "exception": false,
     "start_time": "2022-01-12T14:11:46.406389",
     "status": "completed"
    },
    "tags": []
   },
   "source": [
    "In regards of the low possibilites which can occur : until 4 towers destroyed, we will keep these outliers.   \n",
    "Generally, when a team give up, they stay in base and let the enemy team pushs lanes until the Nexus, destroying turrets. "
   ]
  },
  {
   "cell_type": "markdown",
   "id": "93da7fb4",
   "metadata": {
    "papermill": {
     "duration": 0.127793,
     "end_time": "2022-01-12T14:11:46.789262",
     "exception": false,
     "start_time": "2022-01-12T14:11:46.661469",
     "status": "completed"
    },
    "tags": []
   },
   "source": [
    "### Kill & Assists (KA)"
   ]
  },
  {
   "cell_type": "code",
   "execution_count": 31,
   "id": "2428026f",
   "metadata": {
    "execution": {
     "iopub.execute_input": "2022-01-12T14:11:47.048386Z",
     "iopub.status.busy": "2022-01-12T14:11:47.047748Z",
     "iopub.status.idle": "2022-01-12T14:11:47.330293Z",
     "shell.execute_reply": "2022-01-12T14:11:47.330864Z",
     "shell.execute_reply.started": "2022-01-12T14:08:42.201487Z"
    },
    "papermill": {
     "duration": 0.412699,
     "end_time": "2022-01-12T14:11:47.331039",
     "exception": false,
     "start_time": "2022-01-12T14:11:46.918340",
     "status": "completed"
    },
    "tags": []
   },
   "outputs": [
    {
     "data": {
      "text/plain": [
       "<seaborn.axisgrid.FacetGrid at 0x7f3492642cd0>"
      ]
     },
     "execution_count": 31,
     "metadata": {},
     "output_type": "execute_result"
    },
    {
     "data": {
      "image/png": "[encoded data removed]",
      "text/plain": [
       "<Figure size 360x360 with 1 Axes>"
      ]
     },
     "metadata": {
      "needs_background": "light"
     },
     "output_type": "display_data"
    }
   ],
   "source": [
    "sns.displot(blue_no_outliers['KA'],kind=\"ecdf\")"
   ]
  },
  {
   "cell_type": "code",
   "execution_count": 32,
   "id": "31335d6c",
   "metadata": {
    "execution": {
     "iopub.execute_input": "2022-01-12T14:11:47.591394Z",
     "iopub.status.busy": "2022-01-12T14:11:47.590735Z",
     "iopub.status.idle": "2022-01-12T14:11:47.596629Z",
     "shell.execute_reply": "2022-01-12T14:11:47.597154Z",
     "shell.execute_reply.started": "2022-01-12T14:08:42.423838Z"
    },
    "papermill": {
     "duration": 0.137456,
     "end_time": "2022-01-12T14:11:47.597334",
     "exception": false,
     "start_time": "2022-01-12T14:11:47.459878",
     "status": "completed"
    },
    "tags": []
   },
   "outputs": [],
   "source": [
    "#Remove everything above 99%\n",
    "blue_no_outliers = blue_no_outliers.loc[blue_no_outliers['KA'] <= np.quantile(blue_no_outliers['KA'],q=0.99)]"
   ]
  },
  {
   "cell_type": "markdown",
   "id": "d649b290",
   "metadata": {
    "papermill": {
     "duration": 0.12825,
     "end_time": "2022-01-12T14:11:47.854720",
     "exception": false,
     "start_time": "2022-01-12T14:11:47.726470",
     "status": "completed"
    },
    "tags": []
   },
   "source": [
    "How many games/row did we removed ?"
   ]
  },
  {
   "cell_type": "code",
   "execution_count": 33,
   "id": "39e367d4",
   "metadata": {
    "execution": {
     "iopub.execute_input": "2022-01-12T14:11:48.118253Z",
     "iopub.status.busy": "2022-01-12T14:11:48.117563Z",
     "iopub.status.idle": "2022-01-12T14:11:48.122692Z",
     "shell.execute_reply": "2022-01-12T14:11:48.123386Z",
     "shell.execute_reply.started": "2022-01-12T14:08:42.431820Z"
    },
    "papermill": {
     "duration": 0.139854,
     "end_time": "2022-01-12T14:11:48.123572",
     "exception": false,
     "start_time": "2022-01-12T14:11:47.983718",
     "status": "completed"
    },
    "tags": []
   },
   "outputs": [
    {
     "name": "stdout",
     "output_type": "stream",
     "text": [
      "We have removed 319 rows from the inital dataset\n"
     ]
    }
   ],
   "source": [
    "print(\"We have removed {} rows from the inital dataset\".format(raw_data.shape[0] - blue_no_outliers.shape[0]))"
   ]
  },
  {
   "cell_type": "markdown",
   "id": "608e625d",
   "metadata": {
    "papermill": {
     "duration": 0.13082,
     "end_time": "2022-01-12T14:11:48.384766",
     "exception": false,
     "start_time": "2022-01-12T14:11:48.253946",
     "status": "completed"
    },
    "tags": []
   },
   "source": [
    "## Target balance <a id=\"34\"></a>\n",
    "In order to create a relevant model, let's check if the target is well balanced between 0 & 1"
   ]
  },
  {
   "cell_type": "code",
   "execution_count": 34,
   "id": "f84ec051",
   "metadata": {
    "execution": {
     "iopub.execute_input": "2022-01-12T14:11:48.646975Z",
     "iopub.status.busy": "2022-01-12T14:11:48.646328Z",
     "iopub.status.idle": "2022-01-12T14:11:48.650126Z",
     "shell.execute_reply": "2022-01-12T14:11:48.650638Z",
     "shell.execute_reply.started": "2022-01-12T14:08:42.443619Z"
    },
    "papermill": {
     "duration": 0.136927,
     "end_time": "2022-01-12T14:11:48.650810",
     "exception": false,
     "start_time": "2022-01-12T14:11:48.513883",
     "status": "completed"
    },
    "tags": []
   },
   "outputs": [],
   "source": [
    "#Save\n",
    "blue_balanced = blue_no_outliers.copy()"
   ]
  },
  {
   "cell_type": "code",
   "execution_count": 35,
   "id": "3763e133",
   "metadata": {
    "execution": {
     "iopub.execute_input": "2022-01-12T14:11:48.912850Z",
     "iopub.status.busy": "2022-01-12T14:11:48.911828Z",
     "iopub.status.idle": "2022-01-12T14:11:48.917661Z",
     "shell.execute_reply": "2022-01-12T14:11:48.918167Z",
     "shell.execute_reply.started": "2022-01-12T14:08:42.454787Z"
    },
    "papermill": {
     "duration": 0.138594,
     "end_time": "2022-01-12T14:11:48.918338",
     "exception": false,
     "start_time": "2022-01-12T14:11:48.779744",
     "status": "completed"
    },
    "tags": []
   },
   "outputs": [
    {
     "name": "stdout",
     "output_type": "stream",
     "text": [
      "In this current Dataset, there is 0.499% of won games\n"
     ]
    }
   ],
   "source": [
    "print(\"In this current Dataset, there is {0:.3f}% of won games\".format(\n",
    "    blue_balanced['blueWins'].sum() / blue_balanced['blueWins'].shape[0]\n",
    "    )\n",
    ")"
   ]
  },
  {
   "cell_type": "markdown",
   "id": "4694a499",
   "metadata": {
    "papermill": {
     "duration": 0.129379,
     "end_time": "2022-01-12T14:11:49.177142",
     "exception": false,
     "start_time": "2022-01-12T14:11:49.047763",
     "status": "completed"
    },
    "tags": []
   },
   "source": [
    "The Target is well balanced !"
   ]
  },
  {
   "cell_type": "markdown",
   "id": "0e2d1598",
   "metadata": {
    "papermill": {
     "duration": 0.137965,
     "end_time": "2022-01-12T14:11:49.460712",
     "exception": false,
     "start_time": "2022-01-12T14:11:49.322747",
     "status": "completed"
    },
    "tags": []
   },
   "source": [
    "# Logistic regression analysis "
   ]
  },
  {
   "cell_type": "code",
   "execution_count": 36,
   "id": "55b00c7d",
   "metadata": {
    "execution": {
     "iopub.execute_input": "2022-01-12T14:11:49.817297Z",
     "iopub.status.busy": "2022-01-12T14:11:49.816595Z",
     "iopub.status.idle": "2022-01-12T14:11:49.819021Z",
     "shell.execute_reply": "2022-01-12T14:11:49.819656Z",
     "shell.execute_reply.started": "2022-01-12T14:08:42.466104Z"
    },
    "papermill": {
     "duration": 0.15157,
     "end_time": "2022-01-12T14:11:49.819823",
     "exception": false,
     "start_time": "2022-01-12T14:11:49.668253",
     "status": "completed"
    },
    "tags": []
   },
   "outputs": [],
   "source": [
    "#Save\n",
    "blue_data_scaled = blue_balanced.copy()"
   ]
  },
  {
   "cell_type": "code",
   "execution_count": 37,
   "id": "f7aa5a8f",
   "metadata": {
    "execution": {
     "iopub.execute_input": "2022-01-12T14:11:50.095974Z",
     "iopub.status.busy": "2022-01-12T14:11:50.095321Z",
     "iopub.status.idle": "2022-01-12T14:11:50.099253Z",
     "shell.execute_reply": "2022-01-12T14:11:50.099846Z",
     "shell.execute_reply.started": "2022-01-12T14:08:42.477231Z"
    },
    "papermill": {
     "duration": 0.138698,
     "end_time": "2022-01-12T14:11:50.100020",
     "exception": false,
     "start_time": "2022-01-12T14:11:49.961322",
     "status": "completed"
    },
    "tags": []
   },
   "outputs": [],
   "source": [
    "#Target\n",
    "blue_target = blue_balanced['blueWins']"
   ]
  },
  {
   "cell_type": "code",
   "execution_count": 38,
   "id": "f6510f4c",
   "metadata": {
    "execution": {
     "iopub.execute_input": "2022-01-12T14:11:50.368684Z",
     "iopub.status.busy": "2022-01-12T14:11:50.368073Z",
     "iopub.status.idle": "2022-01-12T14:11:50.372949Z",
     "shell.execute_reply": "2022-01-12T14:11:50.373499Z",
     "shell.execute_reply.started": "2022-01-12T14:08:42.488059Z"
    },
    "papermill": {
     "duration": 0.141712,
     "end_time": "2022-01-12T14:11:50.373670",
     "exception": false,
     "start_time": "2022-01-12T14:11:50.231958",
     "status": "completed"
    },
    "tags": []
   },
   "outputs": [],
   "source": [
    "#Features\n",
    "blue_features = blue_balanced.drop(['blueWins'],axis=1)"
   ]
  },
  {
   "cell_type": "markdown",
   "id": "fbc32e9b",
   "metadata": {
    "papermill": {
     "duration": 0.129325,
     "end_time": "2022-01-12T14:11:50.632318",
     "exception": false,
     "start_time": "2022-01-12T14:11:50.502993",
     "status": "completed"
    },
    "tags": []
   },
   "source": [
    "## Standardization <a id=\"41\"></a>"
   ]
  },
  {
   "cell_type": "code",
   "execution_count": 39,
   "id": "8662a878",
   "metadata": {
    "execution": {
     "iopub.execute_input": "2022-01-12T14:11:50.894894Z",
     "iopub.status.busy": "2022-01-12T14:11:50.894240Z",
     "iopub.status.idle": "2022-01-12T14:11:50.904498Z",
     "shell.execute_reply": "2022-01-12T14:11:50.905040Z",
     "shell.execute_reply.started": "2022-01-12T14:08:42.500946Z"
    },
    "papermill": {
     "duration": 0.142735,
     "end_time": "2022-01-12T14:11:50.905228",
     "exception": false,
     "start_time": "2022-01-12T14:11:50.762493",
     "status": "completed"
    },
    "tags": []
   },
   "outputs": [],
   "source": [
    "scaler = StandardScaler()\n",
    "scaler.fit(blue_features)\n",
    "\n",
    "blue_features_scaled = scaler.transform(blue_features)"
   ]
  },
  {
   "cell_type": "code",
   "execution_count": 40,
   "id": "75232800",
   "metadata": {
    "execution": {
     "iopub.execute_input": "2022-01-12T14:11:51.169721Z",
     "iopub.status.busy": "2022-01-12T14:11:51.169006Z",
     "iopub.status.idle": "2022-01-12T14:11:51.174477Z",
     "shell.execute_reply": "2022-01-12T14:11:51.174996Z",
     "shell.execute_reply.started": "2022-01-12T14:08:42.518980Z"
    },
    "papermill": {
     "duration": 0.139616,
     "end_time": "2022-01-12T14:11:51.175185",
     "exception": false,
     "start_time": "2022-01-12T14:11:51.035569",
     "status": "completed"
    },
    "tags": []
   },
   "outputs": [
    {
     "data": {
      "text/plain": [
       "array([ 9.21624469e-17, -1.78378929e-17, -7.43245539e-18,  1.07770603e-16,\n",
       "       -6.13177570e-17,  6.24326253e-17,  1.41216653e-17, -9.37975871e-16,\n",
       "        4.15102634e-16,  3.38827060e-16, -3.97636364e-17])"
      ]
     },
     "execution_count": 40,
     "metadata": {},
     "output_type": "execute_result"
    }
   ],
   "source": [
    "blue_features_scaled.mean(axis=0)"
   ]
  },
  {
   "cell_type": "code",
   "execution_count": 41,
   "id": "7be83ba7",
   "metadata": {
    "execution": {
     "iopub.execute_input": "2022-01-12T14:11:51.438013Z",
     "iopub.status.busy": "2022-01-12T14:11:51.437373Z",
     "iopub.status.idle": "2022-01-12T14:11:51.442475Z",
     "shell.execute_reply": "2022-01-12T14:11:51.442938Z",
     "shell.execute_reply.started": "2022-01-12T14:08:42.528541Z"
    },
    "papermill": {
     "duration": 0.138413,
     "end_time": "2022-01-12T14:11:51.443127",
     "exception": false,
     "start_time": "2022-01-12T14:11:51.304714",
     "status": "completed"
    },
    "tags": []
   },
   "outputs": [
    {
     "data": {
      "text/plain": [
       "array([1., 1., 1., 1., 1., 1., 1., 1., 1., 1., 1.])"
      ]
     },
     "execution_count": 41,
     "metadata": {},
     "output_type": "execute_result"
    }
   ],
   "source": [
    "blue_features_scaled.std(axis=0)"
   ]
  },
  {
   "cell_type": "markdown",
   "id": "003ad4f7",
   "metadata": {
    "papermill": {
     "duration": 0.130993,
     "end_time": "2022-01-12T14:11:51.703934",
     "exception": false,
     "start_time": "2022-01-12T14:11:51.572941",
     "status": "completed"
    },
    "tags": []
   },
   "source": [
    "Standardization worked"
   ]
  },
  {
   "cell_type": "markdown",
   "id": "3d82f554",
   "metadata": {
    "papermill": {
     "duration": 0.13545,
     "end_time": "2022-01-12T14:11:51.969877",
     "exception": false,
     "start_time": "2022-01-12T14:11:51.834427",
     "status": "completed"
    },
    "tags": []
   },
   "source": [
    "## Train Test Split <a id=\"42\"></a>\n",
    "(not used yet because we just want to get feature's weights)"
   ]
  },
  {
   "cell_type": "code",
   "execution_count": 42,
   "id": "bea2ecc3",
   "metadata": {
    "execution": {
     "iopub.execute_input": "2022-01-12T14:11:52.235930Z",
     "iopub.status.busy": "2022-01-12T14:11:52.234907Z",
     "iopub.status.idle": "2022-01-12T14:11:52.242962Z",
     "shell.execute_reply": "2022-01-12T14:11:52.243576Z",
     "shell.execute_reply.started": "2022-01-12T14:08:42.541044Z"
    },
    "papermill": {
     "duration": 0.142282,
     "end_time": "2022-01-12T14:11:52.243762",
     "exception": false,
     "start_time": "2022-01-12T14:11:52.101480",
     "status": "completed"
    },
    "tags": []
   },
   "outputs": [],
   "source": [
    "x_train, x_test, y_train, y_test = train_test_split(blue_features_scaled,blue_target, random_state=42, test_size=0.10)"
   ]
  },
  {
   "cell_type": "markdown",
   "id": "2aefe2b5",
   "metadata": {
    "papermill": {
     "duration": 0.131169,
     "end_time": "2022-01-12T14:11:52.506544",
     "exception": false,
     "start_time": "2022-01-12T14:11:52.375375",
     "status": "completed"
    },
    "tags": []
   },
   "source": [
    "## Logistic regression <a id=\"43\"></a>\n",
    "With this first model, we will be able to calculate each feature's weight, therefore to estimate the influence of this feature on the winning condition"
   ]
  },
  {
   "cell_type": "code",
   "execution_count": 43,
   "id": "2a5bb945",
   "metadata": {
    "execution": {
     "iopub.execute_input": "2022-01-12T14:11:52.781121Z",
     "iopub.status.busy": "2022-01-12T14:11:52.780407Z",
     "iopub.status.idle": "2022-01-12T14:11:52.813287Z",
     "shell.execute_reply": "2022-01-12T14:11:52.814519Z",
     "shell.execute_reply.started": "2022-01-12T14:08:42.553341Z"
    },
    "papermill": {
     "duration": 0.17357,
     "end_time": "2022-01-12T14:11:52.814834",
     "exception": false,
     "start_time": "2022-01-12T14:11:52.641264",
     "status": "completed"
    },
    "tags": []
   },
   "outputs": [
    {
     "data": {
      "text/plain": [
       "LogisticRegression()"
      ]
     },
     "execution_count": 43,
     "metadata": {},
     "output_type": "execute_result"
    }
   ],
   "source": [
    "#Training\n",
    "#We take all the dataset to calculate the Weight of each feature\n",
    "logReg = LogisticRegression()\n",
    "logReg.fit(blue_features_scaled,blue_target)"
   ]
  },
  {
   "cell_type": "code",
   "execution_count": 44,
   "id": "19b0873e",
   "metadata": {
    "execution": {
     "iopub.execute_input": "2022-01-12T14:11:53.136395Z",
     "iopub.status.busy": "2022-01-12T14:11:53.135194Z",
     "iopub.status.idle": "2022-01-12T14:11:53.145807Z",
     "shell.execute_reply": "2022-01-12T14:11:53.146744Z",
     "shell.execute_reply.started": "2022-01-12T14:08:42.597603Z"
    },
    "papermill": {
     "duration": 0.148706,
     "end_time": "2022-01-12T14:11:53.147063",
     "exception": false,
     "start_time": "2022-01-12T14:11:52.998357",
     "status": "completed"
    },
    "tags": []
   },
   "outputs": [
    {
     "data": {
      "text/plain": [
       "0.7120292887029289"
      ]
     },
     "execution_count": 44,
     "metadata": {},
     "output_type": "execute_result"
    }
   ],
   "source": [
    "#Accuracy\n",
    "logReg.score(blue_features_scaled,blue_target)"
   ]
  },
  {
   "cell_type": "markdown",
   "id": "714b92d1",
   "metadata": {
    "papermill": {
     "duration": 0.133687,
     "end_time": "2022-01-12T14:11:53.462376",
     "exception": false,
     "start_time": "2022-01-12T14:11:53.328689",
     "status": "completed"
    },
    "tags": []
   },
   "source": [
    "We obtain an accuracy of 71% which is relatively good."
   ]
  },
  {
   "cell_type": "markdown",
   "id": "e5b3b52b",
   "metadata": {
    "papermill": {
     "duration": 0.13103,
     "end_time": "2022-01-12T14:11:53.724317",
     "exception": false,
     "start_time": "2022-01-12T14:11:53.593287",
     "status": "completed"
    },
    "tags": []
   },
   "source": [
    "## Weights <a id=\"44\"></a>"
   ]
  },
  {
   "cell_type": "code",
   "execution_count": 45,
   "id": "ef9e5ba6",
   "metadata": {
    "execution": {
     "iopub.execute_input": "2022-01-12T14:11:53.992270Z",
     "iopub.status.busy": "2022-01-12T14:11:53.991582Z",
     "iopub.status.idle": "2022-01-12T14:11:53.995788Z",
     "shell.execute_reply": "2022-01-12T14:11:53.995257Z",
     "shell.execute_reply.started": "2022-01-12T14:08:42.611371Z"
    },
    "papermill": {
     "duration": 0.140625,
     "end_time": "2022-01-12T14:11:53.995937",
     "exception": false,
     "start_time": "2022-01-12T14:11:53.855312",
     "status": "completed"
    },
    "tags": []
   },
   "outputs": [],
   "source": [
    "blue_weights = pd.DataFrame()\n",
    "blue_weights['Features'] = blue_features.columns\n",
    "blue_weights['Weights'] = logReg.coef_.reshape(11,1)\n"
   ]
  },
  {
   "cell_type": "code",
   "execution_count": 46,
   "id": "18251b9f",
   "metadata": {
    "execution": {
     "iopub.execute_input": "2022-01-12T14:11:54.260343Z",
     "iopub.status.busy": "2022-01-12T14:11:54.259628Z",
     "iopub.status.idle": "2022-01-12T14:11:54.269171Z",
     "shell.execute_reply": "2022-01-12T14:11:54.269637Z",
     "shell.execute_reply.started": "2022-01-12T14:08:42.624532Z"
    },
    "papermill": {
     "duration": 0.143108,
     "end_time": "2022-01-12T14:11:54.269822",
     "exception": false,
     "start_time": "2022-01-12T14:11:54.126714",
     "status": "completed"
    },
    "tags": []
   },
   "outputs": [
    {
     "data": {
      "text/html": [
       "<div>\n",
       "<style scoped>\n",
       "    .dataframe tbody tr th:only-of-type {\n",
       "        vertical-align: middle;\n",
       "    }\n",
       "\n",
       "    .dataframe tbody tr th {\n",
       "        vertical-align: top;\n",
       "    }\n",
       "\n",
       "    .dataframe thead th {\n",
       "        text-align: right;\n",
       "    }\n",
       "</style>\n",
       "<table border=\"1\" class=\"dataframe\">\n",
       "  <thead>\n",
       "    <tr style=\"text-align: right;\">\n",
       "      <th></th>\n",
       "      <th>Features</th>\n",
       "      <th>Weights</th>\n",
       "    </tr>\n",
       "  </thead>\n",
       "  <tbody>\n",
       "    <tr>\n",
       "      <th>10</th>\n",
       "      <td>KA</td>\n",
       "      <td>0.667221</td>\n",
       "    </tr>\n",
       "    <tr>\n",
       "      <th>7</th>\n",
       "      <td>blueAvgLevel</td>\n",
       "      <td>0.253446</td>\n",
       "    </tr>\n",
       "    <tr>\n",
       "      <th>4</th>\n",
       "      <td>blueDragons</td>\n",
       "      <td>0.227709</td>\n",
       "    </tr>\n",
       "    <tr>\n",
       "      <th>8</th>\n",
       "      <td>blueTotalMinionsKilled</td>\n",
       "      <td>0.152652</td>\n",
       "    </tr>\n",
       "    <tr>\n",
       "      <th>9</th>\n",
       "      <td>blueTotalJungleMinionsKilled</td>\n",
       "      <td>0.138042</td>\n",
       "    </tr>\n",
       "    <tr>\n",
       "      <th>6</th>\n",
       "      <td>blueTowersDestroyed</td>\n",
       "      <td>0.119598</td>\n",
       "    </tr>\n",
       "    <tr>\n",
       "      <th>2</th>\n",
       "      <td>blueFirstBlood</td>\n",
       "      <td>0.083464</td>\n",
       "    </tr>\n",
       "    <tr>\n",
       "      <th>5</th>\n",
       "      <td>blueHeralds</td>\n",
       "      <td>0.048755</td>\n",
       "    </tr>\n",
       "    <tr>\n",
       "      <th>1</th>\n",
       "      <td>blueWardsDestroyed</td>\n",
       "      <td>0.018473</td>\n",
       "    </tr>\n",
       "    <tr>\n",
       "      <th>0</th>\n",
       "      <td>blueWardsPlaced</td>\n",
       "      <td>-0.051440</td>\n",
       "    </tr>\n",
       "    <tr>\n",
       "      <th>3</th>\n",
       "      <td>blueDeaths</td>\n",
       "      <td>-0.606725</td>\n",
       "    </tr>\n",
       "  </tbody>\n",
       "</table>\n",
       "</div>"
      ],
      "text/plain": [
       "                        Features   Weights\n",
       "10                            KA  0.667221\n",
       "7                   blueAvgLevel  0.253446\n",
       "4                    blueDragons  0.227709\n",
       "8         blueTotalMinionsKilled  0.152652\n",
       "9   blueTotalJungleMinionsKilled  0.138042\n",
       "6            blueTowersDestroyed  0.119598\n",
       "2                 blueFirstBlood  0.083464\n",
       "5                    blueHeralds  0.048755\n",
       "1             blueWardsDestroyed  0.018473\n",
       "0                blueWardsPlaced -0.051440\n",
       "3                     blueDeaths -0.606725"
      ]
     },
     "execution_count": 46,
     "metadata": {},
     "output_type": "execute_result"
    }
   ],
   "source": [
    "blue_weights.sort_values(by='Weights',ascending=False)\n"
   ]
  },
  {
   "cell_type": "markdown",
   "id": "3c38d7ed",
   "metadata": {
    "papermill": {
     "duration": 0.131274,
     "end_time": "2022-01-12T14:11:54.532243",
     "exception": false,
     "start_time": "2022-01-12T14:11:54.400969",
     "status": "completed"
    },
    "tags": []
   },
   "source": [
    "## Observations <a id=\"45\"></a>"
   ]
  },
  {
   "cell_type": "markdown",
   "id": "5361d363",
   "metadata": {
    "papermill": {
     "duration": 0.13178,
     "end_time": "2022-01-12T14:11:54.795751",
     "exception": false,
     "start_time": "2022-01-12T14:11:54.663971",
     "status": "completed"
    },
    "tags": []
   },
   "source": [
    "With this table, we are now able to identify which actions the blue player has to take to win before 10min :\n",
    "* It seems that kills and deaths are the main cause of wins and loses, which is pretty logical because of the gold and experience gaps it creates.   \n",
    "* The average level is also a good indicator if the game is won or lost. However, we have to be careful with this value because winning leads to a higher average level (kills gives a ton of experiences).\n",
    "* We can also think that valuing experience can lead to a win. For example, usualy, players have to make a choice between taking a risk leading to gaining or losing a ton of gold and experience (make a play and try to kill the enemy / roaming / invading), or they can play safe. It is therefore possible that playing safe and valuing experience by killing minions only could be a good decision to win the game later. Indeed, the game is actually more about punishing enemy mistakes than making high value plays.\n",
    "\n",
    "\n",
    "**To wrap it up**\n",
    "* It should be interested to study if the win & experience (average level) work in both ways : exp <=> wins. Indeed, we know that winning leads to high levels. However, do decisions leading to experience gain only (like farming minions for instance, and not killing enemy players) tends to increase the probability to win the game. \n",
    "* Also, getting the first drake in the game tends to increase the probability of winning, in opposite to the herald. This fact is pretty weird because in season 11/12, obtaining herald leads to destroying turrets, therefore golds for the entire team and map pressure, which is decisive for the win. This results should be investigated.\n",
    "* Finally, warding doesn't seem to have a huge weight on the winning condition before 10 min, which could be denied due to a lot of advices from game coachs. This fact should be studied too. "
   ]
  },
  {
   "cell_type": "markdown",
   "id": "3176b4b7",
   "metadata": {
    "papermill": {
     "duration": 0.134004,
     "end_time": "2022-01-12T14:11:55.060546",
     "exception": false,
     "start_time": "2022-01-12T14:11:54.926542",
     "status": "completed"
    },
    "tags": []
   },
   "source": [
    "# Deeper analysis <a id=\"5\"></a>"
   ]
  },
  {
   "cell_type": "markdown",
   "id": "6e59fb4a",
   "metadata": {
    "papermill": {
     "duration": 0.137925,
     "end_time": "2022-01-12T14:11:55.334444",
     "exception": false,
     "start_time": "2022-01-12T14:11:55.196519",
     "status": "completed"
    },
    "tags": []
   },
   "source": [
    "## Wards impact <a id='41'></a>\n",
    "We are going to check how many games are won regarding of warding (placed & destroyed)"
   ]
  },
  {
   "cell_type": "code",
   "execution_count": 47,
   "id": "9233003a",
   "metadata": {
    "execution": {
     "iopub.execute_input": "2022-01-12T14:11:55.599879Z",
     "iopub.status.busy": "2022-01-12T14:11:55.599243Z",
     "iopub.status.idle": "2022-01-12T14:11:55.602953Z",
     "shell.execute_reply": "2022-01-12T14:11:55.603504Z",
     "shell.execute_reply.started": "2022-01-12T14:08:42.645942Z"
    },
    "papermill": {
     "duration": 0.138084,
     "end_time": "2022-01-12T14:11:55.603680",
     "exception": false,
     "start_time": "2022-01-12T14:11:55.465596",
     "status": "completed"
    },
    "tags": []
   },
   "outputs": [],
   "source": [
    "#Let's take the data cleaned without outliers\n",
    "blue_data_wards = blue_no_outliers.copy()"
   ]
  },
  {
   "cell_type": "code",
   "execution_count": 48,
   "id": "6b3bc7cf",
   "metadata": {
    "execution": {
     "iopub.execute_input": "2022-01-12T14:11:55.873306Z",
     "iopub.status.busy": "2022-01-12T14:11:55.872278Z",
     "iopub.status.idle": "2022-01-12T14:11:56.117336Z",
     "shell.execute_reply": "2022-01-12T14:11:56.117799Z",
     "shell.execute_reply.started": "2022-01-12T14:08:42.654619Z"
    },
    "papermill": {
     "duration": 0.382749,
     "end_time": "2022-01-12T14:11:56.117975",
     "exception": false,
     "start_time": "2022-01-12T14:11:55.735226",
     "status": "completed"
    },
    "tags": []
   },
   "outputs": [
    {
     "data": {
      "text/plain": [
       "<matplotlib.collections.PathCollection at 0x7f34924a85d0>"
      ]
     },
     "execution_count": 48,
     "metadata": {},
     "output_type": "execute_result"
    },
    {
     "data": {
      "image/png": "[encoded data removed]",
      "text/plain": [
       "<Figure size 432x288 with 1 Axes>"
      ]
     },
     "metadata": {
      "needs_background": "light"
     },
     "output_type": "display_data"
    }
   ],
   "source": [
    "#scatter \n",
    "plt.scatter(x=blue_data_wards['blueWardsPlaced'],y=blue_data_wards['blueWins'])"
   ]
  },
  {
   "cell_type": "code",
   "execution_count": 49,
   "id": "4d573929",
   "metadata": {
    "execution": {
     "iopub.execute_input": "2022-01-12T14:11:56.391281Z",
     "iopub.status.busy": "2022-01-12T14:11:56.387015Z",
     "iopub.status.idle": "2022-01-12T14:11:57.858892Z",
     "shell.execute_reply": "2022-01-12T14:11:57.858343Z",
     "shell.execute_reply.started": "2022-01-12T14:08:42.940343Z"
    },
    "papermill": {
     "duration": 1.609677,
     "end_time": "2022-01-12T14:11:57.859060",
     "exception": false,
     "start_time": "2022-01-12T14:11:56.249383",
     "status": "completed"
    },
    "tags": []
   },
   "outputs": [
    {
     "data": {
      "text/plain": [
       "<seaborn.axisgrid.FacetGrid at 0x7f3492642110>"
      ]
     },
     "execution_count": 49,
     "metadata": {},
     "output_type": "execute_result"
    },
    {
     "data": {
      "image/png": "[encoded data removed]",
      "text/plain": [
       "<Figure size 413.75x360 with 1 Axes>"
      ]
     },
     "metadata": {
      "needs_background": "light"
     },
     "output_type": "display_data"
    }
   ],
   "source": [
    "#Warding histogram\n",
    "sns.displot(blue_data_wards,x='blueWardsPlaced',hue='blueWins')"
   ]
  },
  {
   "cell_type": "code",
   "execution_count": 50,
   "id": "89a05c6a",
   "metadata": {
    "execution": {
     "iopub.execute_input": "2022-01-12T14:11:58.137558Z",
     "iopub.status.busy": "2022-01-12T14:11:58.136800Z",
     "iopub.status.idle": "2022-01-12T14:11:58.790867Z",
     "shell.execute_reply": "2022-01-12T14:11:58.790310Z",
     "shell.execute_reply.started": "2022-01-12T14:08:44.404404Z"
    },
    "papermill": {
     "duration": 0.793318,
     "end_time": "2022-01-12T14:11:58.791017",
     "exception": false,
     "start_time": "2022-01-12T14:11:57.997699",
     "status": "completed"
    },
    "tags": []
   },
   "outputs": [
    {
     "data": {
      "text/plain": [
       "<seaborn.axisgrid.FacetGrid at 0x7f3492436b90>"
      ]
     },
     "execution_count": 50,
     "metadata": {},
     "output_type": "execute_result"
    },
    {
     "data": {
      "image/png": "[encoded data removed]",
      "text/plain": [
       "<Figure size 413.75x360 with 1 Axes>"
      ]
     },
     "metadata": {
      "needs_background": "light"
     },
     "output_type": "display_data"
    }
   ],
   "source": [
    "#Wards destroyed histogram\n",
    "sns.displot(data=blue_data_wards,x='blueWardsDestroyed',hue='blueWins')"
   ]
  },
  {
   "cell_type": "markdown",
   "id": "b40339c0",
   "metadata": {
    "papermill": {
     "duration": 0.133458,
     "end_time": "2022-01-12T14:11:59.058023",
     "exception": false,
     "start_time": "2022-01-12T14:11:58.924565",
     "status": "completed"
    },
    "tags": []
   },
   "source": [
    "Let's calculate the median"
   ]
  },
  {
   "cell_type": "code",
   "execution_count": 51,
   "id": "f1524e9d",
   "metadata": {
    "execution": {
     "iopub.execute_input": "2022-01-12T14:11:59.334487Z",
     "iopub.status.busy": "2022-01-12T14:11:59.333751Z",
     "iopub.status.idle": "2022-01-12T14:11:59.338698Z",
     "shell.execute_reply": "2022-01-12T14:11:59.338152Z",
     "shell.execute_reply.started": "2022-01-12T14:08:45.094575Z"
    },
    "papermill": {
     "duration": 0.146661,
     "end_time": "2022-01-12T14:11:59.338839",
     "exception": false,
     "start_time": "2022-01-12T14:11:59.192178",
     "status": "completed"
    },
    "tags": []
   },
   "outputs": [
    {
     "name": "stdout",
     "output_type": "stream",
     "text": [
      "The median of placed wards is 16.0\n",
      "The median of destroyed wards is 3.0\n"
     ]
    }
   ],
   "source": [
    "median_wards_placed = np.median(blue_data_wards['blueWardsPlaced'])\n",
    "median_wards_destroyed = np.median(blue_data_wards['blueWardsDestroyed'])\n",
    "print(\"The median of placed wards is {}\".format(median_wards_placed) )\n",
    "print(\"The median of destroyed wards is {}\".format(median_wards_destroyed))"
   ]
  },
  {
   "cell_type": "markdown",
   "id": "879d8d1f",
   "metadata": {
    "papermill": {
     "duration": 0.134365,
     "end_time": "2022-01-12T14:11:59.608340",
     "exception": false,
     "start_time": "2022-01-12T14:11:59.473975",
     "status": "completed"
    },
    "tags": []
   },
   "source": [
    "With medians, we consider 2 types of map control teams : bad ones and good ones"
   ]
  },
  {
   "cell_type": "code",
   "execution_count": 52,
   "id": "1d3af2b0",
   "metadata": {
    "execution": {
     "iopub.execute_input": "2022-01-12T14:11:59.885167Z",
     "iopub.status.busy": "2022-01-12T14:11:59.884490Z",
     "iopub.status.idle": "2022-01-12T14:11:59.910839Z",
     "shell.execute_reply": "2022-01-12T14:11:59.910297Z",
     "shell.execute_reply.started": "2022-01-12T14:08:45.102605Z"
    },
    "papermill": {
     "duration": 0.167625,
     "end_time": "2022-01-12T14:11:59.910993",
     "exception": false,
     "start_time": "2022-01-12T14:11:59.743368",
     "status": "completed"
    },
    "tags": []
   },
   "outputs": [],
   "source": [
    "blue_data_wards['Placed Wards'] = blue_data_wards['blueWardsPlaced'].apply(lambda x: 1 if x> median_wards_placed else 0)\n",
    "blue_data_wards['Destroyed Wards'] = blue_data_wards['blueWardsDestroyed'].apply(lambda x: 1 if x > median_wards_destroyed else 0 )"
   ]
  },
  {
   "cell_type": "code",
   "execution_count": 53,
   "id": "ff7d9620",
   "metadata": {
    "execution": {
     "iopub.execute_input": "2022-01-12T14:12:00.185268Z",
     "iopub.status.busy": "2022-01-12T14:12:00.184635Z",
     "iopub.status.idle": "2022-01-12T14:12:00.195708Z",
     "shell.execute_reply": "2022-01-12T14:12:00.195073Z",
     "shell.execute_reply.started": "2022-01-12T14:08:45.138225Z"
    },
    "papermill": {
     "duration": 0.150103,
     "end_time": "2022-01-12T14:12:00.195850",
     "exception": false,
     "start_time": "2022-01-12T14:12:00.045747",
     "status": "completed"
    },
    "tags": []
   },
   "outputs": [
    {
     "name": "stdout",
     "output_type": "stream",
     "text": [
      "1451\n",
      "3318\n"
     ]
    }
   ],
   "source": [
    "print(blue_data_wards.loc[blue_data_wards[\"Destroyed Wards\"]==1]['blueWins'].sum())\n",
    "print(blue_data_wards.loc[blue_data_wards[\"Destroyed Wards\"]==0]['blueWins'].sum())"
   ]
  },
  {
   "cell_type": "code",
   "execution_count": 54,
   "id": "47e831e1",
   "metadata": {
    "execution": {
     "iopub.execute_input": "2022-01-12T14:12:00.495308Z",
     "iopub.status.busy": "2022-01-12T14:12:00.494603Z",
     "iopub.status.idle": "2022-01-12T14:12:00.502283Z",
     "shell.execute_reply": "2022-01-12T14:12:00.502898Z",
     "shell.execute_reply.started": "2022-01-12T14:08:45.153695Z"
    },
    "papermill": {
     "duration": 0.156756,
     "end_time": "2022-01-12T14:12:00.503116",
     "exception": false,
     "start_time": "2022-01-12T14:12:00.346360",
     "status": "completed"
    },
    "tags": []
   },
   "outputs": [
    {
     "name": "stdout",
     "output_type": "stream",
     "text": [
      "% won games considering high warding team : 51.70%\n",
      "% won games considering low warding team : 48.13%\n"
     ]
    }
   ],
   "source": [
    "#% won games depending on placed wards\n",
    "blue_highWardsPlaced = blue_data_wards.loc[blue_data_wards[\"Placed Wards\"]==1][\"blueWins\"].sum() / blue_data_wards.loc[blue_data_wards[\"Placed Wards\"]==1].shape[0]\n",
    "blue_lowWardsPlaced =  blue_data_wards.loc[blue_data_wards[\"Placed Wards\"]==0][\"blueWins\"].sum() / blue_data_wards.loc[blue_data_wards[\"Placed Wards\"]==0].shape[0]\n",
    "print(\"% won games considering high warding team : {0:.02f}%\".format(blue_highWardsPlaced*100))\n",
    "print(\"% won games considering low warding team : {0:.02f}%\".format(blue_lowWardsPlaced*100)) "
   ]
  },
  {
   "cell_type": "markdown",
   "id": "e3890f0a",
   "metadata": {
    "papermill": {
     "duration": 0.136987,
     "end_time": "2022-01-12T14:12:00.775674",
     "exception": false,
     "start_time": "2022-01-12T14:12:00.638687",
     "status": "completed"
    },
    "tags": []
   },
   "source": [
    "As we can see, warding leads to a small increase in the probability to win the game."
   ]
  },
  {
   "cell_type": "code",
   "execution_count": 55,
   "id": "027354eb",
   "metadata": {
    "execution": {
     "iopub.execute_input": "2022-01-12T14:12:01.051220Z",
     "iopub.status.busy": "2022-01-12T14:12:01.050520Z",
     "iopub.status.idle": "2022-01-12T14:12:01.061223Z",
     "shell.execute_reply": "2022-01-12T14:12:01.061713Z",
     "shell.execute_reply.started": "2022-01-12T14:08:45.165905Z"
    },
    "papermill": {
     "duration": 0.151228,
     "end_time": "2022-01-12T14:12:01.061884",
     "exception": false,
     "start_time": "2022-01-12T14:12:00.910656",
     "status": "completed"
    },
    "tags": []
   },
   "outputs": [
    {
     "name": "stdout",
     "output_type": "stream",
     "text": [
      "% won games considering high wards destroying team : 53.44%\n",
      "% won games considering low wards destroying team : 48.13%\n"
     ]
    }
   ],
   "source": [
    "#%won game depending on destroyed wards\n",
    "blue_highWardsDestroyed = blue_data_wards.loc[blue_data_wards[\"Destroyed Wards\"]==1][\"blueWins\"].sum() / blue_data_wards.loc[blue_data_wards[\"Destroyed Wards\"]==1].shape[0]\n",
    "blue_lowWardsDestroyed = blue_data_wards.loc[blue_data_wards[\"Destroyed Wards\"]==0][\"blueWins\"].sum() / blue_data_wards.loc[blue_data_wards[\"Destroyed Wards\"]==0].shape[0]\n",
    "print(\"% won games considering high wards destroying team : {0:.02f}%\".format(blue_highWardsDestroyed*100))\n",
    "print(\"% won games considering low wards destroying team : {0:.02f}%\".format(blue_lowWardsPlaced*100)) "
   ]
  },
  {
   "cell_type": "markdown",
   "id": "4e093f13",
   "metadata": {
    "papermill": {
     "duration": 0.138226,
     "end_time": "2022-01-12T14:12:01.339158",
     "exception": false,
     "start_time": "2022-01-12T14:12:01.200932",
     "status": "completed"
    },
    "tags": []
   },
   "source": [
    "Destroying wards denies vision for the enemy team increasing ganks success.  \n",
    "As we can see, destroying wards increases the probability to win the game. "
   ]
  },
  {
   "cell_type": "markdown",
   "id": "dda6118d",
   "metadata": {
    "papermill": {
     "duration": 0.135006,
     "end_time": "2022-01-12T14:12:01.609624",
     "exception": false,
     "start_time": "2022-01-12T14:12:01.474618",
     "status": "completed"
    },
    "tags": []
   },
   "source": [
    "## Epic monsters <a id='52'></a>\n",
    "Drake & Herald"
   ]
  },
  {
   "cell_type": "code",
   "execution_count": 56,
   "id": "aab64610",
   "metadata": {
    "execution": {
     "iopub.execute_input": "2022-01-12T14:12:01.885654Z",
     "iopub.status.busy": "2022-01-12T14:12:01.884940Z",
     "iopub.status.idle": "2022-01-12T14:12:01.888886Z",
     "shell.execute_reply": "2022-01-12T14:12:01.889452Z",
     "shell.execute_reply.started": "2022-01-12T14:08:45.182410Z"
    },
    "papermill": {
     "duration": 0.144837,
     "end_time": "2022-01-12T14:12:01.889663",
     "exception": false,
     "start_time": "2022-01-12T14:12:01.744826",
     "status": "completed"
    },
    "tags": []
   },
   "outputs": [],
   "source": [
    "blue_data_epic_monsters = blue_no_outliers.copy()"
   ]
  },
  {
   "cell_type": "code",
   "execution_count": 57,
   "id": "d20915d2",
   "metadata": {
    "execution": {
     "iopub.execute_input": "2022-01-12T14:12:02.169305Z",
     "iopub.status.busy": "2022-01-12T14:12:02.168619Z",
     "iopub.status.idle": "2022-01-12T14:12:02.173647Z",
     "shell.execute_reply": "2022-01-12T14:12:02.174387Z",
     "shell.execute_reply.started": "2022-01-12T14:08:45.189768Z"
    },
    "papermill": {
     "duration": 0.146974,
     "end_time": "2022-01-12T14:12:02.174580",
     "exception": false,
     "start_time": "2022-01-12T14:12:02.027606",
     "status": "completed"
    },
    "tags": []
   },
   "outputs": [
    {
     "data": {
      "text/plain": [
       "Index(['blueWins', 'blueWardsPlaced', 'blueWardsDestroyed', 'blueFirstBlood',\n",
       "       'blueDeaths', 'blueDragons', 'blueHeralds', 'blueTowersDestroyed',\n",
       "       'blueAvgLevel', 'blueTotalMinionsKilled',\n",
       "       'blueTotalJungleMinionsKilled', 'KA'],\n",
       "      dtype='object')"
      ]
     },
     "execution_count": 57,
     "metadata": {},
     "output_type": "execute_result"
    }
   ],
   "source": [
    "blue_data_epic_monsters.columns"
   ]
  },
  {
   "cell_type": "code",
   "execution_count": 58,
   "id": "9f292175",
   "metadata": {
    "execution": {
     "iopub.execute_input": "2022-01-12T14:12:02.455406Z",
     "iopub.status.busy": "2022-01-12T14:12:02.452096Z",
     "iopub.status.idle": "2022-01-12T14:12:02.993926Z",
     "shell.execute_reply": "2022-01-12T14:12:02.992957Z",
     "shell.execute_reply.started": "2022-01-12T14:08:45.202446Z"
    },
    "papermill": {
     "duration": 0.682347,
     "end_time": "2022-01-12T14:12:02.994128",
     "exception": false,
     "start_time": "2022-01-12T14:12:02.311781",
     "status": "completed"
    },
    "tags": []
   },
   "outputs": [
    {
     "data": {
      "text/plain": [
       "<seaborn.axisgrid.FacetGrid at 0x7f349252d050>"
      ]
     },
     "execution_count": 58,
     "metadata": {},
     "output_type": "execute_result"
    },
    {
     "data": {
      "image/png": "[encoded data removed]",
      "text/plain": [
       "<Figure size 413.75x360 with 1 Axes>"
      ]
     },
     "metadata": {
      "needs_background": "light"
     },
     "output_type": "display_data"
    }
   ],
   "source": [
    "#Let's calculate the % of wins regarding the number of drakes and herald taken\n",
    "sns.displot(data=blue_data_epic_monsters,x='blueDragons',hue='blueWins')"
   ]
  },
  {
   "cell_type": "code",
   "execution_count": 59,
   "id": "b1d20347",
   "metadata": {
    "execution": {
     "iopub.execute_input": "2022-01-12T14:12:03.276740Z",
     "iopub.status.busy": "2022-01-12T14:12:03.275719Z",
     "iopub.status.idle": "2022-01-12T14:12:03.812946Z",
     "shell.execute_reply": "2022-01-12T14:12:03.813537Z",
     "shell.execute_reply.started": "2022-01-12T14:08:45.624131Z"
    },
    "papermill": {
     "duration": 0.680558,
     "end_time": "2022-01-12T14:12:03.813716",
     "exception": false,
     "start_time": "2022-01-12T14:12:03.133158",
     "status": "completed"
    },
    "tags": []
   },
   "outputs": [
    {
     "data": {
      "text/plain": [
       "<seaborn.axisgrid.FacetGrid at 0x7f3491e91050>"
      ]
     },
     "execution_count": 59,
     "metadata": {},
     "output_type": "execute_result"
    },
    {
     "data": {
      "image/png": "[encoded data removed]",
      "text/plain": [
       "<Figure size 413.75x360 with 1 Axes>"
      ]
     },
     "metadata": {
      "needs_background": "light"
     },
     "output_type": "display_data"
    }
   ],
   "source": [
    "sns.displot(data=blue_data_epic_monsters,x='blueHeralds',hue='blueWins')"
   ]
  },
  {
   "cell_type": "code",
   "execution_count": 60,
   "id": "0d2e0ec5",
   "metadata": {
    "execution": {
     "iopub.execute_input": "2022-01-12T14:12:04.098758Z",
     "iopub.status.busy": "2022-01-12T14:12:04.097768Z",
     "iopub.status.idle": "2022-01-12T14:12:04.113907Z",
     "shell.execute_reply": "2022-01-12T14:12:04.114441Z",
     "shell.execute_reply.started": "2022-01-12T14:08:46.046929Z"
    },
    "papermill": {
     "duration": 0.160528,
     "end_time": "2022-01-12T14:12:04.114620",
     "exception": false,
     "start_time": "2022-01-12T14:12:03.954092",
     "status": "completed"
    },
    "tags": []
   },
   "outputs": [
    {
     "name": "stdout",
     "output_type": "stream",
     "text": [
      "0.4192175478801768 0.6398145465082585 0.4769389332646225 0.5934371523915462\n"
     ]
    }
   ],
   "source": [
    "#Let's calculate the % of wins depending of epic monsters taken before 10 min\n",
    "blueDragons0 = blue_data_epic_monsters.loc[blue_data_epic_monsters['blueDragons']==0]['blueWins'].sum() / blue_data_epic_monsters.loc[blue_data_epic_monsters['blueDragons']==0].shape[0]\n",
    "blueDragons1 = blue_data_epic_monsters.loc[blue_data_epic_monsters['blueDragons']==1]['blueWins'].sum() / blue_data_epic_monsters.loc[blue_data_epic_monsters['blueDragons']==1].shape[0]\n",
    "blueHeralds0 = blue_data_epic_monsters.loc[blue_data_epic_monsters['blueHeralds']==0]['blueWins'].sum() / blue_data_epic_monsters.loc[blue_data_epic_monsters['blueHeralds']==0].shape[0]\n",
    "blueHeralds1 = blue_data_epic_monsters.loc[blue_data_epic_monsters['blueHeralds']==1]['blueWins'].sum() / blue_data_epic_monsters.loc[blue_data_epic_monsters['blueHeralds']==1].shape[0]\n",
    "\n",
    "print(blueDragons0,blueDragons1,blueHeralds0,blueHeralds1)"
   ]
  },
  {
   "cell_type": "code",
   "execution_count": 61,
   "id": "d7cc7d4b",
   "metadata": {
    "execution": {
     "iopub.execute_input": "2022-01-12T14:12:04.399070Z",
     "iopub.status.busy": "2022-01-12T14:12:04.398093Z",
     "iopub.status.idle": "2022-01-12T14:12:04.948268Z",
     "shell.execute_reply": "2022-01-12T14:12:04.948736Z",
     "shell.execute_reply.started": "2022-01-12T14:08:46.065741Z"
    },
    "papermill": {
     "duration": 0.694582,
     "end_time": "2022-01-12T14:12:04.948918",
     "exception": false,
     "start_time": "2022-01-12T14:12:04.254336",
     "status": "completed"
    },
    "tags": []
   },
   "outputs": [
    {
     "data": {
      "text/plain": [
       "<seaborn.axisgrid.FacetGrid at 0x7f3491d71f90>"
      ]
     },
     "execution_count": 61,
     "metadata": {},
     "output_type": "execute_result"
    },
    {
     "data": {
      "image/png": "[encoded data removed]",
      "text/plain": [
       "<Figure size 360x360 with 1 Axes>"
      ]
     },
     "metadata": {
      "needs_background": "light"
     },
     "output_type": "display_data"
    }
   ],
   "source": [
    "#%win depending of number of dragon taken\n",
    "sns.catplot(data=blue_data_epic_monsters,kind='bar',x='blueDragons',y='blueWins')"
   ]
  },
  {
   "cell_type": "code",
   "execution_count": 62,
   "id": "4f2ee3a6",
   "metadata": {
    "execution": {
     "iopub.execute_input": "2022-01-12T14:12:05.236808Z",
     "iopub.status.busy": "2022-01-12T14:12:05.235823Z",
     "iopub.status.idle": "2022-01-12T14:12:05.612649Z",
     "shell.execute_reply": "2022-01-12T14:12:05.613131Z",
     "shell.execute_reply.started": "2022-01-12T14:08:46.444595Z"
    },
    "papermill": {
     "duration": 0.522182,
     "end_time": "2022-01-12T14:12:05.613317",
     "exception": false,
     "start_time": "2022-01-12T14:12:05.091135",
     "status": "completed"
    },
    "tags": []
   },
   "outputs": [
    {
     "data": {
      "text/plain": [
       "<seaborn.axisgrid.FacetGrid at 0x7f3491d71150>"
      ]
     },
     "execution_count": 62,
     "metadata": {},
     "output_type": "execute_result"
    },
    {
     "data": {
      "image/png": "[encoded data removed]",
      "text/plain": [
       "<Figure size 360x360 with 1 Axes>"
      ]
     },
     "metadata": {
      "needs_background": "light"
     },
     "output_type": "display_data"
    }
   ],
   "source": [
    "#%win depending of number of herald taken\n",
    "sns.catplot(data=blue_data_epic_monsters,kind='bar',x='blueHeralds',y='blueWins')"
   ]
  },
  {
   "cell_type": "markdown",
   "id": "96c6629c",
   "metadata": {
    "papermill": {
     "duration": 0.142112,
     "end_time": "2022-01-12T14:12:05.897321",
     "exception": false,
     "start_time": "2022-01-12T14:12:05.755209",
     "status": "completed"
    },
    "tags": []
   },
   "source": [
    "What if the blue team get the drake and the herald before 10min"
   ]
  },
  {
   "cell_type": "code",
   "execution_count": 63,
   "id": "d4722621",
   "metadata": {
    "execution": {
     "iopub.execute_input": "2022-01-12T14:12:06.188677Z",
     "iopub.status.busy": "2022-01-12T14:12:06.187605Z",
     "iopub.status.idle": "2022-01-12T14:12:06.191039Z",
     "shell.execute_reply": "2022-01-12T14:12:06.191551Z",
     "shell.execute_reply.started": "2022-01-12T14:08:46.819352Z"
    },
    "papermill": {
     "duration": 0.153113,
     "end_time": "2022-01-12T14:12:06.191720",
     "exception": false,
     "start_time": "2022-01-12T14:12:06.038607",
     "status": "completed"
    },
    "tags": []
   },
   "outputs": [],
   "source": [
    "#Condition Herald=1 Dragon=1\n",
    "blueDragonHerald = blue_data_epic_monsters.loc[(blue_data_epic_monsters['blueDragons']==1) & (blue_data_epic_monsters['blueHeralds']==1),'blueWins'].sum() / blue_data_epic_monsters.loc[(blue_data_epic_monsters['blueDragons']==1) & (blue_data_epic_monsters['blueHeralds']==1),'blueWins'].shape[0]"
   ]
  },
  {
   "cell_type": "code",
   "execution_count": 64,
   "id": "701cee57",
   "metadata": {
    "execution": {
     "iopub.execute_input": "2022-01-12T14:12:06.478215Z",
     "iopub.status.busy": "2022-01-12T14:12:06.476090Z",
     "iopub.status.idle": "2022-01-12T14:12:06.480206Z",
     "shell.execute_reply": "2022-01-12T14:12:06.480714Z",
     "shell.execute_reply.started": "2022-01-12T14:08:46.827684Z"
    },
    "papermill": {
     "duration": 0.149182,
     "end_time": "2022-01-12T14:12:06.480885",
     "exception": false,
     "start_time": "2022-01-12T14:12:06.331703",
     "status": "completed"
    },
    "tags": []
   },
   "outputs": [
    {
     "name": "stdout",
     "output_type": "stream",
     "text": [
      "Getting the first drake and herald increase the % of victory to 73.4%\n"
     ]
    }
   ],
   "source": [
    "print(\"Getting the first drake and herald increase the % of victory to {0:.01f}%\".format(blueDragonHerald*100))"
   ]
  },
  {
   "cell_type": "markdown",
   "id": "5b9a706d",
   "metadata": {
    "papermill": {
     "duration": 0.141591,
     "end_time": "2022-01-12T14:12:06.765794",
     "exception": false,
     "start_time": "2022-01-12T14:12:06.624203",
     "status": "completed"
    },
    "tags": []
   },
   "source": [
    "As we can see, \n",
    "* getting the first drake leads to a 64% chance of winning\n",
    "* getting the first herald leads to a 59% chance of winning\n",
    "* getting both leads to a % of victory of 73.4%\n",
    "\n",
    "Therefore, drake should be prioritize between epic monsters.  \n",
    "To secure it, it should be good to pick champions in midlane and botlane who can get priority more constitently.  \n",
    "\n",
    "Hypothesis :\n",
    "Drake is not what creates lead, but fights around this objective lead to kills therefore huge advantages (as we can see in the weights list)\n",
    "\n",
    "\n"
   ]
  },
  {
   "cell_type": "markdown",
   "id": "f3272967",
   "metadata": {
    "papermill": {
     "duration": 0.141249,
     "end_time": "2022-01-12T14:12:07.048924",
     "exception": false,
     "start_time": "2022-01-12T14:12:06.907675",
     "status": "completed"
    },
    "tags": []
   },
   "source": [
    "## Turrets <a id='53'></a>"
   ]
  },
  {
   "cell_type": "code",
   "execution_count": 65,
   "id": "955ac40a",
   "metadata": {
    "execution": {
     "iopub.execute_input": "2022-01-12T14:12:07.339737Z",
     "iopub.status.busy": "2022-01-12T14:12:07.338031Z",
     "iopub.status.idle": "2022-01-12T14:12:07.342221Z",
     "shell.execute_reply": "2022-01-12T14:12:07.342753Z",
     "shell.execute_reply.started": "2022-01-12T14:08:46.838491Z"
    },
    "papermill": {
     "duration": 0.149664,
     "end_time": "2022-01-12T14:12:07.342933",
     "exception": false,
     "start_time": "2022-01-12T14:12:07.193269",
     "status": "completed"
    },
    "tags": []
   },
   "outputs": [],
   "source": [
    "blue_data_turrets = blue_no_outliers.copy()"
   ]
  },
  {
   "cell_type": "code",
   "execution_count": 66,
   "id": "3b0adc2f",
   "metadata": {
    "execution": {
     "iopub.execute_input": "2022-01-12T14:12:07.630597Z",
     "iopub.status.busy": "2022-01-12T14:12:07.629932Z",
     "iopub.status.idle": "2022-01-12T14:12:07.635644Z",
     "shell.execute_reply": "2022-01-12T14:12:07.636114Z",
     "shell.execute_reply.started": "2022-01-12T14:08:46.850262Z"
    },
    "papermill": {
     "duration": 0.151398,
     "end_time": "2022-01-12T14:12:07.636292",
     "exception": false,
     "start_time": "2022-01-12T14:12:07.484894",
     "status": "completed"
    },
    "tags": []
   },
   "outputs": [
    {
     "data": {
      "text/plain": [
       "Index(['blueWins', 'blueWardsPlaced', 'blueWardsDestroyed', 'blueFirstBlood',\n",
       "       'blueDeaths', 'blueDragons', 'blueHeralds', 'blueTowersDestroyed',\n",
       "       'blueAvgLevel', 'blueTotalMinionsKilled',\n",
       "       'blueTotalJungleMinionsKilled', 'KA'],\n",
       "      dtype='object')"
      ]
     },
     "execution_count": 66,
     "metadata": {},
     "output_type": "execute_result"
    }
   ],
   "source": [
    "blue_data_turrets.columns"
   ]
  },
  {
   "cell_type": "code",
   "execution_count": 67,
   "id": "3ee4059a",
   "metadata": {
    "execution": {
     "iopub.execute_input": "2022-01-12T14:12:07.934620Z",
     "iopub.status.busy": "2022-01-12T14:12:07.933855Z",
     "iopub.status.idle": "2022-01-12T14:12:08.467605Z",
     "shell.execute_reply": "2022-01-12T14:12:08.468120Z",
     "shell.execute_reply.started": "2022-01-12T14:08:46.862404Z"
    },
    "papermill": {
     "duration": 0.689322,
     "end_time": "2022-01-12T14:12:08.468293",
     "exception": false,
     "start_time": "2022-01-12T14:12:07.778971",
     "status": "completed"
    },
    "tags": []
   },
   "outputs": [
    {
     "data": {
      "text/plain": [
       "<seaborn.axisgrid.FacetGrid at 0x7f3491d917d0>"
      ]
     },
     "execution_count": 67,
     "metadata": {},
     "output_type": "execute_result"
    },
    {
     "data": {
      "image/png": "[encoded data removed]",
      "text/plain": [
       "<Figure size 413.75x360 with 1 Axes>"
      ]
     },
     "metadata": {
      "needs_background": "light"
     },
     "output_type": "display_data"
    }
   ],
   "source": [
    "#Distribution\n",
    "sns.displot(data = blue_data_turrets, x='blueTowersDestroyed',hue='blueWins')"
   ]
  },
  {
   "cell_type": "code",
   "execution_count": 68,
   "id": "fb6ec2ce",
   "metadata": {
    "execution": {
     "iopub.execute_input": "2022-01-12T14:12:08.761247Z",
     "iopub.status.busy": "2022-01-12T14:12:08.760621Z",
     "iopub.status.idle": "2022-01-12T14:12:08.766445Z",
     "shell.execute_reply": "2022-01-12T14:12:08.766917Z",
     "shell.execute_reply.started": "2022-01-12T14:08:47.393849Z"
    },
    "papermill": {
     "duration": 0.155591,
     "end_time": "2022-01-12T14:12:08.767124",
     "exception": false,
     "start_time": "2022-01-12T14:12:08.611533",
     "status": "completed"
    },
    "tags": []
   },
   "outputs": [
    {
     "data": {
      "text/plain": [
       "0    9120\n",
       "1     409\n",
       "2      24\n",
       "3       6\n",
       "4       1\n",
       "Name: blueTowersDestroyed, dtype: int64"
      ]
     },
     "execution_count": 68,
     "metadata": {},
     "output_type": "execute_result"
    }
   ],
   "source": [
    "#Unique value\n",
    "blue_data_turrets['blueTowersDestroyed'].value_counts()"
   ]
  },
  {
   "cell_type": "markdown",
   "id": "82ed1907",
   "metadata": {
    "papermill": {
     "duration": 0.144237,
     "end_time": "2022-01-12T14:12:09.055392",
     "exception": false,
     "start_time": "2022-01-12T14:12:08.911155",
     "status": "completed"
    },
    "tags": []
   },
   "source": [
    "We are going to calculate the % of victory depending of the number of destroyed towers.  \n",
    "However, it would be preferable to not take into account 4 turrets destroyed, because, it happened in only one game.  \n",
    "Also, it is important to remain cautious with the result we are going to obtain with 3 turrets destroyed, because of the low number of games where this happend"
   ]
  },
  {
   "cell_type": "code",
   "execution_count": 69,
   "id": "978d4b90",
   "metadata": {
    "execution": {
     "iopub.execute_input": "2022-01-12T14:12:09.352715Z",
     "iopub.status.busy": "2022-01-12T14:12:09.351224Z",
     "iopub.status.idle": "2022-01-12T14:12:09.358642Z",
     "shell.execute_reply": "2022-01-12T14:12:09.359100Z",
     "shell.execute_reply.started": "2022-01-12T14:08:47.410836Z"
    },
    "papermill": {
     "duration": 0.159255,
     "end_time": "2022-01-12T14:12:09.359277",
     "exception": false,
     "start_time": "2022-01-12T14:12:09.200022",
     "status": "completed"
    },
    "tags": []
   },
   "outputs": [
    {
     "name": "stdout",
     "output_type": "stream",
     "text": [
      "The probability to win with 0 turrets at 10min is 48.7%\n",
      "The probability to win with 1 turrets at 10min is 72.9%\n",
      "The probability to win with 2 turrets at 10min is 95.8%\n"
     ]
    }
   ],
   "source": [
    "#Victory %\n",
    "blue_destroyedTurretVictory0 = blue_data_turrets.loc[blue_data_turrets[\"blueTowersDestroyed\"] == 0,\"blueWins\"].sum() / blue_data_turrets.loc[blue_data_turrets[\"blueTowersDestroyed\"] == 0,\"blueWins\"].shape[0]\n",
    "blue_destroyedTurretVictory1 = blue_data_turrets.loc[blue_data_turrets[\"blueTowersDestroyed\"] == 1,\"blueWins\"].sum() / blue_data_turrets.loc[blue_data_turrets[\"blueTowersDestroyed\"] == 1,\"blueWins\"].shape[0]\n",
    "blue_destroyedTurretVictory2 = blue_data_turrets.loc[blue_data_turrets[\"blueTowersDestroyed\"] == 2,\"blueWins\"].sum() / blue_data_turrets.loc[blue_data_turrets[\"blueTowersDestroyed\"] == 2,\"blueWins\"].shape[0]\n",
    "\n",
    "print(\"The probability to win with 0 turrets at 10min is {0:.1f}%\".format(blue_destroyedTurretVictory0*100))\n",
    "print(\"The probability to win with 1 turrets at 10min is {0:.1f}%\".format(blue_destroyedTurretVictory1*100))\n",
    "print(\"The probability to win with 2 turrets at 10min is {0:.1f}%\".format(blue_destroyedTurretVictory2*100))\n"
   ]
  },
  {
   "cell_type": "markdown",
   "id": "e85afdab",
   "metadata": {
    "papermill": {
     "duration": 0.143313,
     "end_time": "2022-01-12T14:12:09.645300",
     "exception": false,
     "start_time": "2022-01-12T14:12:09.501987",
     "status": "completed"
    },
    "tags": []
   },
   "source": [
    "We notice that getting a turret at 10 min leads to the victory almost three games on four (3/4), which is very high.\n",
    "If 2 turrets are destroyed, the game is nearly already finished.  \n",
    "It is important to note that getting turret gives a lot of gold for the entire team, but also, apply pressure to the enemy team. Indeed, minions can therefore move further into the enemy lanes, which means that opponents have to collect them nearest their base, allowing blue team to gain control over the map.  \n",
    "\n",
    "It is aswell important to note that turrets gain bonus armors below 5min in the game, which means that focusing a turret at the beginning of the game to gain a clear advantage is no longer possible (this \"cheesy\" move was highly used in World Championship back in previous seasons)"
   ]
  },
  {
   "cell_type": "markdown",
   "id": "704b16ba",
   "metadata": {
    "papermill": {
     "duration": 0.144173,
     "end_time": "2022-01-12T14:12:09.932348",
     "exception": false,
     "start_time": "2022-01-12T14:12:09.788175",
     "status": "completed"
    },
    "tags": []
   },
   "source": [
    "## First blood <a id='54'></a>\n",
    "\n",
    "First blood is the first death of the game.  \n",
    "Obtaining first blood gives a small advantage of 100gold for the team which made the kill."
   ]
  },
  {
   "cell_type": "code",
   "execution_count": 70,
   "id": "adcd91bc",
   "metadata": {
    "execution": {
     "iopub.execute_input": "2022-01-12T14:12:10.227743Z",
     "iopub.status.busy": "2022-01-12T14:12:10.227005Z",
     "iopub.status.idle": "2022-01-12T14:12:10.230610Z",
     "shell.execute_reply": "2022-01-12T14:12:10.229925Z",
     "shell.execute_reply.started": "2022-01-12T14:08:47.424841Z"
    },
    "papermill": {
     "duration": 0.152825,
     "end_time": "2022-01-12T14:12:10.230755",
     "exception": false,
     "start_time": "2022-01-12T14:12:10.077930",
     "status": "completed"
    },
    "tags": []
   },
   "outputs": [],
   "source": [
    "blue_data_first_blood = blue_no_outliers.copy()"
   ]
  },
  {
   "cell_type": "code",
   "execution_count": 71,
   "id": "02212fe1",
   "metadata": {
    "execution": {
     "iopub.execute_input": "2022-01-12T14:12:10.526904Z",
     "iopub.status.busy": "2022-01-12T14:12:10.526224Z",
     "iopub.status.idle": "2022-01-12T14:12:10.530577Z",
     "shell.execute_reply": "2022-01-12T14:12:10.531102Z",
     "shell.execute_reply.started": "2022-01-12T14:08:47.431634Z"
    },
    "papermill": {
     "duration": 0.154953,
     "end_time": "2022-01-12T14:12:10.531281",
     "exception": false,
     "start_time": "2022-01-12T14:12:10.376328",
     "status": "completed"
    },
    "tags": []
   },
   "outputs": [
    {
     "name": "stdout",
     "output_type": "stream",
     "text": [
      "The probability of the blue team to win if they got First Blood is about 59.76%\n"
     ]
    }
   ],
   "source": [
    "blue_first_blood_victory = blue_data_first_blood.loc[blue_data_first_blood[\"blueFirstBlood\"]==1,\"blueWins\"].sum() / blue_data_first_blood.loc[blue_data_first_blood[\"blueFirstBlood\"]==1].shape[0]\n",
    "\n",
    "print(\"The probability of the blue team to win if they got First Blood is about {0:.02f}%\".format(blue_first_blood_victory*100))"
   ]
  },
  {
   "cell_type": "markdown",
   "id": "aeeaf05e",
   "metadata": {
    "papermill": {
     "duration": 0.14408,
     "end_time": "2022-01-12T14:12:10.819518",
     "exception": false,
     "start_time": "2022-01-12T14:12:10.675438",
     "status": "completed"
    },
    "tags": []
   },
   "source": [
    "Obtaining First Blood gives a small advantage as we said previously, but also, getting killed this early in the game has huge consequences for the player. Because of his early death, he loses a ton of experience & gold because he is not farming (killing opposite minions).   \n",
    "\n",
    "It is useful to note that levels gain at early stage is faster than later in the game. This fact makes critical the experience at early stage of the game. A first blood at the beginning can lead to a huge gap of level between the two players in the same lane."
   ]
  },
  {
   "cell_type": "markdown",
   "id": "5975b931",
   "metadata": {
    "papermill": {
     "duration": 0.146367,
     "end_time": "2022-01-12T14:12:11.112913",
     "exception": false,
     "start_time": "2022-01-12T14:12:10.966546",
     "status": "completed"
    },
    "tags": []
   },
   "source": [
    "# Red side <a id='6'></a>"
   ]
  },
  {
   "cell_type": "markdown",
   "id": "63142a29",
   "metadata": {
    "papermill": {
     "duration": 0.162992,
     "end_time": "2022-01-12T14:12:11.420289",
     "exception": false,
     "start_time": "2022-01-12T14:12:11.257297",
     "status": "completed"
    },
    "tags": []
   },
   "source": [
    "Now we have studied the blue side statistics, we are going to study red side.  \n",
    "To do so, we are going to focus on % of victory for this side by taking into account relevant features as we have done previously for the blue side :\n",
    "* First Blood\n",
    "* Turrets destroyed\n",
    "* Epic monsters\n",
    "* Warding (destroyed and placed)\n",
    "\n",
    "To do so, we have to prepare the dataset :\n",
    "* blue only (list above) + target\n",
    "* drop everything not used\n",
    "* outliers\n",
    "* % victory"
   ]
  },
  {
   "cell_type": "markdown",
   "id": "ceb826c0",
   "metadata": {
    "papermill": {
     "duration": 0.143521,
     "end_time": "2022-01-12T14:12:11.708197",
     "exception": false,
     "start_time": "2022-01-12T14:12:11.564676",
     "status": "completed"
    },
    "tags": []
   },
   "source": [
    "## Prepare the data <a id='61'></a>"
   ]
  },
  {
   "cell_type": "code",
   "execution_count": 72,
   "id": "01b2ac1c",
   "metadata": {
    "execution": {
     "iopub.execute_input": "2022-01-12T14:12:11.999459Z",
     "iopub.status.busy": "2022-01-12T14:12:11.998809Z",
     "iopub.status.idle": "2022-01-12T14:12:12.002801Z",
     "shell.execute_reply": "2022-01-12T14:12:12.003327Z",
     "shell.execute_reply.started": "2022-01-12T14:08:47.450107Z"
    },
    "papermill": {
     "duration": 0.152107,
     "end_time": "2022-01-12T14:12:12.003512",
     "exception": false,
     "start_time": "2022-01-12T14:12:11.851405",
     "status": "completed"
    },
    "tags": []
   },
   "outputs": [],
   "source": [
    "red_columns = []\n",
    "for col in raw_data.columns:\n",
    "    if 'red' in col:\n",
    "        red_columns.append(col)"
   ]
  },
  {
   "cell_type": "code",
   "execution_count": 73,
   "id": "d8db5020",
   "metadata": {
    "execution": {
     "iopub.execute_input": "2022-01-12T14:12:12.299804Z",
     "iopub.status.busy": "2022-01-12T14:12:12.299146Z",
     "iopub.status.idle": "2022-01-12T14:12:12.301815Z",
     "shell.execute_reply": "2022-01-12T14:12:12.302408Z",
     "shell.execute_reply.started": "2022-01-12T14:08:47.460857Z"
    },
    "papermill": {
     "duration": 0.153687,
     "end_time": "2022-01-12T14:12:12.302586",
     "exception": false,
     "start_time": "2022-01-12T14:12:12.148899",
     "status": "completed"
    },
    "tags": []
   },
   "outputs": [
    {
     "data": {
      "text/plain": [
       "['redWardsPlaced',\n",
       " 'redWardsDestroyed',\n",
       " 'redFirstBlood',\n",
       " 'redKills',\n",
       " 'redDeaths',\n",
       " 'redAssists',\n",
       " 'redEliteMonsters',\n",
       " 'redDragons',\n",
       " 'redHeralds',\n",
       " 'redTowersDestroyed',\n",
       " 'redTotalGold',\n",
       " 'redAvgLevel',\n",
       " 'redTotalExperience',\n",
       " 'redTotalMinionsKilled',\n",
       " 'redTotalJungleMinionsKilled',\n",
       " 'redGoldDiff',\n",
       " 'redExperienceDiff',\n",
       " 'redCSPerMin',\n",
       " 'redGoldPerMin']"
      ]
     },
     "execution_count": 73,
     "metadata": {},
     "output_type": "execute_result"
    }
   ],
   "source": [
    "red_columns"
   ]
  },
  {
   "cell_type": "code",
   "execution_count": 74,
   "id": "a3721607",
   "metadata": {
    "execution": {
     "iopub.execute_input": "2022-01-12T14:12:12.597230Z",
     "iopub.status.busy": "2022-01-12T14:12:12.596568Z",
     "iopub.status.idle": "2022-01-12T14:12:12.613303Z",
     "shell.execute_reply": "2022-01-12T14:12:12.613818Z",
     "shell.execute_reply.started": "2022-01-12T14:08:47.473880Z"
    },
    "papermill": {
     "duration": 0.166643,
     "end_time": "2022-01-12T14:12:12.613990",
     "exception": false,
     "start_time": "2022-01-12T14:12:12.447347",
     "status": "completed"
    },
    "tags": []
   },
   "outputs": [
    {
     "data": {
      "text/html": [
       "<div>\n",
       "<style scoped>\n",
       "    .dataframe tbody tr th:only-of-type {\n",
       "        vertical-align: middle;\n",
       "    }\n",
       "\n",
       "    .dataframe tbody tr th {\n",
       "        vertical-align: top;\n",
       "    }\n",
       "\n",
       "    .dataframe thead th {\n",
       "        text-align: right;\n",
       "    }\n",
       "</style>\n",
       "<table border=\"1\" class=\"dataframe\">\n",
       "  <thead>\n",
       "    <tr style=\"text-align: right;\">\n",
       "      <th></th>\n",
       "      <th>redWardsPlaced</th>\n",
       "      <th>redWardsDestroyed</th>\n",
       "      <th>redFirstBlood</th>\n",
       "      <th>redKills</th>\n",
       "      <th>redDeaths</th>\n",
       "      <th>redAssists</th>\n",
       "      <th>redEliteMonsters</th>\n",
       "      <th>redDragons</th>\n",
       "      <th>redHeralds</th>\n",
       "      <th>redTowersDestroyed</th>\n",
       "      <th>redTotalGold</th>\n",
       "      <th>redAvgLevel</th>\n",
       "      <th>redTotalExperience</th>\n",
       "      <th>redTotalMinionsKilled</th>\n",
       "      <th>redTotalJungleMinionsKilled</th>\n",
       "      <th>redGoldDiff</th>\n",
       "      <th>redExperienceDiff</th>\n",
       "      <th>redCSPerMin</th>\n",
       "      <th>redGoldPerMin</th>\n",
       "    </tr>\n",
       "  </thead>\n",
       "  <tbody>\n",
       "    <tr>\n",
       "      <th>0</th>\n",
       "      <td>15</td>\n",
       "      <td>6</td>\n",
       "      <td>0</td>\n",
       "      <td>6</td>\n",
       "      <td>9</td>\n",
       "      <td>8</td>\n",
       "      <td>0</td>\n",
       "      <td>0</td>\n",
       "      <td>0</td>\n",
       "      <td>0</td>\n",
       "      <td>16567</td>\n",
       "      <td>6.8</td>\n",
       "      <td>17047</td>\n",
       "      <td>197</td>\n",
       "      <td>55</td>\n",
       "      <td>-643</td>\n",
       "      <td>8</td>\n",
       "      <td>19.7</td>\n",
       "      <td>1656.7</td>\n",
       "    </tr>\n",
       "    <tr>\n",
       "      <th>1</th>\n",
       "      <td>12</td>\n",
       "      <td>1</td>\n",
       "      <td>1</td>\n",
       "      <td>5</td>\n",
       "      <td>5</td>\n",
       "      <td>2</td>\n",
       "      <td>2</td>\n",
       "      <td>1</td>\n",
       "      <td>1</td>\n",
       "      <td>1</td>\n",
       "      <td>17620</td>\n",
       "      <td>6.8</td>\n",
       "      <td>17438</td>\n",
       "      <td>240</td>\n",
       "      <td>52</td>\n",
       "      <td>2908</td>\n",
       "      <td>1173</td>\n",
       "      <td>24.0</td>\n",
       "      <td>1762.0</td>\n",
       "    </tr>\n",
       "    <tr>\n",
       "      <th>2</th>\n",
       "      <td>15</td>\n",
       "      <td>3</td>\n",
       "      <td>1</td>\n",
       "      <td>11</td>\n",
       "      <td>7</td>\n",
       "      <td>14</td>\n",
       "      <td>0</td>\n",
       "      <td>0</td>\n",
       "      <td>0</td>\n",
       "      <td>0</td>\n",
       "      <td>17285</td>\n",
       "      <td>6.8</td>\n",
       "      <td>17254</td>\n",
       "      <td>203</td>\n",
       "      <td>28</td>\n",
       "      <td>1172</td>\n",
       "      <td>1033</td>\n",
       "      <td>20.3</td>\n",
       "      <td>1728.5</td>\n",
       "    </tr>\n",
       "    <tr>\n",
       "      <th>3</th>\n",
       "      <td>15</td>\n",
       "      <td>2</td>\n",
       "      <td>1</td>\n",
       "      <td>5</td>\n",
       "      <td>4</td>\n",
       "      <td>10</td>\n",
       "      <td>0</td>\n",
       "      <td>0</td>\n",
       "      <td>0</td>\n",
       "      <td>0</td>\n",
       "      <td>16478</td>\n",
       "      <td>7.0</td>\n",
       "      <td>17961</td>\n",
       "      <td>235</td>\n",
       "      <td>47</td>\n",
       "      <td>1321</td>\n",
       "      <td>7</td>\n",
       "      <td>23.5</td>\n",
       "      <td>1647.8</td>\n",
       "    </tr>\n",
       "    <tr>\n",
       "      <th>4</th>\n",
       "      <td>17</td>\n",
       "      <td>2</td>\n",
       "      <td>1</td>\n",
       "      <td>6</td>\n",
       "      <td>6</td>\n",
       "      <td>7</td>\n",
       "      <td>1</td>\n",
       "      <td>1</td>\n",
       "      <td>0</td>\n",
       "      <td>0</td>\n",
       "      <td>17404</td>\n",
       "      <td>7.0</td>\n",
       "      <td>18313</td>\n",
       "      <td>225</td>\n",
       "      <td>67</td>\n",
       "      <td>1004</td>\n",
       "      <td>-230</td>\n",
       "      <td>22.5</td>\n",
       "      <td>1740.4</td>\n",
       "    </tr>\n",
       "  </tbody>\n",
       "</table>\n",
       "</div>"
      ],
      "text/plain": [
       "   redWardsPlaced  redWardsDestroyed  redFirstBlood  redKills  redDeaths  \\\n",
       "0              15                  6              0         6          9   \n",
       "1              12                  1              1         5          5   \n",
       "2              15                  3              1        11          7   \n",
       "3              15                  2              1         5          4   \n",
       "4              17                  2              1         6          6   \n",
       "\n",
       "   redAssists  redEliteMonsters  redDragons  redHeralds  redTowersDestroyed  \\\n",
       "0           8                 0           0           0                   0   \n",
       "1           2                 2           1           1                   1   \n",
       "2          14                 0           0           0                   0   \n",
       "3          10                 0           0           0                   0   \n",
       "4           7                 1           1           0                   0   \n",
       "\n",
       "   redTotalGold  redAvgLevel  redTotalExperience  redTotalMinionsKilled  \\\n",
       "0         16567          6.8               17047                    197   \n",
       "1         17620          6.8               17438                    240   \n",
       "2         17285          6.8               17254                    203   \n",
       "3         16478          7.0               17961                    235   \n",
       "4         17404          7.0               18313                    225   \n",
       "\n",
       "   redTotalJungleMinionsKilled  redGoldDiff  redExperienceDiff  redCSPerMin  \\\n",
       "0                           55         -643                  8         19.7   \n",
       "1                           52         2908               1173         24.0   \n",
       "2                           28         1172               1033         20.3   \n",
       "3                           47         1321                  7         23.5   \n",
       "4                           67         1004               -230         22.5   \n",
       "\n",
       "   redGoldPerMin  \n",
       "0         1656.7  \n",
       "1         1762.0  \n",
       "2         1728.5  \n",
       "3         1647.8  \n",
       "4         1740.4  "
      ]
     },
     "execution_count": 74,
     "metadata": {},
     "output_type": "execute_result"
    }
   ],
   "source": [
    "#Build the dataset with features and target\n",
    "data_red_side = raw_data[red_columns]\n",
    "data_red_side.head()"
   ]
  },
  {
   "cell_type": "code",
   "execution_count": 75,
   "id": "21f3f2d8",
   "metadata": {
    "execution": {
     "iopub.execute_input": "2022-01-12T14:12:12.977767Z",
     "iopub.status.busy": "2022-01-12T14:12:12.976423Z",
     "iopub.status.idle": "2022-01-12T14:12:12.983478Z",
     "shell.execute_reply": "2022-01-12T14:12:12.984330Z",
     "shell.execute_reply.started": "2022-01-12T14:08:47.501833Z"
    },
    "papermill": {
     "duration": 0.174133,
     "end_time": "2022-01-12T14:12:12.984575",
     "exception": false,
     "start_time": "2022-01-12T14:12:12.810442",
     "status": "completed"
    },
    "tags": []
   },
   "outputs": [
    {
     "name": "stderr",
     "output_type": "stream",
     "text": [
      "/opt/conda/lib/python3.7/site-packages/ipykernel_launcher.py:2: SettingWithCopyWarning: \n",
      "A value is trying to be set on a copy of a slice from a DataFrame.\n",
      "Try using .loc[row_indexer,col_indexer] = value instead\n",
      "\n",
      "See the caveats in the documentation: https://pandas.pydata.org/pandas-docs/stable/user_guide/indexing.html#returning-a-view-versus-a-copy\n",
      "  \n"
     ]
    },
    {
     "data": {
      "text/html": [
       "<div>\n",
       "<style scoped>\n",
       "    .dataframe tbody tr th:only-of-type {\n",
       "        vertical-align: middle;\n",
       "    }\n",
       "\n",
       "    .dataframe tbody tr th {\n",
       "        vertical-align: top;\n",
       "    }\n",
       "\n",
       "    .dataframe thead th {\n",
       "        text-align: right;\n",
       "    }\n",
       "</style>\n",
       "<table border=\"1\" class=\"dataframe\">\n",
       "  <thead>\n",
       "    <tr style=\"text-align: right;\">\n",
       "      <th></th>\n",
       "      <th>redWardsPlaced</th>\n",
       "      <th>redWardsDestroyed</th>\n",
       "      <th>redFirstBlood</th>\n",
       "      <th>redKills</th>\n",
       "      <th>redDeaths</th>\n",
       "      <th>redAssists</th>\n",
       "      <th>redEliteMonsters</th>\n",
       "      <th>redDragons</th>\n",
       "      <th>redHeralds</th>\n",
       "      <th>redTowersDestroyed</th>\n",
       "      <th>redTotalGold</th>\n",
       "      <th>redAvgLevel</th>\n",
       "      <th>redTotalExperience</th>\n",
       "      <th>redTotalMinionsKilled</th>\n",
       "      <th>redTotalJungleMinionsKilled</th>\n",
       "      <th>redGoldDiff</th>\n",
       "      <th>redExperienceDiff</th>\n",
       "      <th>redCSPerMin</th>\n",
       "      <th>redGoldPerMin</th>\n",
       "      <th>redWins</th>\n",
       "    </tr>\n",
       "  </thead>\n",
       "  <tbody>\n",
       "    <tr>\n",
       "      <th>0</th>\n",
       "      <td>15</td>\n",
       "      <td>6</td>\n",
       "      <td>0</td>\n",
       "      <td>6</td>\n",
       "      <td>9</td>\n",
       "      <td>8</td>\n",
       "      <td>0</td>\n",
       "      <td>0</td>\n",
       "      <td>0</td>\n",
       "      <td>0</td>\n",
       "      <td>16567</td>\n",
       "      <td>6.8</td>\n",
       "      <td>17047</td>\n",
       "      <td>197</td>\n",
       "      <td>55</td>\n",
       "      <td>-643</td>\n",
       "      <td>8</td>\n",
       "      <td>19.7</td>\n",
       "      <td>1656.7</td>\n",
       "      <td>1</td>\n",
       "    </tr>\n",
       "    <tr>\n",
       "      <th>1</th>\n",
       "      <td>12</td>\n",
       "      <td>1</td>\n",
       "      <td>1</td>\n",
       "      <td>5</td>\n",
       "      <td>5</td>\n",
       "      <td>2</td>\n",
       "      <td>2</td>\n",
       "      <td>1</td>\n",
       "      <td>1</td>\n",
       "      <td>1</td>\n",
       "      <td>17620</td>\n",
       "      <td>6.8</td>\n",
       "      <td>17438</td>\n",
       "      <td>240</td>\n",
       "      <td>52</td>\n",
       "      <td>2908</td>\n",
       "      <td>1173</td>\n",
       "      <td>24.0</td>\n",
       "      <td>1762.0</td>\n",
       "      <td>1</td>\n",
       "    </tr>\n",
       "    <tr>\n",
       "      <th>2</th>\n",
       "      <td>15</td>\n",
       "      <td>3</td>\n",
       "      <td>1</td>\n",
       "      <td>11</td>\n",
       "      <td>7</td>\n",
       "      <td>14</td>\n",
       "      <td>0</td>\n",
       "      <td>0</td>\n",
       "      <td>0</td>\n",
       "      <td>0</td>\n",
       "      <td>17285</td>\n",
       "      <td>6.8</td>\n",
       "      <td>17254</td>\n",
       "      <td>203</td>\n",
       "      <td>28</td>\n",
       "      <td>1172</td>\n",
       "      <td>1033</td>\n",
       "      <td>20.3</td>\n",
       "      <td>1728.5</td>\n",
       "      <td>1</td>\n",
       "    </tr>\n",
       "    <tr>\n",
       "      <th>3</th>\n",
       "      <td>15</td>\n",
       "      <td>2</td>\n",
       "      <td>1</td>\n",
       "      <td>5</td>\n",
       "      <td>4</td>\n",
       "      <td>10</td>\n",
       "      <td>0</td>\n",
       "      <td>0</td>\n",
       "      <td>0</td>\n",
       "      <td>0</td>\n",
       "      <td>16478</td>\n",
       "      <td>7.0</td>\n",
       "      <td>17961</td>\n",
       "      <td>235</td>\n",
       "      <td>47</td>\n",
       "      <td>1321</td>\n",
       "      <td>7</td>\n",
       "      <td>23.5</td>\n",
       "      <td>1647.8</td>\n",
       "      <td>1</td>\n",
       "    </tr>\n",
       "    <tr>\n",
       "      <th>4</th>\n",
       "      <td>17</td>\n",
       "      <td>2</td>\n",
       "      <td>1</td>\n",
       "      <td>6</td>\n",
       "      <td>6</td>\n",
       "      <td>7</td>\n",
       "      <td>1</td>\n",
       "      <td>1</td>\n",
       "      <td>0</td>\n",
       "      <td>0</td>\n",
       "      <td>17404</td>\n",
       "      <td>7.0</td>\n",
       "      <td>18313</td>\n",
       "      <td>225</td>\n",
       "      <td>67</td>\n",
       "      <td>1004</td>\n",
       "      <td>-230</td>\n",
       "      <td>22.5</td>\n",
       "      <td>1740.4</td>\n",
       "      <td>1</td>\n",
       "    </tr>\n",
       "  </tbody>\n",
       "</table>\n",
       "</div>"
      ],
      "text/plain": [
       "   redWardsPlaced  redWardsDestroyed  redFirstBlood  redKills  redDeaths  \\\n",
       "0              15                  6              0         6          9   \n",
       "1              12                  1              1         5          5   \n",
       "2              15                  3              1        11          7   \n",
       "3              15                  2              1         5          4   \n",
       "4              17                  2              1         6          6   \n",
       "\n",
       "   redAssists  redEliteMonsters  redDragons  redHeralds  redTowersDestroyed  \\\n",
       "0           8                 0           0           0                   0   \n",
       "1           2                 2           1           1                   1   \n",
       "2          14                 0           0           0                   0   \n",
       "3          10                 0           0           0                   0   \n",
       "4           7                 1           1           0                   0   \n",
       "\n",
       "   redTotalGold  redAvgLevel  redTotalExperience  redTotalMinionsKilled  \\\n",
       "0         16567          6.8               17047                    197   \n",
       "1         17620          6.8               17438                    240   \n",
       "2         17285          6.8               17254                    203   \n",
       "3         16478          7.0               17961                    235   \n",
       "4         17404          7.0               18313                    225   \n",
       "\n",
       "   redTotalJungleMinionsKilled  redGoldDiff  redExperienceDiff  redCSPerMin  \\\n",
       "0                           55         -643                  8         19.7   \n",
       "1                           52         2908               1173         24.0   \n",
       "2                           28         1172               1033         20.3   \n",
       "3                           47         1321                  7         23.5   \n",
       "4                           67         1004               -230         22.5   \n",
       "\n",
       "   redGoldPerMin  redWins  \n",
       "0         1656.7        1  \n",
       "1         1762.0        1  \n",
       "2         1728.5        1  \n",
       "3         1647.8        1  \n",
       "4         1740.4        1  "
      ]
     },
     "execution_count": 75,
     "metadata": {},
     "output_type": "execute_result"
    }
   ],
   "source": [
    "#For the target, because it is the blue side, 1 => 0 & 0 => 1\n",
    "data_red_side[\"redWins\"] = raw_data['blueWins'].map({1:0,0:1})\n",
    "data_red_side.head()"
   ]
  },
  {
   "cell_type": "code",
   "execution_count": 76,
   "id": "61a09e18",
   "metadata": {
    "execution": {
     "iopub.execute_input": "2022-01-12T14:12:13.290279Z",
     "iopub.status.busy": "2022-01-12T14:12:13.286942Z",
     "iopub.status.idle": "2022-01-12T14:12:13.302074Z",
     "shell.execute_reply": "2022-01-12T14:12:13.302659Z",
     "shell.execute_reply.started": "2022-01-12T14:08:47.529414Z"
    },
    "papermill": {
     "duration": 0.167671,
     "end_time": "2022-01-12T14:12:13.302847",
     "exception": false,
     "start_time": "2022-01-12T14:12:13.135176",
     "status": "completed"
    },
    "tags": []
   },
   "outputs": [
    {
     "data": {
      "text/html": [
       "<div>\n",
       "<style scoped>\n",
       "    .dataframe tbody tr th:only-of-type {\n",
       "        vertical-align: middle;\n",
       "    }\n",
       "\n",
       "    .dataframe tbody tr th {\n",
       "        vertical-align: top;\n",
       "    }\n",
       "\n",
       "    .dataframe thead th {\n",
       "        text-align: right;\n",
       "    }\n",
       "</style>\n",
       "<table border=\"1\" class=\"dataframe\">\n",
       "  <thead>\n",
       "    <tr style=\"text-align: right;\">\n",
       "      <th></th>\n",
       "      <th>redWardsPlaced</th>\n",
       "      <th>redWardsDestroyed</th>\n",
       "      <th>redFirstBlood</th>\n",
       "      <th>redDragons</th>\n",
       "      <th>redHeralds</th>\n",
       "      <th>redTowersDestroyed</th>\n",
       "      <th>redWins</th>\n",
       "    </tr>\n",
       "  </thead>\n",
       "  <tbody>\n",
       "    <tr>\n",
       "      <th>0</th>\n",
       "      <td>15</td>\n",
       "      <td>6</td>\n",
       "      <td>0</td>\n",
       "      <td>0</td>\n",
       "      <td>0</td>\n",
       "      <td>0</td>\n",
       "      <td>1</td>\n",
       "    </tr>\n",
       "    <tr>\n",
       "      <th>1</th>\n",
       "      <td>12</td>\n",
       "      <td>1</td>\n",
       "      <td>1</td>\n",
       "      <td>1</td>\n",
       "      <td>1</td>\n",
       "      <td>1</td>\n",
       "      <td>1</td>\n",
       "    </tr>\n",
       "    <tr>\n",
       "      <th>2</th>\n",
       "      <td>15</td>\n",
       "      <td>3</td>\n",
       "      <td>1</td>\n",
       "      <td>0</td>\n",
       "      <td>0</td>\n",
       "      <td>0</td>\n",
       "      <td>1</td>\n",
       "    </tr>\n",
       "    <tr>\n",
       "      <th>3</th>\n",
       "      <td>15</td>\n",
       "      <td>2</td>\n",
       "      <td>1</td>\n",
       "      <td>0</td>\n",
       "      <td>0</td>\n",
       "      <td>0</td>\n",
       "      <td>1</td>\n",
       "    </tr>\n",
       "    <tr>\n",
       "      <th>4</th>\n",
       "      <td>17</td>\n",
       "      <td>2</td>\n",
       "      <td>1</td>\n",
       "      <td>1</td>\n",
       "      <td>0</td>\n",
       "      <td>0</td>\n",
       "      <td>1</td>\n",
       "    </tr>\n",
       "  </tbody>\n",
       "</table>\n",
       "</div>"
      ],
      "text/plain": [
       "   redWardsPlaced  redWardsDestroyed  redFirstBlood  redDragons  redHeralds  \\\n",
       "0              15                  6              0           0           0   \n",
       "1              12                  1              1           1           1   \n",
       "2              15                  3              1           0           0   \n",
       "3              15                  2              1           0           0   \n",
       "4              17                  2              1           1           0   \n",
       "\n",
       "   redTowersDestroyed  redWins  \n",
       "0                   0        1  \n",
       "1                   1        1  \n",
       "2                   0        1  \n",
       "3                   0        1  \n",
       "4                   0        1  "
      ]
     },
     "execution_count": 76,
     "metadata": {},
     "output_type": "execute_result"
    }
   ],
   "source": [
    "#We create the dataset for the features we picked and the target\n",
    "red_features = [\"redWardsPlaced\",\"redWardsDestroyed\",\"redFirstBlood\",\"redDragons\",\"redHeralds\",'redTowersDestroyed','redWins']\n",
    "data_red_relevant_features_only = data_red_side[red_features]\n",
    "#We add the target to this new df\n",
    "# data_red_relevant_features_only[\"redWins\"] = data_red_side['redWins']\n",
    "data_red_relevant_features_only.head()"
   ]
  },
  {
   "cell_type": "code",
   "execution_count": 77,
   "id": "321e70f5",
   "metadata": {
    "execution": {
     "iopub.execute_input": "2022-01-12T14:12:13.601564Z",
     "iopub.status.busy": "2022-01-12T14:12:13.600785Z",
     "iopub.status.idle": "2022-01-12T14:12:13.605779Z",
     "shell.execute_reply": "2022-01-12T14:12:13.606574Z",
     "shell.execute_reply.started": "2022-01-12T14:08:47.547656Z"
    },
    "papermill": {
     "duration": 0.155656,
     "end_time": "2022-01-12T14:12:13.606794",
     "exception": false,
     "start_time": "2022-01-12T14:12:13.451138",
     "status": "completed"
    },
    "tags": []
   },
   "outputs": [
    {
     "data": {
      "text/plain": [
       "(9879, 7)"
      ]
     },
     "execution_count": 77,
     "metadata": {},
     "output_type": "execute_result"
    }
   ],
   "source": [
    "#Shape\n",
    "data_red_relevant_features_only.shape"
   ]
  },
  {
   "cell_type": "markdown",
   "id": "d5ede2d6",
   "metadata": {
    "papermill": {
     "duration": 0.15208,
     "end_time": "2022-01-12T14:12:13.908320",
     "exception": false,
     "start_time": "2022-01-12T14:12:13.756240",
     "status": "completed"
    },
    "tags": []
   },
   "source": [
    "## Outliers <a id='62'></a>"
   ]
  },
  {
   "cell_type": "code",
   "execution_count": 78,
   "id": "e0411f16",
   "metadata": {
    "execution": {
     "iopub.execute_input": "2022-01-12T14:12:14.213116Z",
     "iopub.status.busy": "2022-01-12T14:12:14.208915Z",
     "iopub.status.idle": "2022-01-12T14:12:14.219509Z",
     "shell.execute_reply": "2022-01-12T14:12:14.219981Z",
     "shell.execute_reply.started": "2022-01-12T14:08:47.553494Z"
    },
    "papermill": {
     "duration": 0.161742,
     "end_time": "2022-01-12T14:12:14.220197",
     "exception": false,
     "start_time": "2022-01-12T14:12:14.058455",
     "status": "completed"
    },
    "tags": []
   },
   "outputs": [
    {
     "data": {
      "text/plain": [
       "[104.0, 10.0]"
      ]
     },
     "execution_count": 78,
     "metadata": {},
     "output_type": "execute_result"
    }
   ],
   "source": [
    "#Quantiles for Warding columns\n",
    "red_quantiles = []\n",
    "for col in red_features:\n",
    "    if \"Wards\" in col:\n",
    "        red_quantiles.append(data_red_relevant_features_only[col].quantile(q=0.99))\n",
    "red_quantiles\n"
   ]
  },
  {
   "cell_type": "code",
   "execution_count": 79,
   "id": "3ece43b5",
   "metadata": {
    "execution": {
     "iopub.execute_input": "2022-01-12T14:12:14.520245Z",
     "iopub.status.busy": "2022-01-12T14:12:14.519490Z",
     "iopub.status.idle": "2022-01-12T14:12:14.524733Z",
     "shell.execute_reply": "2022-01-12T14:12:14.525201Z",
     "shell.execute_reply.started": "2022-01-12T14:08:47.570141Z"
    },
    "papermill": {
     "duration": 0.158045,
     "end_time": "2022-01-12T14:12:14.525379",
     "exception": false,
     "start_time": "2022-01-12T14:12:14.367334",
     "status": "completed"
    },
    "tags": []
   },
   "outputs": [
    {
     "name": "stdout",
     "output_type": "stream",
     "text": [
      "We removed 98 rows from the original dataset considering warding only\n"
     ]
    }
   ],
   "source": [
    "#Remove everything above quantiles\n",
    "data_red_cleaned = data_red_relevant_features_only.loc[data_red_relevant_features_only[\"redWardsPlaced\"]<=red_quantiles[0]]\n",
    "data_red_cleaned = data_red_relevant_features_only.loc[data_red_relevant_features_only['redWardsDestroyed']<=red_quantiles[1]]\n",
    "print(\"We removed {} rows from the original dataset considering warding only\".format(data_red_relevant_features_only.shape[0] - data_red_cleaned.shape[0]))"
   ]
  },
  {
   "cell_type": "code",
   "execution_count": 80,
   "id": "01ab5976",
   "metadata": {
    "execution": {
     "iopub.execute_input": "2022-01-12T14:12:14.828403Z",
     "iopub.status.busy": "2022-01-12T14:12:14.827750Z",
     "iopub.status.idle": "2022-01-12T14:12:14.835177Z",
     "shell.execute_reply": "2022-01-12T14:12:14.835644Z",
     "shell.execute_reply.started": "2022-01-12T14:08:47.579479Z"
    },
    "papermill": {
     "duration": 0.163374,
     "end_time": "2022-01-12T14:12:14.835821",
     "exception": false,
     "start_time": "2022-01-12T14:12:14.672447",
     "status": "completed"
    },
    "tags": []
   },
   "outputs": [
    {
     "data": {
      "text/html": [
       "<div>\n",
       "<style scoped>\n",
       "    .dataframe tbody tr th:only-of-type {\n",
       "        vertical-align: middle;\n",
       "    }\n",
       "\n",
       "    .dataframe tbody tr th {\n",
       "        vertical-align: top;\n",
       "    }\n",
       "\n",
       "    .dataframe thead th {\n",
       "        text-align: right;\n",
       "    }\n",
       "</style>\n",
       "<table border=\"1\" class=\"dataframe\">\n",
       "  <thead>\n",
       "    <tr style=\"text-align: right;\">\n",
       "      <th></th>\n",
       "      <th>redWardsPlaced</th>\n",
       "      <th>redWardsDestroyed</th>\n",
       "      <th>redFirstBlood</th>\n",
       "      <th>redDragons</th>\n",
       "      <th>redHeralds</th>\n",
       "      <th>redTowersDestroyed</th>\n",
       "      <th>redWins</th>\n",
       "    </tr>\n",
       "  </thead>\n",
       "  <tbody>\n",
       "    <tr>\n",
       "      <th>0</th>\n",
       "      <td>15</td>\n",
       "      <td>6</td>\n",
       "      <td>0</td>\n",
       "      <td>0</td>\n",
       "      <td>0</td>\n",
       "      <td>0</td>\n",
       "      <td>1</td>\n",
       "    </tr>\n",
       "    <tr>\n",
       "      <th>1</th>\n",
       "      <td>12</td>\n",
       "      <td>1</td>\n",
       "      <td>1</td>\n",
       "      <td>1</td>\n",
       "      <td>1</td>\n",
       "      <td>1</td>\n",
       "      <td>1</td>\n",
       "    </tr>\n",
       "    <tr>\n",
       "      <th>2</th>\n",
       "      <td>15</td>\n",
       "      <td>3</td>\n",
       "      <td>1</td>\n",
       "      <td>0</td>\n",
       "      <td>0</td>\n",
       "      <td>0</td>\n",
       "      <td>1</td>\n",
       "    </tr>\n",
       "    <tr>\n",
       "      <th>3</th>\n",
       "      <td>15</td>\n",
       "      <td>2</td>\n",
       "      <td>1</td>\n",
       "      <td>0</td>\n",
       "      <td>0</td>\n",
       "      <td>0</td>\n",
       "      <td>1</td>\n",
       "    </tr>\n",
       "    <tr>\n",
       "      <th>4</th>\n",
       "      <td>17</td>\n",
       "      <td>2</td>\n",
       "      <td>1</td>\n",
       "      <td>1</td>\n",
       "      <td>0</td>\n",
       "      <td>0</td>\n",
       "      <td>1</td>\n",
       "    </tr>\n",
       "    <tr>\n",
       "      <th>...</th>\n",
       "      <td>...</td>\n",
       "      <td>...</td>\n",
       "      <td>...</td>\n",
       "      <td>...</td>\n",
       "      <td>...</td>\n",
       "      <td>...</td>\n",
       "      <td>...</td>\n",
       "    </tr>\n",
       "    <tr>\n",
       "      <th>9873</th>\n",
       "      <td>16</td>\n",
       "      <td>6</td>\n",
       "      <td>0</td>\n",
       "      <td>0</td>\n",
       "      <td>0</td>\n",
       "      <td>0</td>\n",
       "      <td>0</td>\n",
       "    </tr>\n",
       "    <tr>\n",
       "      <th>9874</th>\n",
       "      <td>46</td>\n",
       "      <td>3</td>\n",
       "      <td>0</td>\n",
       "      <td>0</td>\n",
       "      <td>0</td>\n",
       "      <td>0</td>\n",
       "      <td>0</td>\n",
       "    </tr>\n",
       "    <tr>\n",
       "      <th>9876</th>\n",
       "      <td>14</td>\n",
       "      <td>0</td>\n",
       "      <td>1</td>\n",
       "      <td>1</td>\n",
       "      <td>0</td>\n",
       "      <td>0</td>\n",
       "      <td>1</td>\n",
       "    </tr>\n",
       "    <tr>\n",
       "      <th>9877</th>\n",
       "      <td>66</td>\n",
       "      <td>4</td>\n",
       "      <td>0</td>\n",
       "      <td>0</td>\n",
       "      <td>0</td>\n",
       "      <td>0</td>\n",
       "      <td>1</td>\n",
       "    </tr>\n",
       "    <tr>\n",
       "      <th>9878</th>\n",
       "      <td>9</td>\n",
       "      <td>2</td>\n",
       "      <td>0</td>\n",
       "      <td>1</td>\n",
       "      <td>0</td>\n",
       "      <td>0</td>\n",
       "      <td>0</td>\n",
       "    </tr>\n",
       "  </tbody>\n",
       "</table>\n",
       "<p>9781 rows × 7 columns</p>\n",
       "</div>"
      ],
      "text/plain": [
       "      redWardsPlaced  redWardsDestroyed  redFirstBlood  redDragons  \\\n",
       "0                 15                  6              0           0   \n",
       "1                 12                  1              1           1   \n",
       "2                 15                  3              1           0   \n",
       "3                 15                  2              1           0   \n",
       "4                 17                  2              1           1   \n",
       "...              ...                ...            ...         ...   \n",
       "9873              16                  6              0           0   \n",
       "9874              46                  3              0           0   \n",
       "9876              14                  0              1           1   \n",
       "9877              66                  4              0           0   \n",
       "9878               9                  2              0           1   \n",
       "\n",
       "      redHeralds  redTowersDestroyed  redWins  \n",
       "0              0                   0        1  \n",
       "1              1                   1        1  \n",
       "2              0                   0        1  \n",
       "3              0                   0        1  \n",
       "4              0                   0        1  \n",
       "...          ...                 ...      ...  \n",
       "9873           0                   0        0  \n",
       "9874           0                   0        0  \n",
       "9876           0                   0        1  \n",
       "9877           0                   0        1  \n",
       "9878           0                   0        0  \n",
       "\n",
       "[9781 rows x 7 columns]"
      ]
     },
     "execution_count": 80,
     "metadata": {},
     "output_type": "execute_result"
    }
   ],
   "source": [
    "data_red_cleaned"
   ]
  },
  {
   "cell_type": "markdown",
   "id": "343e92bd",
   "metadata": {
    "papermill": {
     "duration": 0.152163,
     "end_time": "2022-01-12T14:12:15.136506",
     "exception": false,
     "start_time": "2022-01-12T14:12:14.984343",
     "status": "completed"
    },
    "tags": []
   },
   "source": [
    "## % Victory <a id='63'></a>"
   ]
  },
  {
   "cell_type": "code",
   "execution_count": 81,
   "id": "9b00a078",
   "metadata": {
    "execution": {
     "iopub.execute_input": "2022-01-12T14:12:15.440822Z",
     "iopub.status.busy": "2022-01-12T14:12:15.440081Z",
     "iopub.status.idle": "2022-01-12T14:12:15.511872Z",
     "shell.execute_reply": "2022-01-12T14:12:15.511231Z",
     "shell.execute_reply.started": "2022-01-12T14:08:47.599802Z"
    },
    "papermill": {
     "duration": 0.222864,
     "end_time": "2022-01-12T14:12:15.512025",
     "exception": false,
     "start_time": "2022-01-12T14:12:15.289161",
     "status": "completed"
    },
    "tags": []
   },
   "outputs": [
    {
     "name": "stdout",
     "output_type": "stream",
     "text": [
      "The probability of the red team to win if they got First Blood is about 60.33%\n",
      "-----------------------------\n",
      "The probability to win with 0 turrets at 10min is 49.0%\n",
      "The probability to win with 1 turrets at 10min is 76.2%\n",
      "The probability to win with 2 turrets at 10min is 75.9%\n",
      "-----------------------------\n",
      "The probability to win with 0 drake at 10min is 41.3%\n",
      "The probability to win with 1 drake at 10min is 62.6%\n",
      "The probability to win with 0 herald at 10min is 48.0%\n",
      "The probability to win with 1 herald at 10min is 61.2%\n",
      "The probability to win with 1 drake and 1 herald at 10min is 71.2%\n",
      "-----------------------------\n",
      "The median of placed wards is 16.0\n",
      "The median of destroyed wards is 2.0\n",
      "% won games considering high warding team : 52.4%\n",
      "% won games considering low warding team : 47.9%\n",
      "% won games considering high wards destroying team : 53.7%\n",
      "% won games considering low wards destroying team : 46.9%\n"
     ]
    },
    {
     "name": "stderr",
     "output_type": "stream",
     "text": [
      "/opt/conda/lib/python3.7/site-packages/ipykernel_launcher.py:37: SettingWithCopyWarning: \n",
      "A value is trying to be set on a copy of a slice from a DataFrame.\n",
      "Try using .loc[row_indexer,col_indexer] = value instead\n",
      "\n",
      "See the caveats in the documentation: https://pandas.pydata.org/pandas-docs/stable/user_guide/indexing.html#returning-a-view-versus-a-copy\n",
      "/opt/conda/lib/python3.7/site-packages/ipykernel_launcher.py:38: SettingWithCopyWarning: \n",
      "A value is trying to be set on a copy of a slice from a DataFrame.\n",
      "Try using .loc[row_indexer,col_indexer] = value instead\n",
      "\n",
      "See the caveats in the documentation: https://pandas.pydata.org/pandas-docs/stable/user_guide/indexing.html#returning-a-view-versus-a-copy\n"
     ]
    }
   ],
   "source": [
    "#FirstBlood\n",
    "red_first_blood_victory = data_red_cleaned.loc[data_red_cleaned[\"redFirstBlood\"]==1,\"redWins\"].sum() / data_red_cleaned.loc[data_red_cleaned[\"redFirstBlood\"]==1].shape[0]\n",
    "print(\"The probability of the red team to win if they got First Blood is about {0:.02f}%\".format(red_first_blood_victory*100))\n",
    "\n",
    "print(\"-----------------------------\")\n",
    "\n",
    "#Turret destroyed\n",
    "red_DestroyedTurretVictory0 = data_red_cleaned.loc[data_red_cleaned[\"redTowersDestroyed\"] == 0,\"redWins\"].sum() / data_red_cleaned.loc[data_red_cleaned[\"redTowersDestroyed\"] == 0,\"redWins\"].shape[0]\n",
    "red_DestroyedTurretVictory1 = data_red_cleaned.loc[data_red_cleaned[\"redTowersDestroyed\"] == 1,\"redWins\"].sum() / data_red_cleaned.loc[data_red_cleaned[\"redTowersDestroyed\"] == 1,\"redWins\"].shape[0]\n",
    "red_DestroyedTurretVictory2 = data_red_cleaned.loc[data_red_cleaned[\"redTowersDestroyed\"] == 2,\"redWins\"].sum() / data_red_cleaned.loc[data_red_cleaned[\"redTowersDestroyed\"] == 2,\"redWins\"].shape[0]\n",
    "print(\"The probability to win with 0 turrets at 10min is {0:.1f}%\".format(red_DestroyedTurretVictory0*100))\n",
    "print(\"The probability to win with 1 turrets at 10min is {0:.1f}%\".format(red_DestroyedTurretVictory1*100))\n",
    "print(\"The probability to win with 2 turrets at 10min is {0:.1f}%\".format(red_DestroyedTurretVictory2*100))\n",
    "\n",
    "print(\"-----------------------------\")\n",
    "\n",
    "#Epic monsters\n",
    "red_Dragons0 = data_red_cleaned.loc[data_red_cleaned['redDragons']==0]['redWins'].sum() / data_red_cleaned.loc[data_red_cleaned['redDragons']==0].shape[0]\n",
    "red_Dragons1 = data_red_cleaned.loc[data_red_cleaned['redDragons']==1]['redWins'].sum() / data_red_cleaned.loc[data_red_cleaned['redDragons']==1].shape[0]\n",
    "red_Heralds0 = data_red_cleaned.loc[data_red_cleaned['redHeralds']==0]['redWins'].sum() / data_red_cleaned.loc[data_red_cleaned['redHeralds']==0].shape[0]\n",
    "red_Heralds1 = data_red_cleaned.loc[data_red_cleaned['redHeralds']==1]['redWins'].sum() / data_red_cleaned.loc[data_red_cleaned['redHeralds']==1].shape[0]\n",
    "red_DragonHerald = data_red_cleaned.loc[(data_red_cleaned['redDragons']==1) & (data_red_cleaned['redHeralds']==1),'redWins'].sum() / data_red_cleaned.loc[(data_red_cleaned['redDragons']==1) & (data_red_cleaned['redHeralds']==1),'redWins'].shape[0]\n",
    "print(\"The probability to win with 0 drake at 10min is {0:.01f}%\".format(red_Dragons0*100))\n",
    "print(\"The probability to win with 1 drake at 10min is {0:.01f}%\".format(red_Dragons1*100))\n",
    "print(\"The probability to win with 0 herald at 10min is {0:.01f}%\".format(red_Heralds0*100))\n",
    "print(\"The probability to win with 1 herald at 10min is {0:.01f}%\".format(red_Heralds1*100))\n",
    "print(\"The probability to win with 1 drake and 1 herald at 10min is {0:.01f}%\".format(red_DragonHerald*100))\n",
    "\n",
    "print(\"-----------------------------\")\n",
    "\n",
    "#Warding\n",
    "red_median_wards_placed = np.median(data_red_cleaned['redWardsPlaced'])\n",
    "red_median_wards_destroyed = np.median(data_red_cleaned['redWardsDestroyed'])\n",
    "print(\"The median of placed wards is {}\".format(red_median_wards_placed) )\n",
    "print(\"The median of destroyed wards is {}\".format(red_median_wards_destroyed))    \n",
    "\n",
    "data_red_cleaned['Placed Wards'] = data_red_cleaned['redWardsPlaced'].apply(lambda x: 1 if x> red_median_wards_placed else 0)\n",
    "data_red_cleaned['Destroyed Wards'] = data_red_cleaned['redWardsDestroyed'].apply(lambda x: 1 if x > red_median_wards_destroyed else 0 )\n",
    "\n",
    "red_highWardsPlaced = data_red_cleaned.loc[data_red_cleaned[\"Placed Wards\"]==1][\"redWins\"].sum() / data_red_cleaned.loc[data_red_cleaned[\"Placed Wards\"]==1].shape[0]\n",
    "red_lowWardsPlaced= data_red_cleaned.loc[data_red_cleaned[\"Placed Wards\"]==0][\"redWins\"].sum() / data_red_cleaned.loc[data_red_cleaned[\"Placed Wards\"]==0].shape[0]\n",
    "red_highWardsDestroyed =  data_red_cleaned.loc[data_red_cleaned[\"Destroyed Wards\"]==1][\"redWins\"].sum() / data_red_cleaned.loc[data_red_cleaned[\"Destroyed Wards\"]==1].shape[0]  \n",
    "red_lowWardsDestroyed = data_red_cleaned.loc[data_red_cleaned[\"Destroyed Wards\"]==0][\"redWins\"].sum() / data_red_cleaned.loc[data_red_cleaned[\"Destroyed Wards\"]==0].shape[0]\n",
    "\n",
    "#% won games depending on placed wards\n",
    "print(\"% won games considering high warding team : {0:.01f}%\".format(red_highWardsPlaced*100))\n",
    "print(\"% won games considering low warding team : {0:.01f}%\".format(red_lowWardsPlaced*100))\n",
    "#%won game depending on destroyed wards\n",
    "print(\"% won games considering high wards destroying team : {0:.01f}%\".format(red_highWardsDestroyed*100))\n",
    "print(\"% won games considering low wards destroying team : {0:.01f}%\".format(red_lowWardsDestroyed*100)) \n"
   ]
  },
  {
   "cell_type": "markdown",
   "id": "2694e1e9",
   "metadata": {
    "papermill": {
     "duration": 0.149091,
     "end_time": "2022-01-12T14:12:15.811417",
     "exception": false,
     "start_time": "2022-01-12T14:12:15.662326",
     "status": "completed"
    },
    "tags": []
   },
   "source": [
    "## Compare Red & Blue sides <a id='7'></a>\n",
    "We ensure that features are ordered the same way"
   ]
  },
  {
   "cell_type": "markdown",
   "id": "159a76eb",
   "metadata": {
    "papermill": {
     "duration": 0.150661,
     "end_time": "2022-01-12T14:12:16.112461",
     "exception": false,
     "start_time": "2022-01-12T14:12:15.961800",
     "status": "completed"
    },
    "tags": []
   },
   "source": [
    "## % Victory <a id='71'></a>"
   ]
  },
  {
   "cell_type": "code",
   "execution_count": 82,
   "id": "c7c86694",
   "metadata": {
    "execution": {
     "iopub.execute_input": "2022-01-12T14:12:16.413116Z",
     "iopub.status.busy": "2022-01-12T14:12:16.412389Z",
     "iopub.status.idle": "2022-01-12T14:12:16.419065Z",
     "shell.execute_reply": "2022-01-12T14:12:16.419584Z",
     "shell.execute_reply.started": "2022-01-12T14:08:47.674428Z"
    },
    "papermill": {
     "duration": 0.158442,
     "end_time": "2022-01-12T14:12:16.419755",
     "exception": false,
     "start_time": "2022-01-12T14:12:16.261313",
     "status": "completed"
    },
    "tags": []
   },
   "outputs": [
    {
     "data": {
      "text/plain": [
       "array([60.33057851, 49.01459465, 76.16438356, 75.86206897, 41.31078961,\n",
       "       62.58654797, 47.99270073, 61.24279308, 71.23098202, 52.35839341,\n",
       "       47.88875355, 53.71972318, 46.8683343 ])"
      ]
     },
     "execution_count": 82,
     "metadata": {},
     "output_type": "execute_result"
    }
   ],
   "source": [
    "#Red side\n",
    "#We multiply by 100 to get %\n",
    "red_victoryRate = np.array([red_first_blood_victory,\n",
    "    red_DestroyedTurretVictory0,\n",
    "    red_DestroyedTurretVictory1,\n",
    "    red_DestroyedTurretVictory2,\n",
    "    red_Dragons0,\n",
    "    red_Dragons1,\n",
    "    red_Heralds0,\n",
    "    red_Heralds1,\n",
    "    red_DragonHerald,\n",
    "    red_highWardsPlaced,\n",
    "    red_lowWardsPlaced,\n",
    "    red_highWardsDestroyed,\n",
    "    red_lowWardsDestroyed\n",
    "    ])*100  \n",
    "\n",
    "red_victoryRate"
   ]
  },
  {
   "cell_type": "code",
   "execution_count": 83,
   "id": "662ed2b7",
   "metadata": {
    "execution": {
     "iopub.execute_input": "2022-01-12T14:12:16.720941Z",
     "iopub.status.busy": "2022-01-12T14:12:16.720284Z",
     "iopub.status.idle": "2022-01-12T14:12:16.726945Z",
     "shell.execute_reply": "2022-01-12T14:12:16.727491Z",
     "shell.execute_reply.started": "2022-01-12T14:08:47.684099Z"
    },
    "papermill": {
     "duration": 0.158979,
     "end_time": "2022-01-12T14:12:16.727664",
     "exception": false,
     "start_time": "2022-01-12T14:12:16.568685",
     "status": "completed"
    },
    "tags": []
   },
   "outputs": [
    {
     "data": {
      "text/plain": [
       "array([59.7550851 , 48.69517544, 72.8606357 , 95.83333333, 41.92175479,\n",
       "       63.98145465, 47.69389333, 59.34371524, 73.36244541, 51.70140366,\n",
       "       48.12680115, 53.44383057, 48.4733382 ])"
      ]
     },
     "execution_count": 83,
     "metadata": {},
     "output_type": "execute_result"
    }
   ],
   "source": [
    "#Blue side\n",
    "#We multiply by 100 to get %\n",
    "blue_victoryRate = np.array([blue_first_blood_victory,\n",
    "    blue_destroyedTurretVictory0,\n",
    "    blue_destroyedTurretVictory1,\n",
    "    blue_destroyedTurretVictory2,\n",
    "    blueDragons0,\n",
    "    blueDragons1,\n",
    "    blueHeralds0,\n",
    "    blueHeralds1,\n",
    "    blueDragonHerald,\n",
    "    blue_highWardsPlaced,\n",
    "    blue_lowWardsPlaced,\n",
    "    blue_highWardsDestroyed,\n",
    "    blue_lowWardsDestroyed\n",
    "    ])*100\n",
    "\n",
    "blue_victoryRate"
   ]
  },
  {
   "cell_type": "code",
   "execution_count": 84,
   "id": "1fc2c612",
   "metadata": {
    "execution": {
     "iopub.execute_input": "2022-01-12T14:12:17.032150Z",
     "iopub.status.busy": "2022-01-12T14:12:17.031377Z",
     "iopub.status.idle": "2022-01-12T14:12:17.046976Z",
     "shell.execute_reply": "2022-01-12T14:12:17.046370Z",
     "shell.execute_reply.started": "2022-01-12T14:08:47.697194Z"
    },
    "papermill": {
     "duration": 0.170192,
     "end_time": "2022-01-12T14:12:17.047155",
     "exception": false,
     "start_time": "2022-01-12T14:12:16.876963",
     "status": "completed"
    },
    "tags": []
   },
   "outputs": [
    {
     "data": {
      "text/html": [
       "<div>\n",
       "<style scoped>\n",
       "    .dataframe tbody tr th:only-of-type {\n",
       "        vertical-align: middle;\n",
       "    }\n",
       "\n",
       "    .dataframe tbody tr th {\n",
       "        vertical-align: top;\n",
       "    }\n",
       "\n",
       "    .dataframe thead th {\n",
       "        text-align: right;\n",
       "    }\n",
       "</style>\n",
       "<table border=\"1\" class=\"dataframe\">\n",
       "  <thead>\n",
       "    <tr style=\"text-align: right;\">\n",
       "      <th></th>\n",
       "      <th>Blue</th>\n",
       "      <th>Red</th>\n",
       "    </tr>\n",
       "  </thead>\n",
       "  <tbody>\n",
       "    <tr>\n",
       "      <th>FirstBlood</th>\n",
       "      <td>59.8</td>\n",
       "      <td>60.3</td>\n",
       "    </tr>\n",
       "    <tr>\n",
       "      <th>0 Turret Destroyed</th>\n",
       "      <td>48.7</td>\n",
       "      <td>49.0</td>\n",
       "    </tr>\n",
       "    <tr>\n",
       "      <th>1 Turret Destroyed</th>\n",
       "      <td>72.9</td>\n",
       "      <td>76.2</td>\n",
       "    </tr>\n",
       "    <tr>\n",
       "      <th>2 Turrets Destroyed</th>\n",
       "      <td>95.8</td>\n",
       "      <td>75.9</td>\n",
       "    </tr>\n",
       "    <tr>\n",
       "      <th>0 Dragon</th>\n",
       "      <td>41.9</td>\n",
       "      <td>41.3</td>\n",
       "    </tr>\n",
       "    <tr>\n",
       "      <th>1 Dragon</th>\n",
       "      <td>64.0</td>\n",
       "      <td>62.6</td>\n",
       "    </tr>\n",
       "    <tr>\n",
       "      <th>0 Herald</th>\n",
       "      <td>47.7</td>\n",
       "      <td>48.0</td>\n",
       "    </tr>\n",
       "    <tr>\n",
       "      <th>1 Herald</th>\n",
       "      <td>59.3</td>\n",
       "      <td>61.2</td>\n",
       "    </tr>\n",
       "    <tr>\n",
       "      <th>Dragon &amp; Herald</th>\n",
       "      <td>73.4</td>\n",
       "      <td>71.2</td>\n",
       "    </tr>\n",
       "    <tr>\n",
       "      <th>High warding</th>\n",
       "      <td>51.7</td>\n",
       "      <td>52.4</td>\n",
       "    </tr>\n",
       "    <tr>\n",
       "      <th>Low warding</th>\n",
       "      <td>48.1</td>\n",
       "      <td>47.9</td>\n",
       "    </tr>\n",
       "    <tr>\n",
       "      <th>High wards destroying</th>\n",
       "      <td>53.4</td>\n",
       "      <td>53.7</td>\n",
       "    </tr>\n",
       "    <tr>\n",
       "      <th>Low wards destroying</th>\n",
       "      <td>48.5</td>\n",
       "      <td>46.9</td>\n",
       "    </tr>\n",
       "  </tbody>\n",
       "</table>\n",
       "</div>"
      ],
      "text/plain": [
       "                       Blue   Red\n",
       "FirstBlood             59.8  60.3\n",
       "0 Turret Destroyed     48.7  49.0\n",
       "1 Turret Destroyed     72.9  76.2\n",
       "2 Turrets Destroyed    95.8  75.9\n",
       "0 Dragon               41.9  41.3\n",
       "1 Dragon               64.0  62.6\n",
       "0 Herald               47.7  48.0\n",
       "1 Herald               59.3  61.2\n",
       "Dragon & Herald        73.4  71.2\n",
       "High warding           51.7  52.4\n",
       "Low warding            48.1  47.9\n",
       "High wards destroying  53.4  53.7\n",
       "Low wards destroying   48.5  46.9"
      ]
     },
     "execution_count": 84,
     "metadata": {},
     "output_type": "execute_result"
    }
   ],
   "source": [
    "#Dataframe\n",
    "index_features = ['FirstBlood','0 Turret Destroyed','1 Turret Destroyed','2 Turrets Destroyed', '0 Dragon', '1 Dragon','0 Herald', \"1 Herald\", \"Dragon & Herald\", \"High warding\", \"Low warding\", \"High wards destroying\",'Low wards destroying'] \n",
    "VictoryRate_BlueRed = pd.DataFrame(index=index_features,)\n",
    "\n",
    "VictoryRate_BlueRed[\"Blue\"] = np.round(blue_victoryRate,1)\n",
    "VictoryRate_BlueRed['Red'] = np.round(red_victoryRate,1)\n",
    "\n",
    "#Sort based on Blue Stats\n",
    "\n",
    "\n",
    "VictoryRate_BlueRed"
   ]
  },
  {
   "cell_type": "code",
   "execution_count": 85,
   "id": "2a976a42",
   "metadata": {
    "execution": {
     "iopub.execute_input": "2022-01-12T14:12:17.349433Z",
     "iopub.status.busy": "2022-01-12T14:12:17.348781Z",
     "iopub.status.idle": "2022-01-12T14:12:17.361143Z",
     "shell.execute_reply": "2022-01-12T14:12:17.360623Z",
     "shell.execute_reply.started": "2022-01-12T14:08:47.720266Z"
    },
    "papermill": {
     "duration": 0.164674,
     "end_time": "2022-01-12T14:12:17.361287",
     "exception": false,
     "start_time": "2022-01-12T14:12:17.196613",
     "status": "completed"
    },
    "tags": []
   },
   "outputs": [
    {
     "data": {
      "text/html": [
       "<div>\n",
       "<style scoped>\n",
       "    .dataframe tbody tr th:only-of-type {\n",
       "        vertical-align: middle;\n",
       "    }\n",
       "\n",
       "    .dataframe tbody tr th {\n",
       "        vertical-align: top;\n",
       "    }\n",
       "\n",
       "    .dataframe thead th {\n",
       "        text-align: right;\n",
       "    }\n",
       "</style>\n",
       "<table border=\"1\" class=\"dataframe\">\n",
       "  <thead>\n",
       "    <tr style=\"text-align: right;\">\n",
       "      <th></th>\n",
       "      <th>Blue</th>\n",
       "      <th>Red</th>\n",
       "    </tr>\n",
       "  </thead>\n",
       "  <tbody>\n",
       "    <tr>\n",
       "      <th>2 Turrets Destroyed</th>\n",
       "      <td>95.8</td>\n",
       "      <td>75.9</td>\n",
       "    </tr>\n",
       "    <tr>\n",
       "      <th>Dragon &amp; Herald</th>\n",
       "      <td>73.4</td>\n",
       "      <td>71.2</td>\n",
       "    </tr>\n",
       "    <tr>\n",
       "      <th>1 Turret Destroyed</th>\n",
       "      <td>72.9</td>\n",
       "      <td>76.2</td>\n",
       "    </tr>\n",
       "    <tr>\n",
       "      <th>1 Dragon</th>\n",
       "      <td>64.0</td>\n",
       "      <td>62.6</td>\n",
       "    </tr>\n",
       "    <tr>\n",
       "      <th>FirstBlood</th>\n",
       "      <td>59.8</td>\n",
       "      <td>60.3</td>\n",
       "    </tr>\n",
       "    <tr>\n",
       "      <th>1 Herald</th>\n",
       "      <td>59.3</td>\n",
       "      <td>61.2</td>\n",
       "    </tr>\n",
       "    <tr>\n",
       "      <th>High wards destroying</th>\n",
       "      <td>53.4</td>\n",
       "      <td>53.7</td>\n",
       "    </tr>\n",
       "    <tr>\n",
       "      <th>High warding</th>\n",
       "      <td>51.7</td>\n",
       "      <td>52.4</td>\n",
       "    </tr>\n",
       "    <tr>\n",
       "      <th>0 Turret Destroyed</th>\n",
       "      <td>48.7</td>\n",
       "      <td>49.0</td>\n",
       "    </tr>\n",
       "    <tr>\n",
       "      <th>Low wards destroying</th>\n",
       "      <td>48.5</td>\n",
       "      <td>46.9</td>\n",
       "    </tr>\n",
       "    <tr>\n",
       "      <th>Low warding</th>\n",
       "      <td>48.1</td>\n",
       "      <td>47.9</td>\n",
       "    </tr>\n",
       "    <tr>\n",
       "      <th>0 Herald</th>\n",
       "      <td>47.7</td>\n",
       "      <td>48.0</td>\n",
       "    </tr>\n",
       "    <tr>\n",
       "      <th>0 Dragon</th>\n",
       "      <td>41.9</td>\n",
       "      <td>41.3</td>\n",
       "    </tr>\n",
       "  </tbody>\n",
       "</table>\n",
       "</div>"
      ],
      "text/plain": [
       "                       Blue   Red\n",
       "2 Turrets Destroyed    95.8  75.9\n",
       "Dragon & Herald        73.4  71.2\n",
       "1 Turret Destroyed     72.9  76.2\n",
       "1 Dragon               64.0  62.6\n",
       "FirstBlood             59.8  60.3\n",
       "1 Herald               59.3  61.2\n",
       "High wards destroying  53.4  53.7\n",
       "High warding           51.7  52.4\n",
       "0 Turret Destroyed     48.7  49.0\n",
       "Low wards destroying   48.5  46.9\n",
       "Low warding            48.1  47.9\n",
       "0 Herald               47.7  48.0\n",
       "0 Dragon               41.9  41.3"
      ]
     },
     "execution_count": 85,
     "metadata": {},
     "output_type": "execute_result"
    }
   ],
   "source": [
    "VictoryRate_BlueRed.sort_values(by=\"Blue\",ascending=False)"
   ]
  },
  {
   "cell_type": "code",
   "execution_count": 86,
   "id": "8ec6c5e5",
   "metadata": {
    "execution": {
     "iopub.execute_input": "2022-01-12T14:12:17.667645Z",
     "iopub.status.busy": "2022-01-12T14:12:17.666926Z",
     "iopub.status.idle": "2022-01-12T14:12:18.210004Z",
     "shell.execute_reply": "2022-01-12T14:12:18.209298Z",
     "shell.execute_reply.started": "2022-01-12T14:10:49.062589Z"
    },
    "papermill": {
     "duration": 0.697801,
     "end_time": "2022-01-12T14:12:18.210171",
     "exception": false,
     "start_time": "2022-01-12T14:12:17.512370",
     "status": "completed"
    },
    "tags": []
   },
   "outputs": [
    {
     "data": {
      "image/png": "[encoded data removed]",
      "text/plain": [
       "<Figure size 1584x504 with 1 Axes>"
      ]
     },
     "metadata": {
      "needs_background": "light"
     },
     "output_type": "display_data"
    }
   ],
   "source": [
    "#Plot\n",
    "labels = index_features\n",
    "Blue = VictoryRate_BlueRed['Blue']\n",
    "Red = VictoryRate_BlueRed['Red']\n",
    "\n",
    "x = np.arange(len(labels))  # the label locations\n",
    "width = 0.35  # the width of the bars\n",
    "\n",
    "fig, ax = plt.subplots(figsize=(22, 7))\n",
    "rects1 = ax.bar(x - width/2, Blue, width, label='Blue')\n",
    "rects2 = ax.bar(x + width/2, Red, width, label='Red')\n",
    "\n",
    "# Add some text for labels, title and custom x-axis tick labels, etc.\n",
    "ax.set_ylabel('Win rates')\n",
    "ax.set_title('Win rates depending on the side')\n",
    "ax.set_xticks(x, labels)\n",
    "ax.legend()\n",
    "\n",
    "ax.bar_label(rects1, padding=3)\n",
    "ax.bar_label(rects2, padding=3)\n",
    "\n",
    "fig.tight_layout()\n",
    "\n",
    "plt.show()\n"
   ]
  },
  {
   "cell_type": "markdown",
   "id": "27f30cdf",
   "metadata": {
    "papermill": {
     "duration": 0.15108,
     "end_time": "2022-01-12T14:12:18.513776",
     "exception": false,
     "start_time": "2022-01-12T14:12:18.362696",
     "status": "completed"
    },
    "tags": []
   },
   "source": [
    "## Correction & Verification <a id='72'></a>"
   ]
  },
  {
   "cell_type": "markdown",
   "id": "1e0c1211",
   "metadata": {
    "papermill": {
     "duration": 0.15232,
     "end_time": "2022-01-12T14:12:18.818464",
     "exception": false,
     "start_time": "2022-01-12T14:12:18.666144",
     "status": "completed"
    },
    "tags": []
   },
   "source": [
    "### Weird difference between Blue & Red for 2 turrets destroyed\n",
    "There's a large gap for 2 turrets destroyed.  \n",
    "Let's check the difference between blue and red when 2 turrets are down."
   ]
  },
  {
   "cell_type": "code",
   "execution_count": 87,
   "id": "ade03889",
   "metadata": {
    "execution": {
     "iopub.execute_input": "2022-01-12T14:12:19.130269Z",
     "iopub.status.busy": "2022-01-12T14:12:19.129600Z",
     "iopub.status.idle": "2022-01-12T14:12:19.136452Z",
     "shell.execute_reply": "2022-01-12T14:12:19.137119Z",
     "shell.execute_reply.started": "2022-01-12T14:08:48.275319Z"
    },
    "papermill": {
     "duration": 0.16623,
     "end_time": "2022-01-12T14:12:19.137336",
     "exception": false,
     "start_time": "2022-01-12T14:12:18.971106",
     "status": "completed"
    },
    "tags": []
   },
   "outputs": [
    {
     "data": {
      "text/plain": [
       "1    22\n",
       "0     7\n",
       "Name: redWins, dtype: int64"
      ]
     },
     "execution_count": 87,
     "metadata": {},
     "output_type": "execute_result"
    }
   ],
   "source": [
    "#Let's check red turrets 2 (75.9% seems vey low)\n",
    "data_red_cleaned.loc[data_red_cleaned['redTowersDestroyed']==2,\"redWins\"].value_counts()\n"
   ]
  },
  {
   "cell_type": "code",
   "execution_count": 88,
   "id": "a271df5a",
   "metadata": {
    "execution": {
     "iopub.execute_input": "2022-01-12T14:12:19.446417Z",
     "iopub.status.busy": "2022-01-12T14:12:19.445713Z",
     "iopub.status.idle": "2022-01-12T14:12:19.452959Z",
     "shell.execute_reply": "2022-01-12T14:12:19.453587Z",
     "shell.execute_reply.started": "2022-01-12T14:08:48.285034Z"
    },
    "papermill": {
     "duration": 0.164334,
     "end_time": "2022-01-12T14:12:19.453759",
     "exception": false,
     "start_time": "2022-01-12T14:12:19.289425",
     "status": "completed"
    },
    "tags": []
   },
   "outputs": [
    {
     "data": {
      "text/plain": [
       "1    26\n",
       "0     1\n",
       "Name: blueWins, dtype: int64"
      ]
     },
     "execution_count": 88,
     "metadata": {},
     "output_type": "execute_result"
    }
   ],
   "source": [
    "blue_data_cleaned.loc[(blue_data_cleaned[ 'blueTowersDestroyed']==2) , \"blueWins\"].value_counts()"
   ]
  },
  {
   "cell_type": "code",
   "execution_count": 89,
   "id": "0e7ec80d",
   "metadata": {
    "execution": {
     "iopub.execute_input": "2022-01-12T14:12:19.768739Z",
     "iopub.status.busy": "2022-01-12T14:12:19.768031Z",
     "iopub.status.idle": "2022-01-12T14:12:19.770493Z",
     "shell.execute_reply": "2022-01-12T14:12:19.771106Z",
     "shell.execute_reply.started": "2022-01-12T14:08:48.299732Z"
    },
    "papermill": {
     "duration": 0.163054,
     "end_time": "2022-01-12T14:12:19.771278",
     "exception": false,
     "start_time": "2022-01-12T14:12:19.608224",
     "status": "completed"
    },
    "tags": []
   },
   "outputs": [
    {
     "data": {
      "text/plain": [
       "9781"
      ]
     },
     "execution_count": 89,
     "metadata": {},
     "output_type": "execute_result"
    }
   ],
   "source": [
    "data_red_cleaned.shape[0]"
   ]
  },
  {
   "cell_type": "markdown",
   "id": "3739855e",
   "metadata": {
    "papermill": {
     "duration": 0.154276,
     "end_time": "2022-01-12T14:12:20.078600",
     "exception": false,
     "start_time": "2022-01-12T14:12:19.924324",
     "status": "completed"
    },
    "tags": []
   },
   "source": [
    "We notice that they are only few games when 2 turrets are down (only 29 for redside & 27 for blue side on 9781) for both sides.  \n",
    "Therefore, it would be better to not take into account 2 turrets down in the game."
   ]
  },
  {
   "cell_type": "code",
   "execution_count": 90,
   "id": "b562d7bd",
   "metadata": {
    "execution": {
     "iopub.execute_input": "2022-01-12T14:12:20.387650Z",
     "iopub.status.busy": "2022-01-12T14:12:20.386897Z",
     "iopub.status.idle": "2022-01-12T14:12:20.391770Z",
     "shell.execute_reply": "2022-01-12T14:12:20.392284Z",
     "shell.execute_reply.started": "2022-01-12T14:08:48.308489Z"
    },
    "papermill": {
     "duration": 0.160542,
     "end_time": "2022-01-12T14:12:20.392463",
     "exception": false,
     "start_time": "2022-01-12T14:12:20.231921",
     "status": "completed"
    },
    "tags": []
   },
   "outputs": [],
   "source": [
    "#Let's drop 2 turrets destroyed\n",
    "VictoryRate_BlueRed = VictoryRate_BlueRed.drop(labels=['2 Turrets Destroyed'],axis=0)\n",
    "index_features.remove('2 Turrets Destroyed')"
   ]
  },
  {
   "cell_type": "code",
   "execution_count": 91,
   "id": "d819d257",
   "metadata": {
    "execution": {
     "iopub.execute_input": "2022-01-12T14:12:20.704539Z",
     "iopub.status.busy": "2022-01-12T14:12:20.703838Z",
     "iopub.status.idle": "2022-01-12T14:12:21.244994Z",
     "shell.execute_reply": "2022-01-12T14:12:21.244309Z",
     "shell.execute_reply.started": "2022-01-12T14:08:48.321446Z"
    },
    "papermill": {
     "duration": 0.697307,
     "end_time": "2022-01-12T14:12:21.245162",
     "exception": false,
     "start_time": "2022-01-12T14:12:20.547855",
     "status": "completed"
    },
    "tags": []
   },
   "outputs": [
    {
     "data": {
      "image/png": "[encoded data removed]",
      "text/plain": [
       "<Figure size 1584x504 with 1 Axes>"
      ]
     },
     "metadata": {
      "needs_background": "light"
     },
     "output_type": "display_data"
    }
   ],
   "source": [
    "#Plot\n",
    "labels = index_features\n",
    "Blue = VictoryRate_BlueRed['Blue']\n",
    "Red = VictoryRate_BlueRed['Red']\n",
    "\n",
    "x = np.arange(len(labels))  # the label locations\n",
    "width = 0.35  # the width of the bars\n",
    "\n",
    "fig, ax = plt.subplots(figsize=(22, 7))\n",
    "rects1 = ax.bar(x - width/2, Blue, width, label='Blue')\n",
    "rects2 = ax.bar(x + width/2, Red, width, label='Red')\n",
    "\n",
    "# Add some text for labels, title and custom x-axis tick labels, etc.\n",
    "ax.set_ylabel('Win rates')\n",
    "ax.set_title('Win rates depending on the side')\n",
    "ax.set_xticks(x, labels)\n",
    "ax.legend()\n",
    "\n",
    "ax.bar_label(rects1, padding=3)\n",
    "ax.bar_label(rects2, padding=3)\n",
    "\n",
    "fig.tight_layout()\n",
    "\n",
    "plt.show()\n"
   ]
  },
  {
   "cell_type": "markdown",
   "id": "fe3549f3",
   "metadata": {
    "papermill": {
     "duration": 0.155235,
     "end_time": "2022-01-12T14:12:21.558890",
     "exception": false,
     "start_time": "2022-01-12T14:12:21.403655",
     "status": "completed"
    },
    "tags": []
   },
   "source": [
    "### Let's check Dragon & Herald taken to see if they 're enough data to consider this win rate"
   ]
  },
  {
   "cell_type": "code",
   "execution_count": 92,
   "id": "c6176725",
   "metadata": {
    "execution": {
     "iopub.execute_input": "2022-01-12T14:12:21.957467Z",
     "iopub.status.busy": "2022-01-12T14:12:21.956409Z",
     "iopub.status.idle": "2022-01-12T14:12:21.965119Z",
     "shell.execute_reply": "2022-01-12T14:12:21.965891Z",
     "shell.execute_reply.started": "2022-01-12T14:08:48.860517Z"
    },
    "papermill": {
     "duration": 0.221847,
     "end_time": "2022-01-12T14:12:21.966145",
     "exception": false,
     "start_time": "2022-01-12T14:12:21.744298",
     "status": "completed"
    },
    "tags": []
   },
   "outputs": [
    {
     "data": {
      "text/plain": [
       "1    515\n",
       "0    208\n",
       "Name: redWins, dtype: int64"
      ]
     },
     "execution_count": 92,
     "metadata": {},
     "output_type": "execute_result"
    }
   ],
   "source": [
    "data_red_cleaned.loc[(data_red_cleaned[\"redDragons\"]==1) & (data_red_cleaned['redHeralds']==1),\"redWins\"].value_counts()"
   ]
  },
  {
   "cell_type": "markdown",
   "id": "768ca313",
   "metadata": {
    "papermill": {
     "duration": 0.175546,
     "end_time": "2022-01-12T14:12:22.330626",
     "exception": false,
     "start_time": "2022-01-12T14:12:22.155080",
     "status": "completed"
    },
    "tags": []
   },
   "source": [
    "It's ok !"
   ]
  },
  {
   "cell_type": "markdown",
   "id": "c88e27ee",
   "metadata": {
    "papermill": {
     "duration": 0.162354,
     "end_time": "2022-01-12T14:12:22.668345",
     "exception": false,
     "start_time": "2022-01-12T14:12:22.505991",
     "status": "completed"
    },
    "tags": []
   },
   "source": [
    "## Analyse <a id='73'></a>\n"
   ]
  },
  {
   "cell_type": "markdown",
   "id": "ef5970b0",
   "metadata": {
    "papermill": {
     "duration": 0.155906,
     "end_time": "2022-01-12T14:12:22.978414",
     "exception": false,
     "start_time": "2022-01-12T14:12:22.822508",
     "status": "completed"
    },
    "tags": []
   },
   "source": [
    "It seems that in general, getting epic monsters is the key for a fast victory, as well as First blood.\n",
    "\n",
    "### Epic Monsters\n",
    "* Getting epic monsters often leads to teamfight in the river to get it. Lanes around the objective (Top & Mid for Herald / Bot & Mid for Drake) gather to not let the enemy obtaining this objective. These fights generally lead to a side winning over the other side, causing deaths for the losing team. Therefore, as we explained previously, losing team gets a delay in xp & gold because of opponent minions getting killed by their own towers and minions. \n",
    "* Furthermore, winning or losing a teamfight at these objectives (herald & drake) is generally highly dependent on who moves first ! Champions on lanes can only move first if they have pushed the lane, which means killing all opposite minions and guiding their own under the enemy tower to get killed. In this way, they diminish the loss of xp & gold because the wave will \"bounce back\". If they don't push before moving, they could lose a ton of xp & gold, especially if they lose the teamfight.  \n",
    "* To conclude, picking champions who can push fast at early level (control mages generally) and thus controlling the lane (counter pick for instance) should be a good way to obtain lead before 10min safely. Broadly speaking, controling the wave (with any champ) should be the priority to increase the probability to win the game !\n",
    "\n",
    "### First blood\n",
    "* Getting the first kill of the game gives a huge advantage, by denying the opponent xp, gold, and giving 100 more gold for the killer.\n",
    "* Because xp is more important at the beginning of the game, killing the opponent early means taking a huge advantage, which will remain during the game.\n",
    "* It is important to notice that getting the kill could be dangerous, because it involves taking risks (losing the fight or being ganked at the same time). Compared to farming only and obtaining lane control, this decision is way more risky, and could easily cause a lose.\n"
   ]
  },
  {
   "cell_type": "markdown",
   "id": "8a407fa6",
   "metadata": {
    "papermill": {
     "duration": 0.156349,
     "end_time": "2022-01-12T14:12:23.291126",
     "exception": false,
     "start_time": "2022-01-12T14:12:23.134777",
     "status": "completed"
    },
    "tags": []
   },
   "source": [
    "# General conclusions <a id='8'></a>"
   ]
  },
  {
   "cell_type": "markdown",
   "id": "9ab47402",
   "metadata": {
    "papermill": {
     "duration": 0.153652,
     "end_time": "2022-01-12T14:12:23.599723",
     "exception": false,
     "start_time": "2022-01-12T14:12:23.446071",
     "status": "completed"
    },
    "tags": []
   },
   "source": [
    "We have decided to treat the following problem : which decisions team have to make before 10 min to increase their probability to win the game ?\n",
    "We have analysed statistics from about 9000 games considering : gold, xp, epic monsters, turrets destruction, ward control, first blood, ...\n",
    "From this study we can conclude with these points : "
   ]
  },
  {
   "cell_type": "markdown",
   "id": "c081337e",
   "metadata": {
    "papermill": {
     "duration": 0.154747,
     "end_time": "2022-01-12T14:12:23.910265",
     "exception": false,
     "start_time": "2022-01-12T14:12:23.755518",
     "status": "completed"
    },
    "tags": []
   },
   "source": [
    "### Gold & Experience\n",
    "Gold, Experience & Kill/Assits are highly correlated with the win of the team which gets more.  \n",
    "The more gold a team has, the more items they can buy, increasing significantly their stats.  \n",
    "Levels, obtained with experience, attribute also a lot of stats for each champion. The higher the level, the stronger the champion is.\n",
    "\n",
    "However, for our study, we are far more interested by which decision we have to take before 10min to increase the probability to win at the end of the game."
   ]
  },
  {
   "cell_type": "markdown",
   "id": "cfe286e7",
   "metadata": {
    "papermill": {
     "duration": 0.156485,
     "end_time": "2022-01-12T14:12:24.227367",
     "exception": false,
     "start_time": "2022-01-12T14:12:24.070882",
     "status": "completed"
    },
    "tags": []
   },
   "source": [
    "### Epic monsters"
   ]
  },
  {
   "cell_type": "markdown",
   "id": "e59a0354",
   "metadata": {
    "papermill": {
     "duration": 0.153568,
     "end_time": "2022-01-12T14:12:24.535112",
     "exception": false,
     "start_time": "2022-01-12T14:12:24.381544",
     "status": "completed"
    },
    "tags": []
   },
   "source": [
    "It appears that getting a drake or herald or both could tend the game to the win of the team which got it (them). We have to note that killing these monsters doesn't provide a significant amount of gold & experience by themselves. \n",
    "\n",
    "However Drakes give stats bonus for the team which got it (damage,movement speed,...) which are useful for future teamfights. Killing Herald gives the possibility to activate it near a tower and do severe damage to it, which can lead to tower destruction (as we can see in the table of correlations between herald and tower destruction). \n",
    "\n",
    "Furthermore, getting this objectives means fight for them. The result of this fight has a huge impact on the game, because the team who lost it loses also xp and gold due to the fact that minions, which gives this ressources, die to their own turrets/minions. \n",
    "\n",
    "In a nutshell, getting first drake or herald leads to a huge advantage, especially when a teamfight is won, which increases while the game is evolving (more gold & experience => more kills and objectives => more gold & experience).  \n",
    "\n",
    "Which decision the team can make to get this epic monsters ? \n",
    "\n",
    "=> Obtaining these objectives generally means winning the teamfight for it in the river. Getting the priority in lane (push first to oblige the enemy laner to stay in lane and collect the farm under turret while it is killing them, denying gold) should be the correct way to ensure to win the teamfight. Arriving first means unbalanced teamfight. One way to ensure priority is to pick a counter of the enemy champion during the draft to gain control of the lane. An other way could be to ask the jungler to come help to push the lane before starting the epic monster. If the enemy team choose to follow anw, they could be suprised by the enemy team in the fog of war, and losing xp & gold because the lane is pushing against them, losing minions under the tower. \n",
    "\n"
   ]
  },
  {
   "cell_type": "markdown",
   "id": "5500eb67",
   "metadata": {
    "papermill": {
     "duration": 0.153799,
     "end_time": "2022-01-12T14:12:24.843304",
     "exception": false,
     "start_time": "2022-01-12T14:12:24.689505",
     "status": "completed"
    },
    "tags": []
   },
   "source": [
    "### First turret destroyed"
   ]
  },
  {
   "cell_type": "markdown",
   "id": "b4e12e26",
   "metadata": {
    "papermill": {
     "duration": 0.156103,
     "end_time": "2022-01-12T14:12:25.153295",
     "exception": false,
     "start_time": "2022-01-12T14:12:24.997192",
     "status": "completed"
    },
    "tags": []
   },
   "source": [
    "Destroying the first turret in the game increases significantly the probability to win.  \n",
    "The reason is well-known :  \n",
    "\n",
    "Turrets kill minions on lanes when they come closer, bouncing back the wave (because there are less minions on one side, the minions on the opposite side can kill them easily and move forward on the lane).  \n",
    "Because champions/players have to collect gold & xp from minions deaths, they have to be there before turrets kill them, letting opponents doing moves on the map (warding, roaming, etc...)  \n",
    "If the first turret on a lane is down, the team which lost it has to collect minions closer to their base, allowing opponents to have control on the map (vision with wards, ambushs,...).  \n",
    "It is then relatively hard for the team to come back because they have to push the wave all the way to the opposite turret, becoming easy targets for the enemy team.  \n",
    "\n",
    "Furthermore, turrets give a lot of gold during its destruction and when it is destroyed. \n",
    "\n",
    "We have to note that riot decides to equip turrets with a specific protection before 5min in the game, to avoid some early strategies consisting in gathering nearly the all team to destroy one turret and acquiring a huge early lead.\n",
    "\n",
    "How player can use this information to win more games of League of Legends ?\n",
    "\n",
    "As a laner, they should focus prioritarly on the lane by farming and hitting the opponent's turret. We saw that getting the first drake or herald gives a huge lead for the team which got it. However, this kind of plays are like coin flips. Indeed, teamfights are highly random when there is no communication between players A team could win or lose a huge advantage in the game with these risky choices. \n",
    "A safer and more consistent play should be to avoid these kind of fights this early in the game (even later) and to take advantage of the opponent missing to collect more farm/minions and destroying turrets.\n",
    "\n"
   ]
  },
  {
   "cell_type": "markdown",
   "id": "03ed5dff",
   "metadata": {
    "papermill": {
     "duration": 0.153393,
     "end_time": "2022-01-12T14:12:25.464386",
     "exception": false,
     "start_time": "2022-01-12T14:12:25.310993",
     "status": "completed"
    },
    "tags": []
   },
   "source": [
    "### Warding"
   ]
  },
  {
   "cell_type": "markdown",
   "id": "b18f9798",
   "metadata": {
    "papermill": {
     "duration": 0.153263,
     "end_time": "2022-01-12T14:12:25.770915",
     "exception": false,
     "start_time": "2022-01-12T14:12:25.617652",
     "status": "completed"
    },
    "tags": []
   },
   "source": [
    "It appears that warding or destroying opponent wards before 10 min is not very relevant. However, vision is crucial in League of Legends games, but we could say that at 10min, fighting for vision doesn't lead significantly to more wins."
   ]
  },
  {
   "cell_type": "markdown",
   "id": "114255bc",
   "metadata": {
    "papermill": {
     "duration": 0.158387,
     "end_time": "2022-01-12T14:12:26.082400",
     "exception": false,
     "start_time": "2022-01-12T14:12:25.924013",
     "status": "completed"
    },
    "tags": []
   },
   "source": [
    "### Precautions\n",
    "\n",
    "Games are highly random in League of Legends. No game is identical to the previous one, even if the map remains the same. It is like chess.  \n",
    "Informations we got with this analyse are not universal because of many factors (afk, players psychology, etc...) and could be not true in certain situations.  \n",
    "However, this analyse provides good trends of how to win games before 10min and should be used in accordance with the situation in the game and player's decisions."
   ]
  },
  {
   "cell_type": "markdown",
   "id": "70e1c896",
   "metadata": {
    "papermill": {
     "duration": 0.15291,
     "end_time": "2022-01-12T14:12:26.392039",
     "exception": false,
     "start_time": "2022-01-12T14:12:26.239129",
     "status": "completed"
    },
    "tags": []
   },
   "source": [
    "# Personal note <a id='9'></a>"
   ]
  },
  {
   "cell_type": "markdown",
   "id": "90d3d0b4",
   "metadata": {
    "papermill": {
     "duration": 0.153334,
     "end_time": "2022-01-12T14:12:26.698805",
     "exception": false,
     "start_time": "2022-01-12T14:12:26.545471",
     "status": "completed"
    },
    "tags": []
   },
   "source": [
    "This project was my first one as a Data Scientist, and I appreciated to do it.  \n",
    "I have played for nearly 10 years at League of Legends, thus this project fitted me well.  \n",
    "I learned that having some background in the field I am interested in is mandatory to be a good data scientist.  \n",
    "I learned also to organize EDA better and I am sure it will serve me well in the near future.  \n",
    "Thank you for the reading.  \n",
    "Jérémy"
   ]
  },
  {
   "cell_type": "markdown",
   "id": "f4f63c44",
   "metadata": {
    "papermill": {
     "duration": 0.153237,
     "end_time": "2022-01-12T14:12:27.006072",
     "exception": false,
     "start_time": "2022-01-12T14:12:26.852835",
     "status": "completed"
    },
    "tags": []
   },
   "source": [
    "# Aknowledgement <a id='10'></a>"
   ]
  },
  {
   "cell_type": "markdown",
   "id": "237ff8a3",
   "metadata": {
    "papermill": {
     "duration": 0.153264,
     "end_time": "2022-01-12T14:12:27.315136",
     "exception": false,
     "start_time": "2022-01-12T14:12:27.161872",
     "status": "completed"
    },
    "tags": []
   },
   "source": [
    "I would like to aknowledge the following works where I get inspiration & speed up my project :\n",
    "* DR.PENGUIN - https://www.kaggle.com/xiyuewang/lol-how-to-win\n",
    "* MEHDI GASMI - https://www.kaggle.com/servietsky/league-of-legends-what-to-do-in-first-10-min\n",
    "\n",
    "I"
   ]
  }
 ],
 "metadata": {
  "kernelspec": {
   "display_name": "Python 3",
   "language": "python",
   "name": "python3"
  },
  "language_info": {
   "codemirror_mode": {
    "name": "ipython",
    "version": 3
   },
   "file_extension": ".py",
   "mimetype": "text/x-python",
   "name": "python",
   "nbconvert_exporter": "python",
   "pygments_lexer": "ipython3",
   "version": "3.7.12"
  },
  "papermill": {
   "default_parameters": {},
   "duration": 71.73359,
   "end_time": "2022-01-12T14:12:28.379203",
   "environment_variables": {},
   "exception": null,
   "input_path": "__notebook__.ipynb",
   "output_path": "__notebook__.ipynb",
   "parameters": {},
   "start_time": "2022-01-12T14:11:16.645613",
   "version": "2.3.3"
  }
 },
 "nbformat": 4,
 "nbformat_minor": 5
}
